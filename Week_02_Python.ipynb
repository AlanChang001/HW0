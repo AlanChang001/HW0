{
  "nbformat": 4,
  "nbformat_minor": 0,
  "metadata": {
    "colab": {
      "name": "Week-02-Python.ipynb",
      "provenance": [],
      "collapsed_sections": [],
      "toc_visible": true,
      "authorship_tag": "ABX9TyNhMUNQAUhk1gzhhfi9C1fO",
      "include_colab_link": true
    },
    "kernelspec": {
      "name": "python3",
      "display_name": "Python 3"
    }
  },
  "cells": [
    {
      "cell_type": "markdown",
      "metadata": {
        "id": "view-in-github",
        "colab_type": "text"
      },
      "source": [
        "<a href=\"https://colab.research.google.com/github/cs432-websci-spr20/assignments/blob/master/Week_02_Python.ipynb\" target=\"_parent\"><img src=\"https://colab.research.google.com/assets/colab-badge.svg\" alt=\"Open In Colab\"/></a>"
      ]
    },
    {
      "cell_type": "markdown",
      "metadata": {
        "id": "tV4fe0DCfd1a",
        "colab_type": "text"
      },
      "source": [
        "# CS 432/532 - Week 02 - Python\n",
        "\n",
        "This notebook goes along with the [Week-02 Python slides](https://docs.google.com/presentation/d/1QvcImKQdCGBC9vcwSVg5C4cSmlxire90WBxrNmzmci8/edit?usp=sharing) from [CS 432/532 Spring 2020](https://www.cs.odu.edu/~mweigle/CS432-S20/Home)\n",
        "\n",
        "Google Colab tutorials and references:\n",
        "* [Overview of Colaboratory Features](https://colab.research.google.com/notebooks/basic_features_overview.ipynb)\n",
        "* [Welcome to Colaboratory](https://colab.research.google.com/notebooks/welcome.ipynb)\n",
        "* [Loading Data](https://colab.research.google.com/notebooks/io.ipynb)\n",
        "* [Colab and GitHub](https://colab.research.google.com/github/googlecolab/colabtools/blob/master/notebooks/colab-github-demo.ipynb)"
      ]
    },
    {
      "cell_type": "markdown",
      "metadata": {
        "id": "uNLQepV3f9_8",
        "colab_type": "text"
      },
      "source": [
        "## Interactive Python Shell"
      ]
    },
    {
      "cell_type": "markdown",
      "metadata": {
        "id": "nHvxncu0ggRX",
        "colab_type": "text"
      },
      "source": [
        "*Print Python version used in the notebook*"
      ]
    },
    {
      "cell_type": "code",
      "metadata": {
        "id": "P8w3OpwFgAm7",
        "colab_type": "code",
        "outputId": "cf3fd10e-24ec-4283-c1e3-c1375add403f",
        "colab": {
          "base_uri": "https://localhost:8080/",
          "height": 34
        }
      },
      "source": [
        "import platform; print(platform.python_version())"
      ],
      "execution_count": 0,
      "outputs": [
        {
          "output_type": "stream",
          "text": [
            "3.6.9\n"
          ],
          "name": "stdout"
        }
      ]
    },
    {
      "cell_type": "code",
      "metadata": {
        "id": "eUnHDzUkgpHt",
        "colab_type": "code",
        "outputId": "101a8f7c-d6ea-443b-f5d7-3eb76d2817f9",
        "colab": {
          "base_uri": "https://localhost:8080/",
          "height": 221
        }
      },
      "source": [
        "help(print)"
      ],
      "execution_count": 0,
      "outputs": [
        {
          "output_type": "stream",
          "text": [
            "Help on built-in function print in module builtins:\n",
            "\n",
            "print(...)\n",
            "    print(value, ..., sep=' ', end='\\n', file=sys.stdout, flush=False)\n",
            "    \n",
            "    Prints the values to a stream, or to sys.stdout by default.\n",
            "    Optional keyword arguments:\n",
            "    file:  a file-like object (stream); defaults to the current sys.stdout.\n",
            "    sep:   string inserted between values, default a space.\n",
            "    end:   string appended after the last value, default a newline.\n",
            "    flush: whether to forcibly flush the stream.\n",
            "\n"
          ],
          "name": "stdout"
        }
      ]
    },
    {
      "cell_type": "code",
      "metadata": {
        "id": "zzeTWQzogrKw",
        "colab_type": "code",
        "outputId": "c082a084-377a-480d-ebab-a4f6abf5cf68",
        "colab": {
          "base_uri": "https://localhost:8080/",
          "height": 34
        }
      },
      "source": [
        "print(\"Hello World!\")"
      ],
      "execution_count": 0,
      "outputs": [
        {
          "output_type": "stream",
          "text": [
            "Hello World!\n"
          ],
          "name": "stdout"
        }
      ]
    },
    {
      "cell_type": "code",
      "metadata": {
        "id": "x3fS5jHrgsvF",
        "colab_type": "code",
        "outputId": "e874faa6-361d-46e4-c75b-3efdac0f3a92",
        "colab": {
          "base_uri": "https://localhost:8080/",
          "height": 34
        }
      },
      "source": [
        "2 + 3 * 4 / 5"
      ],
      "execution_count": 0,
      "outputs": [
        {
          "output_type": "execute_result",
          "data": {
            "text/plain": [
              "4.4"
            ]
          },
          "metadata": {
            "tags": []
          },
          "execution_count": 10
        }
      ]
    },
    {
      "cell_type": "markdown",
      "metadata": {
        "id": "IoMgafEvjOAS",
        "colab_type": "text"
      },
      "source": [
        "## Data Types"
      ]
    },
    {
      "cell_type": "markdown",
      "metadata": {
        "id": "M7wUX9B8hDiB",
        "colab_type": "text"
      },
      "source": [
        "### String vs. Bytes"
      ]
    },
    {
      "cell_type": "code",
      "metadata": {
        "id": "NhADk6DBhG2K",
        "colab_type": "code",
        "outputId": "b0668ff7-ee43-4889-bb50-d201c3a510ee",
        "colab": {
          "base_uri": "https://localhost:8080/",
          "height": 34
        }
      },
      "source": [
        "type(\"Hello\")"
      ],
      "execution_count": 0,
      "outputs": [
        {
          "output_type": "execute_result",
          "data": {
            "text/plain": [
              "str"
            ]
          },
          "metadata": {
            "tags": []
          },
          "execution_count": 11
        }
      ]
    },
    {
      "cell_type": "code",
      "metadata": {
        "id": "i9MyF1yihHow",
        "colab_type": "code",
        "outputId": "317fbe7f-1a0d-45cb-b567-18a6941cbfbc",
        "colab": {
          "base_uri": "https://localhost:8080/",
          "height": 34
        }
      },
      "source": [
        "type(b\"Hello\")"
      ],
      "execution_count": 0,
      "outputs": [
        {
          "output_type": "execute_result",
          "data": {
            "text/plain": [
              "bytes"
            ]
          },
          "metadata": {
            "tags": []
          },
          "execution_count": 12
        }
      ]
    },
    {
      "cell_type": "code",
      "metadata": {
        "id": "ZL9huvCGhJKo",
        "colab_type": "code",
        "outputId": "df070e3c-9dcc-42cd-84e2-3412dea895ce",
        "colab": {
          "base_uri": "https://localhost:8080/",
          "height": 34
        }
      },
      "source": [
        "b\"Hello\".decode()"
      ],
      "execution_count": 0,
      "outputs": [
        {
          "output_type": "execute_result",
          "data": {
            "text/plain": [
              "'Hello'"
            ]
          },
          "metadata": {
            "tags": []
          },
          "execution_count": 13
        }
      ]
    },
    {
      "cell_type": "code",
      "metadata": {
        "id": "gcoqJCW8hKdA",
        "colab_type": "code",
        "outputId": "231e4b92-2ef6-4364-9210-1b36eb32ae62",
        "colab": {
          "base_uri": "https://localhost:8080/",
          "height": 34
        }
      },
      "source": [
        "\"Hello\".encode()"
      ],
      "execution_count": 0,
      "outputs": [
        {
          "output_type": "execute_result",
          "data": {
            "text/plain": [
              "b'Hello'"
            ]
          },
          "metadata": {
            "tags": []
          },
          "execution_count": 14
        }
      ]
    },
    {
      "cell_type": "markdown",
      "metadata": {
        "id": "M1NtxPrUh8mv",
        "colab_type": "text"
      },
      "source": [
        "### List"
      ]
    },
    {
      "cell_type": "code",
      "metadata": {
        "id": "-XNaG2R5h95X",
        "colab_type": "code",
        "colab": {}
      },
      "source": [
        "mylist = [0, 'a', \"hello\", 1, 2, ['b', 'c', 'd']]"
      ],
      "execution_count": 0,
      "outputs": []
    },
    {
      "cell_type": "code",
      "metadata": {
        "id": "Vj3W47_XixpA",
        "colab_type": "code",
        "outputId": "e9eaea3e-573a-465b-d472-c7ac440feec5",
        "colab": {
          "base_uri": "https://localhost:8080/",
          "height": 34
        }
      },
      "source": [
        "mylist [1]"
      ],
      "execution_count": 0,
      "outputs": [
        {
          "output_type": "execute_result",
          "data": {
            "text/plain": [
              "'a'"
            ]
          },
          "metadata": {
            "tags": []
          },
          "execution_count": 20
        }
      ]
    },
    {
      "cell_type": "code",
      "metadata": {
        "id": "gp_sA2pFiyOW",
        "colab_type": "code",
        "outputId": "d1379e03-30db-45a2-814d-c018798b9056",
        "colab": {
          "base_uri": "https://localhost:8080/",
          "height": 34
        }
      },
      "source": [
        "mylist [5][1]"
      ],
      "execution_count": 0,
      "outputs": [
        {
          "output_type": "execute_result",
          "data": {
            "text/plain": [
              "'c'"
            ]
          },
          "metadata": {
            "tags": []
          },
          "execution_count": 21
        }
      ]
    },
    {
      "cell_type": "code",
      "metadata": {
        "id": "1HiqElADizYv",
        "colab_type": "code",
        "outputId": "e6dc53ef-13aa-4918-dd40-b2502482548d",
        "colab": {
          "base_uri": "https://localhost:8080/",
          "height": 34
        }
      },
      "source": [
        "mylist[1:3]"
      ],
      "execution_count": 0,
      "outputs": [
        {
          "output_type": "execute_result",
          "data": {
            "text/plain": [
              "['a', 'hello']"
            ]
          },
          "metadata": {
            "tags": []
          },
          "execution_count": 22
        }
      ]
    },
    {
      "cell_type": "code",
      "metadata": {
        "id": "gPW8jbx5i0jI",
        "colab_type": "code",
        "outputId": "01212cf8-57db-41d5-df2f-7f2693d886cf",
        "colab": {
          "base_uri": "https://localhost:8080/",
          "height": 34
        }
      },
      "source": [
        "mylist[:2]"
      ],
      "execution_count": 0,
      "outputs": [
        {
          "output_type": "execute_result",
          "data": {
            "text/plain": [
              "[0, 'a']"
            ]
          },
          "metadata": {
            "tags": []
          },
          "execution_count": 23
        }
      ]
    },
    {
      "cell_type": "code",
      "metadata": {
        "id": "ZmwsmgNxi16m",
        "colab_type": "code",
        "outputId": "b6ea7847-48d0-4a7c-a1ea-f96d0fe3489b",
        "colab": {
          "base_uri": "https://localhost:8080/",
          "height": 34
        }
      },
      "source": [
        "mylist[3:]"
      ],
      "execution_count": 0,
      "outputs": [
        {
          "output_type": "execute_result",
          "data": {
            "text/plain": [
              "[1, 2, ['b', 'c', 'd']]"
            ]
          },
          "metadata": {
            "tags": []
          },
          "execution_count": 24
        }
      ]
    },
    {
      "cell_type": "code",
      "metadata": {
        "id": "kT85-teZi5mF",
        "colab_type": "code",
        "outputId": "c3743a28-2d86-4a99-86b0-f0f533cf5edf",
        "colab": {
          "base_uri": "https://localhost:8080/",
          "height": 34
        }
      },
      "source": [
        "mylist.remove('a')\n",
        "mylist"
      ],
      "execution_count": 0,
      "outputs": [
        {
          "output_type": "execute_result",
          "data": {
            "text/plain": [
              "[0, 'hello', 1, 2, ['b', 'c', 'd']]"
            ]
          },
          "metadata": {
            "tags": []
          },
          "execution_count": 25
        }
      ]
    },
    {
      "cell_type": "markdown",
      "metadata": {
        "id": "j8qhpJwrjDQU",
        "colab_type": "text"
      },
      "source": [
        "### Tuple"
      ]
    },
    {
      "cell_type": "code",
      "metadata": {
        "id": "6DCmir_NjEuE",
        "colab_type": "code",
        "outputId": "8159e941-5a7b-42e6-fe47-eac01a618d1b",
        "colab": {
          "base_uri": "https://localhost:8080/",
          "height": 34
        }
      },
      "source": [
        "X = (0, 1, 2, 3, 4)\n",
        "print (X[3])"
      ],
      "execution_count": 0,
      "outputs": [
        {
          "output_type": "stream",
          "text": [
            "3\n"
          ],
          "name": "stdout"
        }
      ]
    },
    {
      "cell_type": "markdown",
      "metadata": {
        "id": "5eSzWzhHjKNr",
        "colab_type": "text"
      },
      "source": [
        "### Dictionary"
      ]
    },
    {
      "cell_type": "code",
      "metadata": {
        "id": "d87Z9hTzjVY6",
        "colab_type": "code",
        "colab": {}
      },
      "source": [
        "marks = {\"science\": 90, \"art\": 25}\n",
        "print(marks[\"art\"])"
      ],
      "execution_count": 0,
      "outputs": []
    },
    {
      "cell_type": "code",
      "metadata": {
        "id": "U4QpYaEajX-5",
        "colab_type": "code",
        "colab": {}
      },
      "source": [
        "marks[\"chemistry\"] = 75"
      ],
      "execution_count": 0,
      "outputs": []
    },
    {
      "cell_type": "code",
      "metadata": {
        "id": "9Fv4xOh5jZaa",
        "colab_type": "code",
        "colab": {}
      },
      "source": [
        "print(marks.keys())"
      ],
      "execution_count": 0,
      "outputs": []
    },
    {
      "cell_type": "code",
      "metadata": {
        "id": "Na0AazoOjanZ",
        "colab_type": "code",
        "outputId": "018df20d-2e25-4a5e-c8f4-415026c46968",
        "colab": {
          "base_uri": "https://localhost:8080/",
          "height": 34
        }
      },
      "source": [
        "dict = { \"fish\": 12, \"cat\": 7}\n",
        "'dog' in dict"
      ],
      "execution_count": 0,
      "outputs": [
        {
          "output_type": "execute_result",
          "data": {
            "text/plain": [
              "False"
            ]
          },
          "metadata": {
            "tags": []
          },
          "execution_count": 27
        }
      ]
    },
    {
      "cell_type": "code",
      "metadata": {
        "id": "1_fTtk35jmMA",
        "colab_type": "code",
        "colab": {}
      },
      "source": [
        "dict.keys()"
      ],
      "execution_count": 0,
      "outputs": []
    },
    {
      "cell_type": "code",
      "metadata": {
        "id": "qexlAgcqjiX3",
        "colab_type": "code",
        "outputId": "4a24f9f8-8c07-49d2-a39e-3cd73b1a5da5",
        "colab": {
          "base_uri": "https://localhost:8080/",
          "height": 34
        }
      },
      "source": [
        "dict.values()"
      ],
      "execution_count": 0,
      "outputs": [
        {
          "output_type": "execute_result",
          "data": {
            "text/plain": [
              "dict_values([12, 7])"
            ]
          },
          "metadata": {
            "tags": []
          },
          "execution_count": 28
        }
      ]
    },
    {
      "cell_type": "code",
      "metadata": {
        "id": "kb7TSQ_Xjnlv",
        "colab_type": "code",
        "colab": {}
      },
      "source": [
        "dict.items()"
      ],
      "execution_count": 0,
      "outputs": []
    },
    {
      "cell_type": "code",
      "metadata": {
        "id": "K837kgunjovX",
        "colab_type": "code",
        "outputId": "4172391c-3724-4379-8b50-46cdaf3fb070",
        "colab": {
          "base_uri": "https://localhost:8080/",
          "height": 34
        }
      },
      "source": [
        "dict[\"fish\"] = 14\n",
        "dict.items()"
      ],
      "execution_count": 0,
      "outputs": [
        {
          "output_type": "execute_result",
          "data": {
            "text/plain": [
              "dict_items([('fish', 14), ('cat', 7)])"
            ]
          },
          "metadata": {
            "tags": []
          },
          "execution_count": 29
        }
      ]
    },
    {
      "cell_type": "markdown",
      "metadata": {
        "id": "JLsPl9MSjzc-",
        "colab_type": "text"
      },
      "source": [
        "### Variables"
      ]
    },
    {
      "cell_type": "code",
      "metadata": {
        "id": "bzisbt3Jj0dk",
        "colab_type": "code",
        "outputId": "aac716bb-a0df-4185-c77a-059a827eba9d",
        "colab": {
          "base_uri": "https://localhost:8080/",
          "height": 34
        }
      },
      "source": [
        "X = ['a', 'b', 'c']\n",
        "Y = X\n",
        "Y.append('d')\n",
        "print(X)"
      ],
      "execution_count": 0,
      "outputs": [
        {
          "output_type": "stream",
          "text": [
            "['a', 'b', 'c', 'd']\n"
          ],
          "name": "stdout"
        }
      ]
    },
    {
      "cell_type": "markdown",
      "metadata": {
        "id": "QcGngIrMj85c",
        "colab_type": "text"
      },
      "source": [
        "## User Input"
      ]
    },
    {
      "cell_type": "code",
      "metadata": {
        "id": "wmI0ZcZ2j-Ic",
        "colab_type": "code",
        "outputId": "27fe8560-6f54-4896-87c8-cc5d1de51e89",
        "colab": {
          "base_uri": "https://localhost:8080/",
          "height": 51
        }
      },
      "source": [
        "x = input()\n",
        "x"
      ],
      "execution_count": 0,
      "outputs": [
        {
          "output_type": "stream",
          "text": [
            "3\n"
          ],
          "name": "stdout"
        },
        {
          "output_type": "execute_result",
          "data": {
            "text/plain": [
              "'3'"
            ]
          },
          "metadata": {
            "tags": []
          },
          "execution_count": 31
        }
      ]
    },
    {
      "cell_type": "code",
      "metadata": {
        "id": "MP7atIqwkB3k",
        "colab_type": "code",
        "outputId": "ccc192fd-c2a2-4ddf-9a34-8c4746c75cf4",
        "colab": {
          "base_uri": "https://localhost:8080/",
          "height": 51
        }
      },
      "source": [
        "x = input('Enter the number: ')\n",
        "x"
      ],
      "execution_count": 0,
      "outputs": [
        {
          "output_type": "stream",
          "text": [
            "Enter the number: 3\n"
          ],
          "name": "stdout"
        },
        {
          "output_type": "execute_result",
          "data": {
            "text/plain": [
              "'3'"
            ]
          },
          "metadata": {
            "tags": []
          },
          "execution_count": 32
        }
      ]
    },
    {
      "cell_type": "markdown",
      "metadata": {
        "id": "RtJ44zr1kH-S",
        "colab_type": "text"
      },
      "source": [
        "Evaluate User Input"
      ]
    },
    {
      "cell_type": "code",
      "metadata": {
        "id": "qpt3qq9pkJvi",
        "colab_type": "code",
        "outputId": "52d7b4a3-4113-4176-e668-61152cb77238",
        "colab": {
          "base_uri": "https://localhost:8080/",
          "height": 34
        }
      },
      "source": [
        "x = input()"
      ],
      "execution_count": 0,
      "outputs": [
        {
          "output_type": "stream",
          "text": [
            "3+4\n"
          ],
          "name": "stdout"
        }
      ]
    },
    {
      "cell_type": "code",
      "metadata": {
        "id": "33SOiTMvkNpi",
        "colab_type": "code",
        "outputId": "81d9fe00-ebbd-4393-891a-f7d0ac8addc3",
        "colab": {
          "base_uri": "https://localhost:8080/",
          "height": 34
        }
      },
      "source": [
        "x"
      ],
      "execution_count": 0,
      "outputs": [
        {
          "output_type": "execute_result",
          "data": {
            "text/plain": [
              "'3+4'"
            ]
          },
          "metadata": {
            "tags": []
          },
          "execution_count": 34
        }
      ]
    },
    {
      "cell_type": "code",
      "metadata": {
        "id": "xFxC06rzkO5x",
        "colab_type": "code",
        "outputId": "0bcf754b-202a-43ea-c26c-6a39b1b89ce6",
        "colab": {
          "base_uri": "https://localhost:8080/",
          "height": 34
        }
      },
      "source": [
        "eval(x)"
      ],
      "execution_count": 0,
      "outputs": [
        {
          "output_type": "execute_result",
          "data": {
            "text/plain": [
              "7"
            ]
          },
          "metadata": {
            "tags": []
          },
          "execution_count": 35
        }
      ]
    },
    {
      "cell_type": "markdown",
      "metadata": {
        "id": "q5Q_HhkukUKg",
        "colab_type": "text"
      },
      "source": [
        "## Files\n",
        "\n",
        "### Reading"
      ]
    },
    {
      "cell_type": "code",
      "metadata": {
        "id": "wpm8JUxsFavc",
        "colab_type": "code",
        "colab": {
          "base_uri": "https://localhost:8080/",
          "height": 54
        },
        "outputId": "4df29def-75b6-4134-d09c-8c89197daa9b"
      },
      "source": [
        "from google.colab import drive\n",
        "drive.mount('/content/drive')"
      ],
      "execution_count": 32,
      "outputs": [
        {
          "output_type": "stream",
          "text": [
            "Drive already mounted at /content/drive; to attempt to forcibly remount, call drive.mount(\"/content/drive\", force_remount=True).\n"
          ],
          "name": "stdout"
        }
      ]
    },
    {
      "cell_type": "markdown",
      "metadata": {
        "id": "WrjKbkecGq9s",
        "colab_type": "text"
      },
      "source": [
        "*read one line from file in Google Drive*"
      ]
    },
    {
      "cell_type": "code",
      "metadata": {
        "id": "egV54Xl3Ft55",
        "colab_type": "code",
        "colab": {
          "base_uri": "https://localhost:8080/",
          "height": 52
        },
        "outputId": "a095ed6b-847e-436d-a127-2d2308c62962"
      },
      "source": [
        "f = open(\"/content/drive/My Drive/test.txt\", \"r\")\n",
        "line = f.readline()\n",
        "print (line)\n",
        "f.close()"
      ],
      "execution_count": 31,
      "outputs": [
        {
          "output_type": "stream",
          "text": [
            "This is CS 432/532 test data to be read in by Google Colab.\n",
            "\n"
          ],
          "name": "stdout"
        }
      ]
    },
    {
      "cell_type": "markdown",
      "metadata": {
        "id": "_6xa4Iy4GuzI",
        "colab_type": "text"
      },
      "source": [
        "*read all lines in from file in Google Drive*"
      ]
    },
    {
      "cell_type": "code",
      "metadata": {
        "id": "Pn-RStabGxSA",
        "colab_type": "code",
        "colab": {
          "base_uri": "https://localhost:8080/",
          "height": 191
        },
        "outputId": "201e3db9-31db-4cff-cf57-14462961421d"
      },
      "source": [
        "f = open(\"/content/drive/My Drive/test.txt\", \"r\")\n",
        "lines = f.readlines()\n",
        "for line in lines:\n",
        "  print (line)\n",
        "f.close()"
      ],
      "execution_count": 35,
      "outputs": [
        {
          "output_type": "stream",
          "text": [
            "This is CS 432/532 test data to be read in by Google Colab.\n",
            "\n",
            "Line 2\n",
            "\n",
            "Line 3\n",
            "\n",
            "Line 4\n",
            "\n",
            "EOF\n",
            "\n"
          ],
          "name": "stdout"
        }
      ]
    },
    {
      "cell_type": "code",
      "metadata": {
        "id": "yuDZnasuGiBq",
        "colab_type": "code",
        "colab": {}
      },
      "source": [
        "drive.flush_and_unmount()"
      ],
      "execution_count": 0,
      "outputs": []
    },
    {
      "cell_type": "markdown",
      "metadata": {
        "id": "AC7SeBMBk4yC",
        "colab_type": "text"
      },
      "source": [
        "## Control Flow"
      ]
    },
    {
      "cell_type": "markdown",
      "metadata": {
        "id": "QgYUI4Iurhxv",
        "colab_type": "text"
      },
      "source": [
        "### Conditional"
      ]
    },
    {
      "cell_type": "code",
      "metadata": {
        "id": "6z7aezvflF_H",
        "colab_type": "code",
        "outputId": "b5640951-9455-4307-d703-eae4575d202a",
        "colab": {
          "base_uri": "https://localhost:8080/",
          "height": 34
        }
      },
      "source": [
        "score = input ('Enter the score: ')"
      ],
      "execution_count": 0,
      "outputs": [
        {
          "output_type": "stream",
          "text": [
            "Enter the score: 100\n"
          ],
          "name": "stdout"
        }
      ]
    },
    {
      "cell_type": "markdown",
      "metadata": {
        "id": "k_tf6VGElb1l",
        "colab_type": "text"
      },
      "source": [
        "*Need to convert user input `score` to integer before entering conditional*"
      ]
    },
    {
      "cell_type": "code",
      "metadata": {
        "id": "tVHast0jlX5E",
        "colab_type": "code",
        "colab": {}
      },
      "source": [
        "score = int(score)"
      ],
      "execution_count": 0,
      "outputs": []
    },
    {
      "cell_type": "code",
      "metadata": {
        "id": "g_ZK5FNxk8CZ",
        "colab_type": "code",
        "outputId": "11897efb-0060-447d-9a89-5487770deee0",
        "colab": {
          "base_uri": "https://localhost:8080/",
          "height": 34
        }
      },
      "source": [
        "if score == 100:\n",
        "      print(\"You scored a hundred!\")\n",
        "elif score > 80:\n",
        "      print(\"You are an awesome student!\")\n",
        "else:\n",
        "      print(\"Go and study!\")"
      ],
      "execution_count": 0,
      "outputs": [
        {
          "output_type": "stream",
          "text": [
            "You scored a hundred!\n"
          ],
          "name": "stdout"
        }
      ]
    },
    {
      "cell_type": "markdown",
      "metadata": {
        "id": "4R1sV23hrmMG",
        "colab_type": "text"
      },
      "source": [
        "### While"
      ]
    },
    {
      "cell_type": "code",
      "metadata": {
        "id": "TWs8eFvYro3g",
        "colab_type": "code",
        "outputId": "d3f4941e-d47e-4e5a-9a1d-7ea4493508db",
        "colab": {
          "base_uri": "https://localhost:8080/",
          "height": 187
        }
      },
      "source": [
        "i = 0\n",
        "while i < 10:\n",
        "    print(i)\n",
        "    i = i + 1"
      ],
      "execution_count": 0,
      "outputs": [
        {
          "output_type": "stream",
          "text": [
            "0\n",
            "1\n",
            "2\n",
            "3\n",
            "4\n",
            "5\n",
            "6\n",
            "7\n",
            "8\n",
            "9\n"
          ],
          "name": "stdout"
        }
      ]
    },
    {
      "cell_type": "markdown",
      "metadata": {
        "id": "PjxceQ2grwnB",
        "colab_type": "text"
      },
      "source": [
        "### For"
      ]
    },
    {
      "cell_type": "code",
      "metadata": {
        "id": "Tc0VlzqcryRH",
        "colab_type": "code",
        "outputId": "3b898175-44a4-48c0-bb1a-bb39854be282",
        "colab": {
          "base_uri": "https://localhost:8080/",
          "height": 187
        }
      },
      "source": [
        "for i in range(10):\n",
        "\t print(i)"
      ],
      "execution_count": 0,
      "outputs": [
        {
          "output_type": "stream",
          "text": [
            "0\n",
            "1\n",
            "2\n",
            "3\n",
            "4\n",
            "5\n",
            "6\n",
            "7\n",
            "8\n",
            "9\n"
          ],
          "name": "stdout"
        }
      ]
    },
    {
      "cell_type": "markdown",
      "metadata": {
        "id": "HywCYgHThUiy",
        "colab_type": "text"
      },
      "source": [
        "*Here are a few more examples about `range()`, using start, stop, step arguments*"
      ]
    },
    {
      "cell_type": "code",
      "metadata": {
        "id": "zbilbrtVhZMW",
        "colab_type": "code",
        "outputId": "a772aa46-4ddd-4f62-bd8d-30c8874589bf",
        "colab": {
          "base_uri": "https://localhost:8080/",
          "height": 104
        }
      },
      "source": [
        "for i in range (1, 6):\n",
        "  print (i)"
      ],
      "execution_count": 0,
      "outputs": [
        {
          "output_type": "stream",
          "text": [
            "1\n",
            "2\n",
            "3\n",
            "4\n",
            "5\n"
          ],
          "name": "stdout"
        }
      ]
    },
    {
      "cell_type": "code",
      "metadata": {
        "id": "pWEoj7tYkZMW",
        "colab_type": "code",
        "outputId": "89434316-8023-47a0-a0fd-0465b3e9ada1",
        "colab": {
          "base_uri": "https://localhost:8080/",
          "height": 69
        }
      },
      "source": [
        "for i in range (1, 6, 2):\n",
        "  print(i)"
      ],
      "execution_count": 0,
      "outputs": [
        {
          "output_type": "stream",
          "text": [
            "1\n",
            "3\n",
            "5\n"
          ],
          "name": "stdout"
        }
      ]
    },
    {
      "cell_type": "code",
      "metadata": {
        "id": "USTtXjlAr3R2",
        "colab_type": "code",
        "outputId": "dab5c381-951d-4c3e-fc74-f8039520a3ad",
        "colab": {
          "base_uri": "https://localhost:8080/",
          "height": 102
        }
      },
      "source": [
        "myList = ['hany', 'john', 'smith', 'aly', 'max']\n",
        "for name in myList:\n",
        "  print(name)"
      ],
      "execution_count": 0,
      "outputs": [
        {
          "output_type": "stream",
          "text": [
            "hany\n",
            "john\n",
            "smith\n",
            "aly\n",
            "max\n"
          ],
          "name": "stdout"
        }
      ]
    },
    {
      "cell_type": "markdown",
      "metadata": {
        "id": "nqqYzlF-r_tk",
        "colab_type": "text"
      },
      "source": [
        "### Blocks"
      ]
    },
    {
      "cell_type": "code",
      "metadata": {
        "id": "ISdcNb8IsA40",
        "colab_type": "code",
        "outputId": "e3dbad7b-08d6-425b-84a9-1a6c318d2c18",
        "colab": {
          "base_uri": "https://localhost:8080/",
          "height": 119
        }
      },
      "source": [
        "for i in range(3):\n",
        "    print(\"Iteration {}\".format(i))\n",
        "    print(\"Done!\")"
      ],
      "execution_count": 0,
      "outputs": [
        {
          "output_type": "stream",
          "text": [
            "Iteration 0\n",
            "Done!\n",
            "Iteration 1\n",
            "Done!\n",
            "Iteration 2\n",
            "Done!\n"
          ],
          "name": "stdout"
        }
      ]
    },
    {
      "cell_type": "markdown",
      "metadata": {
        "id": "_goQynvysFvb",
        "colab_type": "text"
      },
      "source": [
        "*Only change is in indentation...*"
      ]
    },
    {
      "cell_type": "code",
      "metadata": {
        "id": "MLsCSveasDWs",
        "colab_type": "code",
        "outputId": "e55bf890-bd71-4794-a510-b7f0175cbf0b",
        "colab": {
          "base_uri": "https://localhost:8080/",
          "height": 85
        }
      },
      "source": [
        "for i in range(3):\n",
        "    print(\"Iteration {}\".format(i))\n",
        "print(\"Done!\")\n"
      ],
      "execution_count": 0,
      "outputs": [
        {
          "output_type": "stream",
          "text": [
            "Iteration 0\n",
            "Iteration 1\n",
            "Iteration 2\n",
            "Done!\n"
          ],
          "name": "stdout"
        }
      ]
    },
    {
      "cell_type": "markdown",
      "metadata": {
        "id": "gZv3uQirsTsC",
        "colab_type": "text"
      },
      "source": [
        "***Come back to Loop over File Iterator***"
      ]
    },
    {
      "cell_type": "code",
      "metadata": {
        "id": "_-xjPHpLsWNR",
        "colab_type": "code",
        "colab": {}
      },
      "source": [
        "f = open (\"my_ file.txt\", \"r\")\n",
        "for line in f:\n",
        "  print(line)"
      ],
      "execution_count": 0,
      "outputs": []
    },
    {
      "cell_type": "markdown",
      "metadata": {
        "id": "P0vF17BKscOo",
        "colab_type": "text"
      },
      "source": [
        "### Block Operators"
      ]
    },
    {
      "cell_type": "markdown",
      "metadata": {
        "id": "fPH6Qac2shkn",
        "colab_type": "text"
      },
      "source": [
        "*`pass` - means to do nothing*"
      ]
    },
    {
      "cell_type": "code",
      "metadata": {
        "id": "ggm4HIaZsfXH",
        "colab_type": "code",
        "colab": {}
      },
      "source": [
        "x = 85\n",
        "if x > 80:\n",
        "\tpass\n",
        "else:\n",
        "\tprint(\"You are less than 80!\")"
      ],
      "execution_count": 0,
      "outputs": []
    },
    {
      "cell_type": "markdown",
      "metadata": {
        "id": "7ao0PiOUsxqn",
        "colab_type": "text"
      },
      "source": [
        "*`break` - same as in C++, quit the loop*"
      ]
    },
    {
      "cell_type": "code",
      "metadata": {
        "id": "IEkwdr8Xs0_6",
        "colab_type": "code",
        "outputId": "60002d93-dbab-47f6-9482-97941de924ae",
        "colab": {
          "base_uri": "https://localhost:8080/",
          "height": 68
        }
      },
      "source": [
        "for name in myList:\n",
        "\tif name == \"aly\":\n",
        "\t\tbreak\n",
        "\telse:\n",
        "\t\tprint(name)"
      ],
      "execution_count": 0,
      "outputs": [
        {
          "output_type": "stream",
          "text": [
            "hany\n",
            "john\n",
            "smith\n"
          ],
          "name": "stdout"
        }
      ]
    },
    {
      "cell_type": "markdown",
      "metadata": {
        "id": "ecvoSC1Js5VM",
        "colab_type": "text"
      },
      "source": [
        "*`continue` - same as in C++, continue to the next iteration*"
      ]
    },
    {
      "cell_type": "code",
      "metadata": {
        "id": "0Mrs190-s9Ki",
        "colab_type": "code",
        "outputId": "009690b9-41a1-4b2f-9efc-c92d18e3eb6f",
        "colab": {
          "base_uri": "https://localhost:8080/",
          "height": 85
        }
      },
      "source": [
        "for name in myList:\n",
        "\tif name == \"aly\":\n",
        "\t\tcontinue\n",
        "\telse:\n",
        "\t\tprint(name)"
      ],
      "execution_count": 0,
      "outputs": [
        {
          "output_type": "stream",
          "text": [
            "hany\n",
            "john\n",
            "smith\n",
            "max\n"
          ],
          "name": "stdout"
        }
      ]
    },
    {
      "cell_type": "markdown",
      "metadata": {
        "id": "jiF5omPgtEYZ",
        "colab_type": "text"
      },
      "source": [
        "## Functions"
      ]
    },
    {
      "cell_type": "markdown",
      "metadata": {
        "id": "0AXF8pARtJrg",
        "colab_type": "text"
      },
      "source": [
        "*How can we find the largest number in a list?*\n",
        "\n",
        "**Option 1:** hard-code the logic"
      ]
    },
    {
      "cell_type": "code",
      "metadata": {
        "id": "tuI20k_ytOhH",
        "colab_type": "code",
        "outputId": "ae3014e1-7995-4a1d-9b9e-4caca4649951",
        "colab": {
          "base_uri": "https://localhost:8080/",
          "height": 34
        }
      },
      "source": [
        "mylist = [2,5,3,7,1,8,12,4]\n",
        "maxnum = 0\n",
        "for num in mylist:\n",
        "\tif (num>maxnum):\n",
        "\t\tmaxnum = num\n",
        "print(\"The largest number is {}\".format(maxnum))"
      ],
      "execution_count": 0,
      "outputs": [
        {
          "output_type": "stream",
          "text": [
            "The largest number is: 12\n"
          ],
          "name": "stdout"
        }
      ]
    },
    {
      "cell_type": "markdown",
      "metadata": {
        "id": "QC1FO49QtbCY",
        "colab_type": "text"
      },
      "source": [
        "**Option 2:** write and use a function"
      ]
    },
    {
      "cell_type": "code",
      "metadata": {
        "id": "sVO9PkF1tnFb",
        "colab_type": "code",
        "colab": {}
      },
      "source": [
        "def getMaxNumber(list_x):\n",
        "  maxnum = 0\n",
        "  for num in list_x: \n",
        "    if (num > maxnum):\n",
        "      maxnum = num\n",
        "  return maxnum"
      ],
      "execution_count": 0,
      "outputs": []
    },
    {
      "cell_type": "code",
      "metadata": {
        "id": "DzeKzLO9tgyr",
        "colab_type": "code",
        "outputId": "499cd4e7-bba9-4f97-affb-adbe9ee4ee1c",
        "colab": {
          "base_uri": "https://localhost:8080/",
          "height": 34
        }
      },
      "source": [
        "maxnum = getMaxNumber(mylist)\n",
        "print(\"The largest number is {}\".format(maxnum))"
      ],
      "execution_count": 0,
      "outputs": [
        {
          "output_type": "stream",
          "text": [
            "The largest number is: 12\n"
          ],
          "name": "stdout"
        }
      ]
    },
    {
      "cell_type": "markdown",
      "metadata": {
        "id": "4BV0fB1OwsCa",
        "colab_type": "text"
      },
      "source": [
        "*Let's add code to run some test cases on the function. `doctest` allows us to provide example function calls and expected output.*"
      ]
    },
    {
      "cell_type": "code",
      "metadata": {
        "id": "MW0qrgE2trGz",
        "colab_type": "code",
        "outputId": "5c6b9c9d-c3c3-4779-e7a6-e43ce73a7132",
        "colab": {
          "base_uri": "https://localhost:8080/",
          "height": 221
        }
      },
      "source": [
        "def getMaxNumber(list_x):\n",
        "  \"\"\"\n",
        "  Returns the maximum number from the supplied list\n",
        "  >>> getMaxNumber([4, 7, 2, 5])\n",
        "  7\n",
        "  >>> getMaxNumber([-3, 9, 2])\n",
        "  9\n",
        "  >>> getMaxNumber([-3, -7, -1])\n",
        "  -1\n",
        "  \"\"\"\n",
        "  maxnum = 0\n",
        "  for num in list_x:\n",
        "    if (num>maxnum):\n",
        "      maxnum = num\n",
        "  return maxnum\n",
        "\n",
        "if __name__ == '__main__':\n",
        "  import doctest\n",
        "  doctest.testmod()"
      ],
      "execution_count": 0,
      "outputs": [
        {
          "output_type": "stream",
          "text": [
            "**********************************************************************\n",
            "File \"__main__\", line 8, in __main__.getMaxNumber\n",
            "Failed example:\n",
            "    getMaxNumber([-3, -7, -1])\n",
            "Expected:\n",
            "    -1\n",
            "Got:\n",
            "    0\n",
            "**********************************************************************\n",
            "1 items had failures:\n",
            "   1 of   3 in __main__.getMaxNumber\n",
            "***Test Failed*** 1 failures.\n"
          ],
          "name": "stdout"
        }
      ]
    },
    {
      "cell_type": "markdown",
      "metadata": {
        "id": "UBa4MFEFyX1P",
        "colab_type": "text"
      },
      "source": [
        "*What went wrong? `maxnum = 0`*"
      ]
    },
    {
      "cell_type": "code",
      "metadata": {
        "id": "-ZjiPoV4ybIf",
        "colab_type": "code",
        "colab": {}
      },
      "source": [
        "def getMaxNumber2(list_x):\n",
        "  maxnum = list_x[0]\n",
        "  for num in list_x:\n",
        "    if (num>maxnum):\n",
        "      maxnum = num\n",
        "  return maxnum"
      ],
      "execution_count": 0,
      "outputs": []
    },
    {
      "cell_type": "code",
      "metadata": {
        "id": "oyY_vi1NzsQc",
        "colab_type": "code",
        "outputId": "2d0e20cf-b0fa-46c1-83b5-0fdeb3bdd5f0",
        "colab": {
          "base_uri": "https://localhost:8080/",
          "height": 34
        }
      },
      "source": [
        "getMaxNumber2([-3, -7, -1])"
      ],
      "execution_count": 0,
      "outputs": [
        {
          "output_type": "execute_result",
          "data": {
            "text/plain": [
              "-1"
            ]
          },
          "metadata": {
            "tags": []
          },
          "execution_count": 27
        }
      ]
    },
    {
      "cell_type": "markdown",
      "metadata": {
        "id": "dMsMDDtMxRPG",
        "colab_type": "text"
      },
      "source": [
        "*There's actually already a built-in function for this...*"
      ]
    },
    {
      "cell_type": "code",
      "metadata": {
        "id": "XTGfkvUxxU2a",
        "colab_type": "code",
        "outputId": "0ecdcc7b-726f-4388-c03c-ddfbe7633499",
        "colab": {
          "base_uri": "https://localhost:8080/",
          "height": 34
        }
      },
      "source": [
        "max([-3, -7, -1])"
      ],
      "execution_count": 0,
      "outputs": [
        {
          "output_type": "execute_result",
          "data": {
            "text/plain": [
              "-1"
            ]
          },
          "metadata": {
            "tags": []
          },
          "execution_count": 19
        }
      ]
    },
    {
      "cell_type": "markdown",
      "metadata": {
        "id": "lPeC56220JxD",
        "colab_type": "text"
      },
      "source": [
        "*Functions can also return multiple values*"
      ]
    },
    {
      "cell_type": "code",
      "metadata": {
        "id": "lzbVAxbL0MpL",
        "colab_type": "code",
        "colab": {}
      },
      "source": [
        "def getMaxNumberAndIndex(list_x):\n",
        "  maxnum = list_x[0]\n",
        "  index = -1\n",
        "  i = 0\n",
        "  for num in list_x:\n",
        "\t  if (num>maxnum):\n",
        "\t  \tmaxnum = num\n",
        "\t  \tindex = i\n",
        "\t  i = i + 1\n",
        "  return maxnum, index"
      ],
      "execution_count": 0,
      "outputs": []
    },
    {
      "cell_type": "code",
      "metadata": {
        "id": "T6kVOVrW0X6o",
        "colab_type": "code",
        "outputId": "9eeda828-b386-410b-f947-763511820732",
        "colab": {
          "base_uri": "https://localhost:8080/",
          "height": 34
        }
      },
      "source": [
        "mylist = [2,5,3,7,1,8,12,4]\n",
        "maxnum, idx = getMaxNumberAndIndex(mylist)\n",
        "print(\"The largest number is {} and its index is {}\" . format(maxnum, idx))"
      ],
      "execution_count": 0,
      "outputs": [
        {
          "output_type": "stream",
          "text": [
            "The largest number is 12 and its index is 6\n"
          ],
          "name": "stdout"
        }
      ]
    },
    {
      "cell_type": "markdown",
      "metadata": {
        "id": "om9sGyskSEnB",
        "colab_type": "text"
      },
      "source": [
        "## Using Libraries"
      ]
    },
    {
      "cell_type": "code",
      "metadata": {
        "id": "Qx-DbyhbSJNh",
        "colab_type": "code",
        "outputId": "10faa9dc-cf32-4e76-b634-c9e060c224fc",
        "colab": {
          "base_uri": "https://localhost:8080/",
          "height": 34
        }
      },
      "source": [
        "import math\n",
        "print (math.sqrt(9.0))"
      ],
      "execution_count": 0,
      "outputs": [
        {
          "output_type": "stream",
          "text": [
            "3.0\n"
          ],
          "name": "stdout"
        }
      ]
    },
    {
      "cell_type": "code",
      "metadata": {
        "id": "iQVfCC5ZSTW-",
        "colab_type": "code",
        "outputId": "11b065a6-b9e3-4166-d8d3-8884720a5f22",
        "colab": {
          "base_uri": "https://localhost:8080/",
          "height": 34
        }
      },
      "source": [
        "from math import sqrt\n",
        "print (sqrt(25.0))\n"
      ],
      "execution_count": 0,
      "outputs": [
        {
          "output_type": "stream",
          "text": [
            "5.0\n"
          ],
          "name": "stdout"
        }
      ]
    },
    {
      "cell_type": "markdown",
      "metadata": {
        "id": "kU-9iRvbXghj",
        "colab_type": "text"
      },
      "source": [
        "## Error Handling"
      ]
    },
    {
      "cell_type": "code",
      "metadata": {
        "id": "1mH4qa17XiDt",
        "colab_type": "code",
        "outputId": "d5bc4c8b-66c0-487a-bc99-4f76d237be0b",
        "colab": {
          "base_uri": "https://localhost:8080/",
          "height": 34
        }
      },
      "source": [
        "sum_grades = 300\n",
        "num_students = input()"
      ],
      "execution_count": 0,
      "outputs": [
        {
          "output_type": "stream",
          "text": [
            "0\n"
          ],
          "name": "stdout"
        }
      ]
    },
    {
      "cell_type": "code",
      "metadata": {
        "id": "1g7PU5EnXmIy",
        "colab_type": "code",
        "outputId": "1e78cd6d-366f-4e2d-ccc8-99df868e3a57",
        "colab": {
          "base_uri": "https://localhost:8080/",
          "height": 164
        }
      },
      "source": [
        "average = sum_grades / int(num_students)\n"
      ],
      "execution_count": 0,
      "outputs": [
        {
          "output_type": "error",
          "ename": "ZeroDivisionError",
          "evalue": "ignored",
          "traceback": [
            "\u001b[0;31m---------------------------------------------------------------------------\u001b[0m",
            "\u001b[0;31mZeroDivisionError\u001b[0m                         Traceback (most recent call last)",
            "\u001b[0;32m<ipython-input-53-1cfe2f6d50f2>\u001b[0m in \u001b[0;36m<module>\u001b[0;34m()\u001b[0m\n\u001b[0;32m----> 1\u001b[0;31m \u001b[0maverage\u001b[0m \u001b[0;34m=\u001b[0m \u001b[0msum_grades\u001b[0m \u001b[0;34m/\u001b[0m \u001b[0mint\u001b[0m\u001b[0;34m(\u001b[0m\u001b[0mnumber_of_students\u001b[0m\u001b[0;34m)\u001b[0m\u001b[0;34m\u001b[0m\u001b[0;34m\u001b[0m\u001b[0m\n\u001b[0m",
            "\u001b[0;31mZeroDivisionError\u001b[0m: division by zero"
          ]
        }
      ]
    },
    {
      "cell_type": "code",
      "metadata": {
        "id": "ZzasrD_ZYQ_z",
        "colab_type": "code",
        "outputId": "a4f5839a-c6ff-46cb-c40a-e0895e7d34ce",
        "colab": {
          "base_uri": "https://localhost:8080/",
          "height": 34
        }
      },
      "source": [
        "try:\n",
        "\taverage = sum_grades / int(num_students)\n",
        "except:\n",
        "\t# This catches if something wrong happens\n",
        "\tprint(\"Something wrong happened, please check it!\")\n",
        "\taverage = 0"
      ],
      "execution_count": 0,
      "outputs": [
        {
          "output_type": "stream",
          "text": [
            "Something wrong happened, please check it!\n"
          ],
          "name": "stdout"
        }
      ]
    },
    {
      "cell_type": "code",
      "metadata": {
        "id": "LE6EhwmwYdMS",
        "colab_type": "code",
        "outputId": "604d82a1-de5e-4326-e5c5-bf5ad79b11cb",
        "colab": {
          "base_uri": "https://localhost:8080/",
          "height": 34
        }
      },
      "source": [
        "try:\n",
        "\taverage = sum_grades / int(num_students)\n",
        "except ZeroDivisionError:\n",
        "\t# This catches if something wrong happens\n",
        "\tprint(\"Something wrong happened, please check it!\")\n",
        "\taverage = 0"
      ],
      "execution_count": 0,
      "outputs": [
        {
          "output_type": "stream",
          "text": [
            "Something wrong happened, please check it!\n"
          ],
          "name": "stdout"
        }
      ]
    },
    {
      "cell_type": "code",
      "metadata": {
        "id": "BSX6lKJ0YhMn",
        "colab_type": "code",
        "outputId": "d60174aa-aee2-4597-e1a8-b51e22d6d264",
        "colab": {
          "base_uri": "https://localhost:8080/",
          "height": 51
        }
      },
      "source": [
        "try:\n",
        "  number_of_students = input()\n",
        "  average = sum_grades / int(num_students)\n",
        "except ZeroDivisionError:\n",
        "\t# This catches if a number was divided by zero\n",
        "\tprint(\"You Evil User!.....you inserted a zero!\")\n",
        "\taverage = 0\n",
        "except IOError:\n",
        "\t# This catches errors happening in the input process\n",
        "\tprint(\"Something went wrong with how you enter words\")\n",
        "\taverage = 0"
      ],
      "execution_count": 0,
      "outputs": [
        {
          "output_type": "stream",
          "text": [
            "0\n",
            "You Evil User!.....you inserted a zero!\n"
          ],
          "name": "stdout"
        }
      ]
    },
    {
      "cell_type": "markdown",
      "metadata": {
        "id": "k0YS3UsJYvwN",
        "colab_type": "text"
      },
      "source": [
        "## Generators"
      ]
    },
    {
      "cell_type": "code",
      "metadata": {
        "id": "Czw97n71YxPM",
        "colab_type": "code",
        "colab": {}
      },
      "source": [
        "def fib():\n",
        " a = b = 1\n",
        " while True:\n",
        "    yield a\n",
        "    a, b = b, a + b"
      ],
      "execution_count": 0,
      "outputs": []
    },
    {
      "cell_type": "code",
      "metadata": {
        "id": "fl9gtEB_Y4aM",
        "colab_type": "code",
        "outputId": "a1ecdad3-bb4a-4fb0-ca29-3444a0a14afa",
        "colab": {
          "base_uri": "https://localhost:8080/",
          "height": 102
        }
      },
      "source": [
        "f = fib()\n",
        "print (next(f))\n",
        "print(next(f))\n",
        "print (next(f))\n",
        "print (next(f))\n",
        "print (next(f))"
      ],
      "execution_count": 0,
      "outputs": [
        {
          "output_type": "stream",
          "text": [
            "1\n",
            "1\n",
            "2\n",
            "3\n",
            "5\n"
          ],
          "name": "stdout"
        }
      ]
    },
    {
      "cell_type": "markdown",
      "metadata": {
        "id": "4eglJSYHZcBE",
        "colab_type": "text"
      },
      "source": [
        "## Regular Expressions"
      ]
    },
    {
      "cell_type": "code",
      "metadata": {
        "id": "WXN1GKkYZdTF",
        "colab_type": "code",
        "outputId": "87866a4a-fc91-4757-bb19-890a9cab8d48",
        "colab": {
          "base_uri": "https://localhost:8080/",
          "height": 34
        }
      },
      "source": [
        "import re\n",
        "request = \"HEAD /foo HTTP/1.1\"\n",
        "pattern = re.compile(r\"^([A-Z]+)\\s+(\\S+)\\s+([A-Z0-9\\/\\.]+)$\")\n",
        "m = pattern.match(request)\n",
        "m.groups()"
      ],
      "execution_count": 2,
      "outputs": [
        {
          "output_type": "execute_result",
          "data": {
            "text/plain": [
              "('HEAD', '/foo', 'HTTP/1.1')"
            ]
          },
          "metadata": {
            "tags": []
          },
          "execution_count": 2
        }
      ]
    },
    {
      "cell_type": "code",
      "metadata": {
        "id": "2ErVxj0m8RbH",
        "colab_type": "code",
        "colab": {
          "base_uri": "https://localhost:8080/",
          "height": 34
        },
        "outputId": "c2a328cc-d4f2-4cd4-f4bf-e3fdc7ea5eb7"
      },
      "source": [
        "response = \"HTTP/1.1 200 OK\"\n",
        "pattern = re.compile(r\"^\\S+\\s+([0-9]+)\\s+\\S+$\")\n",
        "m = pattern.match(response)\n",
        "m.groups()"
      ],
      "execution_count": 5,
      "outputs": [
        {
          "output_type": "execute_result",
          "data": {
            "text/plain": [
              "('200',)"
            ]
          },
          "metadata": {
            "tags": []
          },
          "execution_count": 5
        }
      ]
    },
    {
      "cell_type": "markdown",
      "metadata": {
        "id": "KXPeS8vm4Xs9",
        "colab_type": "text"
      },
      "source": [
        "## requests Library"
      ]
    },
    {
      "cell_type": "markdown",
      "metadata": {
        "id": "Ar26PymlBK-I",
        "colab_type": "text"
      },
      "source": [
        "### Accessing response headers"
      ]
    },
    {
      "cell_type": "code",
      "metadata": {
        "id": "ZW-YwJpd4bZd",
        "colab_type": "code",
        "colab": {
          "base_uri": "https://localhost:8080/",
          "height": 124
        },
        "outputId": "76ee7a93-7141-4460-e51a-fc4ffef2044f"
      },
      "source": [
        "import requests\n",
        "response = requests.get('http://example.com')\n",
        "print (\"Status Code: {}\".format(response.status_code))\n",
        "print (response.headers)\n",
        "print ()\n",
        "print (\"Date: {}\".format(response.headers['Date']))\n",
        "print (\"Server: {}\".format(response.headers['Server']))"
      ],
      "execution_count": 16,
      "outputs": [
        {
          "output_type": "stream",
          "text": [
            "Status Code: 200\n",
            "{'Content-Encoding': 'gzip', 'Accept-Ranges': 'bytes', 'Age': '121825', 'Cache-Control': 'max-age=604800', 'Content-Type': 'text/html; charset=UTF-8', 'Date': 'Sat, 18 Jan 2020 00:17:02 GMT', 'Etag': '\"3147526947+gzip\"', 'Expires': 'Sat, 25 Jan 2020 00:17:02 GMT', 'Last-Modified': 'Thu, 17 Oct 2019 07:18:26 GMT', 'Server': 'ECS (sec/96EE)', 'Vary': 'Accept-Encoding', 'X-Cache': 'HIT', 'Content-Length': '648'}\n",
            "\n",
            "Date: Sat, 18 Jan 2020 00:17:02 GMT\n",
            "Server: ECS (sec/96EE)\n"
          ],
          "name": "stdout"
        }
      ]
    },
    {
      "cell_type": "markdown",
      "metadata": {
        "id": "qPxXZz1GBOye",
        "colab_type": "text"
      },
      "source": [
        "### Using request query parameters"
      ]
    },
    {
      "cell_type": "code",
      "metadata": {
        "id": "dmAc9lVBBbVH",
        "colab_type": "code",
        "colab": {
          "base_uri": "https://localhost:8080/",
          "height": 940
        },
        "outputId": "4882c33b-2d36-42bb-aee8-24b6e5138693"
      },
      "source": [
        "import requests\n",
        "response = requests.get('http://google.com/search', params={'q': 'lsu'})\n",
        "print (\"Status Code: {}\".format(response.status_code))\n",
        "print()\n",
        "print (response.text)"
      ],
      "execution_count": 26,
      "outputs": [
        {
          "output_type": "stream",
          "text": [
            "Status Code: 200\n",
            "\n",
            "<!doctype html><html lang=\"en\"><head><meta charset=\"UTF-8\"><meta content=\"/images/branding/googleg/1x/googleg_standard_color_128dp.png\" itemprop=\"image\"><title>lsu - Google Search</title><script nonce=\"Mhu4rSHkp+e3t3zff8mzhg==\">(function(){\n",
            "document.documentElement.addEventListener(\"submit\",function(b){var a;if(a=b.target){var c=a.getAttribute(\"data-submitfalse\");a=\"1\"==c||\"q\"==c&&!a.elements.q.value?!0:!1}else a=!1;a&&(b.preventDefault(),b.stopPropagation())},!0);}).call(this);(function(){\n",
            "var a=window.performance;window.start=(new Date).getTime();a:{var b=window;if(a){var c=a.timing;if(c){var d=c.navigationStart,f=c.responseStart;if(f>d&&f<=window.start){window.start=f;b.wsrt=f-d;break a}}a.now&&(b.wsrt=Math.floor(a.now()))}}window.google=window.google||{};var h=function(g){g&&g.target.setAttribute(\"data-iml\",+new Date)};document.documentElement.addEventListener(\"load\",h,!0);google.rglh=function(){document.documentElement.removeEventListener(\"load\",h,!0)};}).call(this);(function(){window.jsarwt=function(){return!1};}).call(this);(function(){\n",
            "var c=[],e=0;window.ping=function(b){-1==b.indexOf(\"&zx\")&&(b+=\"&zx=\"+(new Date).getTime());var a=new Image,d=e++;c[d]=a;a.onerror=a.onload=a.onabort=function(){delete c[d]};a.src=b};}).call(this);</script><style>body{margin:0 auto;max-width:736px;padding:0 8px}a{color:#1967D2;text-decoration:none;tap-highlight-color:rgba(0,0,0,.1)}a:visited{color:#4B11A8}a:hover{text-decoration:underline}img{border:0}html{font-family:Roboto,HelveticaNeue,Arial,sans-serif;font-size:14px;line-height:20px;text-size-adjust:100%;color:#3C4043;word-wrap:break-word;background-color:#fff}.bRsWnc{background-color:#fff;border-top:1px solid #e0e0e0;height:39px;overflow:hidden}.N6RWV{height:51px;overflow-scrolling:touch;overflow-x:auto;overflow-y:hidden}.Uv67qb{box-pack:justify;font-size:12px;line-height:37px;justify-content:space-between;justify-content:space-between}.Uv67qb a,.Uv67qb span{color:#757575;display:block;flex:none;padding:0 16px;text-align:center;text-transform:uppercase;}span.OXXup{border-bottom:2px solid #4285f4;color:#4285f4;font-weight:bold}a.eZt8xd:visited{color:#757575}.FElbsf{border-left:1px solid rgba(0,0,0,.12)}header article{overflow:visible}.Pg70bf{height:39px;display:box;display:flex;display:flex;width:100%}.H0PQec{position:relative;flex:1}.sbc{display:flex;width:100%}.Pg70bf input{margin:2px 4px 2px 8px;}.x{width:26px;color:#757575;font:27px/38px arial, sans-serif;line-height:40px;}#qdClwb{flex:0 0 auto;width:39px;height:39px;border-bottom:0;padding:0;border-top-right-radius:8px;background-color:#3b78e7;border:1px solid #3367d6;background-image:url(data:image/gif;base64,R0lGODdhJAAjAPIHAODr/nCk+MPZ/FmV96zK+/7+/5K5+kqL9iwAAAAAJAAjAEADani63P4wykmbKcQRXDscQAEMXmmeaLQVLCukzyC09AjfeK7v/MAajACLhPMVAgwjsUcEiZa8xgAYrVqv2Kx2iwsIAAABknfBBAKrTE4IcMyot8ur8datqIbQfJdnAfo2WE6BV05wXIiJigkAOw==);}.sc{font-size:;position:absolute;top:39px;left:0;right:0;box-shadow:0px 2px 5px rgba(0,0,0,0.2);z-index:2;background-color:#fff}.sc>div{padding:10px 10px;padding-left:16px;padding-left:14px;border-top:1px solid #DFE1E5}.scs{background-color:#f5f5f5;}.noHIxc{display:block;font-size:16px;padding:0 0 0 8px;flex:1;height:35px;outline:none;border:none;width:100%;-webkit-tap-highlight-color:rgba(0,0,0,0);overflow:hidden;}.sbc input[type=text]{background:none}.sml .cOl4Id{display:none}.l{display:none}.sml header{background:none}.sml .l{display:block;padding:0 8px}.sml .l{letter-spacing:-1px;text-align:center;border-radius:2px 0 0 0;font:22px/36px Futura, Arial, sans-serif;font-smoothing:antialiased}.bz1lBb{background:#fff;border-radius:8px 8px 0 0;box-shadow:0 1px 6px rgba(32, 33, 36, 0.18);margin-top:10px}.KP7LCb{border-radius:0 0 8px 8px;box-shadow:0 2px 3px rgba(32, 33, 36, 0.18);margin-bottom:10px;overflow:hidden}.cOl4Id{letter-spacing:-1px;text-align:center;font:22pt Futura, Arial, sans-serif;padding:10px 0 5px 0;height:37px;font-smoothing:antialiased}.cOl4Id span{display:inline-block}.S591j{height:100%}.V6gwVd{color:#4285F4}.iWkuvd{color:#EA4335}.cDrQ7{color:#fbcc05}.ntlR9{color:#34A853}.tJ3Myc{-webkit-transform:rotate(-20deg);position:relative;left:-1px;display:inline-block}footer{text-align:center;margin-top:18px}footer a,footer a:visited,.smiUbb{color:#5f6368}.ksTU4c{margin:0 13px}#mCljob{margin-top:36px}#mCljob>div{margin:20px}</style></head><body jsmodel=\" TvHxbe\"><header id=\"hdr\"><script nonce=\"Mhu4rSHkp+e3t3zff8mzhg==\">(function(){var c=500;(function(){window.screen&&window.screen.width<=c&&window.screen.height<=c&&document.getElementById(\"hdr\").classList.add(\"sml\");}).call(this);})();</script><div class=\"cOl4Id\"><a href=\"/?sa=X&amp;ved=0ahUKEwi0wLP18ovnAhUBG6YKHfEWDbUQOwgC\"><span class=\"V6gwVd\">G</span><span class=\"iWkuvd\">o</span><span class=\"cDrQ7\">o</span><span class=\"V6gwVd\">g</span><span class=\"ntlR9\">l</span><span class=\"iWkuvd tJ3Myc\">e</span></a></div><div class=\"bz1lBb\"><form class=\"Pg70bf\" id=\"sf\"><a class=\"l\" href=\"/?output=search&amp;ie=UTF-8&amp;sa=X&amp;ved=0ahUKEwi0wLP18ovnAhUBG6YKHfEWDbUQPAgE\"><span class=\"V6gwVd\">G</span><span class=\"iWkuvd\">o</span><span class=\"cDrQ7\">o</span><span class=\"V6gwVd\">g</span><span class=\"ntlR9\">l</span><span class=\"iWkuvd tJ3Myc\">e</span></a><input name=\"ie\" value=\"ISO-8859-1\" type=\"hidden\"><div class=\"H0PQec\"><div class=\"sbc esbc\"><input class=\"noHIxc\" value=\"lsu\" autocapitalize=\"none\" autocomplete=\"off\" name=\"q\" spellcheck=\"false\" type=\"text\"><input name=\"oq\" type=\"hidden\"><input name=\"aqs\" type=\"hidden\"><div class=\"x\">×</div><div class=\"sc\"></div></div></div><button id=\"qdClwb\" type=\"submit\"></button></form></div><noscript><meta content=\"0;url=/search?q=lsu&amp;ie=UTF-8&amp;gbv=1&amp;sei=7lEiXrSRHIG2mAXxrbSoCw\" http-equiv=\"refresh\"><style>table,div,span,p{display:none}</style><div style=\"display:block\">Please click <a href=\"/search?q=lsu&amp;ie=UTF-8&amp;gbv=1&amp;sei=7lEiXrSRHIG2mAXxrbSoCw\">here</a> if you are not redirected within a few seconds.</div></noscript></header><div id=\"main\"><div><div class=\"KP7LCb\"> <div class=\"bRsWnc\"> <div class=\"N6RWV\"> <div class=\"Pg70bf Uv67qb\"> <span class=\"OXXup\">All</span><a class=\"eZt8xd\" href=\"/search?q=lsu&amp;ie=UTF-8&amp;source=lnms&amp;tbm=nws&amp;sa=X&amp;ved=0ahUKEwi0wLP18ovnAhUBG6YKHfEWDbUQ_AUICCgB\">News</a><a class=\"eZt8xd\" href=\"/search?q=lsu&amp;ie=UTF-8&amp;source=lnms&amp;tbm=isch&amp;sa=X&amp;ved=0ahUKEwi0wLP18ovnAhUBG6YKHfEWDbUQ_AUICSgC\">Images</a><a class=\"eZt8xd\" href=\"/search?q=lsu&amp;ie=UTF-8&amp;source=lnms&amp;tbm=vid&amp;sa=X&amp;ved=0ahUKEwi0wLP18ovnAhUBG6YKHfEWDbUQ_AUICigD\">Videos</a>  <a href=\"http://maps.google.com/maps?q=lsu&amp;um=1&amp;ie=UTF-8&amp;sa=X&amp;ved=0ahUKEwi0wLP18ovnAhUBG6YKHfEWDbUQ_AUICygE\">Maps</a>  <a href=\"/search?q=lsu&amp;ie=UTF-8&amp;source=lnms&amp;tbm=shop&amp;sa=X&amp;ved=0ahUKEwi0wLP18ovnAhUBG6YKHfEWDbUQ_AUIDCgF\">Shopping</a>  <a href=\"/search?q=lsu&amp;ie=UTF-8&amp;source=lnms&amp;tbm=bks&amp;sa=X&amp;ved=0ahUKEwi0wLP18ovnAhUBG6YKHfEWDbUQ_AUIDSgG\">Books</a>    <div class=\"FElbsf\"><a href=\"/advanced_search\" style=\"white-space:nowrap\" id=\"st-toggle\" role=\"button\">Search tools</a></div> </div> </div> </div> </div><div class=\"Pg70bf wEsjbd ZINbbc xpd O9g5cc uUPGi\" style=\"display:none\" id=\"st-card\"><style>.wEsjbd{background-color:#fff;height:44px;white-space:nowrap}.coPU8c{height:60px;overflow-scrolling:touch;overflow-x:auto;overflow-y:hidden}.Xj2aue{height:44px;overflow:hidden}.RnNGze{margin:11px 16px}.wEsjbd div,.wEsjbd a,.wEsjbd li{outline-width:0;outline:none}</style><div class=\"Xj2aue\"><div class=\"coPU8c\"><div class=\"RnNGze\"><style>.PA9J5{display:inline-block}.RXaOfd{display:inline-block;height:22px;position:relative;padding-top:0;padding-bottom:0;padding-right:16px;padding-left:0;line-height:22px;cursor:pointer;text-transform:uppercase;font-size:12px;color:#757575}.sa1toc{display:none;position:absolute;background:#fff;border:1px solid #d6d6d6;box-shadow:0 2px 4px rgba(0,0,0,0.3);margin:0;white-space:nowrap;z-index:103;line-height:17px;padding-top:5px;padding-bottom:5px;padding-left:0px}.PA9J5:hover .sa1toc{display:block}.mGSy8d a:active,.RXaOfd:active{color:#4285f4}</style><div class=\"PA9J5\"><div class=\"RXaOfd\" role=\"button\" tabindex=\"0\"><style>.TWMOUc{display:inline-block;padding-right:14px;white-space:nowrap}.vQYuGf{font-weight:bold}.OmTIzf{border-color:#909090 transparent;border-style:solid;border-width:4px 4px 0 4px;width:0;height:0;margin-left:-10px;top:50%;margin-top:-2px;position:absolute}.RXaOfd:active .OmTIzf{border-color:#4285f4 transparent}</style><div class=\"TWMOUc\">Any time</div><span class=\"OmTIzf\"></span></div><ul class=\"sa1toc ozatM\"><style>.ozatM{font-size:12px;text-transform:uppercase}.ozatM .yNFsl,.ozatM li{list-style-type:none;list-style-position:outside;list-style-image:none}.yNFsl.SkUj4c,.yNFsl a{color:rgba(0,0,0,0.54);text-decoration:none;padding:6px 44px 6px 14px;line-height:17px;display:block}.SkUj4c{background-image:url(//ssl.gstatic.com/ui/v1/menu/checkmark2.png);background-position:right center;background-repeat:no-repeat}.SkUj4c:active{background-color:#f5f5f5}</style><li class=\"yNFsl SkUj4c\">Any time</li><li class=\"yNFsl\"><a href=\"/search?q=lsu&amp;ie=UTF-8&amp;source=lnt&amp;tbs=qdr:h&amp;sa=X&amp;ved=0ahUKEwi0wLP18ovnAhUBG6YKHfEWDbUQpwUIDw\">Past hour</a></li><li class=\"yNFsl\"><a href=\"/search?q=lsu&amp;ie=UTF-8&amp;source=lnt&amp;tbs=qdr:d&amp;sa=X&amp;ved=0ahUKEwi0wLP18ovnAhUBG6YKHfEWDbUQpwUIEA\">Past 24 hours</a></li><li class=\"yNFsl\"><a href=\"/search?q=lsu&amp;ie=UTF-8&amp;source=lnt&amp;tbs=qdr:w&amp;sa=X&amp;ved=0ahUKEwi0wLP18ovnAhUBG6YKHfEWDbUQpwUIEQ\">Past week</a></li><li class=\"yNFsl\"><a href=\"/search?q=lsu&amp;ie=UTF-8&amp;source=lnt&amp;tbs=qdr:m&amp;sa=X&amp;ved=0ahUKEwi0wLP18ovnAhUBG6YKHfEWDbUQpwUIEg\">Past month</a></li><li class=\"yNFsl\"><a href=\"/search?q=lsu&amp;ie=UTF-8&amp;source=lnt&amp;tbs=qdr:y&amp;sa=X&amp;ved=0ahUKEwi0wLP18ovnAhUBG6YKHfEWDbUQpwUIEw\">Past year</a></li></ul></div><div class=\"PA9J5\"><div class=\"RXaOfd\" role=\"button\" tabindex=\"0\"><div class=\"TWMOUc\">All results</div><span class=\"OmTIzf\"></span></div><ul class=\"sa1toc ozatM\"><li class=\"yNFsl SkUj4c\">All results</li><li class=\"yNFsl\"><a href=\"/search?q=lsu&amp;ie=UTF-8&amp;source=lnt&amp;tbs=li:1&amp;sa=X&amp;ved=0ahUKEwi0wLP18ovnAhUBG6YKHfEWDbUQpwUIFQ\">Verbatim</a></li></ul></div></div></div></div><script nonce=\"Mhu4rSHkp+e3t3zff8mzhg==\">(function(){\n",
            "var a=document.getElementById(\"st-toggle\"),b=document.getElementById(\"st-card\");a&&b&&a.addEventListener(\"click\",function(c){b.style.display=b.style.display?\"\":\"none\";c.preventDefault()},!1);}).call(this);</script></div></div><style>.ZINbbc{background-color:#fff;margin-bottom:10px;box-shadow:0 1px 6px rgba(32, 33, 36, 0.28);border-radius:8px}.uUPGi{font-size:14px;line-height:20px;}.O9g5cc>*:first-child{border-top-left-radius:8px;border-top-right-radius:8px}.O9g5cc>*:last-child{border-bottom-left-radius:8px;border-bottom-right-radius:8px}.O9g5cc>.qxDOhb>*:first-child{border-top-left-radius:8px;border-top-right-radius:8px}.O9g5cc>.qxDOhb>*:last-child{border-bottom-left-radius:8px;border-bottom-right-radius:8px}.kCrYT{padding:12px 16px 12px}.BNeawe{white-space:pre-line;word-wrap:break-word}.deIvCb{font-size:16px;line-height:20px;font-weight:400}.deIvCb.HrGdeb{color:rgba(255,255,255,1)}.deIvCb.AP7Wnd{color:#202124}.FCUp0c{font-weight:bold}.Xdlr0d{overflow-x:auto;-webkit-overflow-scrolling:touch;margin:0 -8px;padding:16px 0 16px 24px;padding-top:2px;margin-top:-2px;transform:translate3d(0,0,0)}.idg8be{display:table;border-collapse:separate;border-spacing:8px 0;margin:0 -8px;padding-right:16px}.BVG0Nb{display:table-cell;vertical-align:top;background-color:#fff;border-radius:8px;box-shadow:0 1px 6px rgba(32, 33, 36, 0.28);overflow:hidden}a.fdYsqf{color:#4B11A8}.EYOsld{display:inline-block;position:relative}.BFi9Zb{overflow:hidden;position:relative}.S7Jdze{align-items:center;display:flex;flex-direction:column;justify-content:space-around}.R0jTRc{vertical-align:middle}.s3v9rd{font-size:14px;line-height:20px}.s3v9rd.HrGdeb{color:rgba(255,255,255,1)}.s3v9rd.AP7Wnd{color:#202124}.Xb5VRe{color:#1967D2}a:visited .Xb5VRe{color:#4B11A8}.Xb5VRe.tr0dw{color:rgba(255,255,255,1)}a:visited .Xb5VRe.tr0dw{color:rgba(255,255,255,.7)}.tAd8D{font-size:14px;line-height:20px}.tAd8D.HrGdeb{color:rgba(255,255,255,.7)}.tAd8D.AP7Wnd{color:#70757A}.vvjwJb{color:#1967D2;font-size:16px;line-height:20px}.vvjwJb a:visited{color:#4B11A8}.vvjwJb.HrGdeb{color:rgba(255,255,255,1)}.vvjwJb.HrGdeb a:visited{color:rgba(255,255,255,.7)}.UPmit{font-size:14px;line-height:20px}.UPmit.HrGdeb{color:rgba(255,255,255,.7)}.UPmit.AP7Wnd{color:rgba(0,102,33,1)}.x54gtf{height:1px;background-color:#dfe1e5;margin:0 16px}.Q0HXG{height:1px;background-color:#dfe1e5}.mHhylf{display:table-cell;vertical-align:middle}.WZ5GJf{align-items:center;padding:0 20px;min-width:112px}.qN9Ked,.DXk5Me{margin:0 auto}.DXk5Me{margin-bottom:12px}.Qi9Fd{background:#fff;border:0;border-radius:999px;display:block;height:56px;justify-content:center;width:56px;z-index:0}.Qi9Fd{box-shadow:0 1px 6px rgba(32, 33, 36, 0.28),inset 0 0 0 0 rgba(0,0,0,0.10),inset 0 0 0 0 rgba(255,255,255,0.50)}.Qi9Fd:focus{outline:none}.Qi9Fd .hWHuJ{display:block;margin:0 auto}.ji5jpf{text-align:center}.rl7ilb{display:block;clear:both}.Ap5OSd{padding-bottom:12px}.mSx1Ee{padding-left:48px;margin:0}.v9i61e{padding-bottom:8px}.XLloXe{color:#1967D2;font-size:14px;line-height:20px}.XLloXe a:visited{color:#4B11A8}.XLloXe.HrGdeb{color:rgba(255,255,255,1)}.XLloXe.HrGdeb a:visited{color:rgba(255,255,255,.7)}.nGphre{float:right;padding-left:16px}.UykT9d{border-radius:8px;display:block}.nYT7Qb{clear:both}.WddBJd{display:block;margin:0 auto}.xpc .hwc,.xpx .hwx{display:none}.skVgpb{display:table;table-layout:fixed;width:100%}.VGHMXd{display:table-cell;vertical-align:middle;height:52px;text-align:center}.LpaDrb{margin:0 auto 8px;display:block}.vbShOe{padding-top:0}.AVsepf{padding-bottom:8px}.AVsepf.u2x1Od{padding-bottom:0}.Ru8idb{margin-top:-16px}.punez{font-weight:700;letter-spacing:0.75px;text-transform:uppercase}.wyrwXc{font-size:12px;line-height:16px}.wyrwXc.HrGdeb{color:rgba(255,255,255,1)}.wyrwXc.AP7Wnd{color:#202124}hr{border:0;border-bottom:1px solid #dfe1e5;margin:0;}.BUybKe,.HsnFBf{margin-left:16px}.BUybKe,.oM2GA{margin-right:16px}.XO7rhc{margin:0 -16px}.iIWm4b{box-sizing:border-box;min-height:48px}.fLtXsc{padding:14px;position:relative}.Lym8W{width:14px;height:20px;position:relative;margin:0 auto}.xCgLUe{position:absolute;right:16px;margin-top:-10px;top:50%}.Lym8W div{position:absolute;border-left:7px solid transparent;border-right:7px solid transparent;width:0;height:0;left:0}.IyYaEd{top:7px;border-top:7px solid #757575}.ECUHQe{top:4px;border-top:7px solid #fff}.AeQQub{bottom:7px;border-bottom:7px solid #757575}.YCU7eb{bottom:4px;border-bottom:7px solid #fff}.r0bn4c.tr0dw{color:rgba(255,255,255,.7)}.r0bn4c.rQMQod{color:#70757A}.tP9Zud{display:inline-block;}.QzarWc{color:#3C4043}.oqSTJd{color:#757575}.Hk2yDb,.Hk2yDb span{background-repeat:repeat-x;background-size:14px,14px;height:14px;width:70px}.Hk2yDb{display:inline-block;font-size:0;line-height:0;position:relative;top:1px}.Hk2yDb span{display:block}.Hk2yDb.KsR1A{background-image:url(data:image/png;base64,iVBORw0KGgoAAAANSUhEUgAAACgAAAAoBAMAAAB+0KVeAAAAD1BMVEVMaXEAAAAAAAAAAAAAAACF6eB8AAAABXRSTlMAID8OM2w9R7oAAACdSURBVHgBvdGBCcIwEEbhq+kAaXEA+5oBYuoAmnb/mQT5gcMDCoB+AIEA9y7EfmrIFl1uFrXVol4sSFBjB3LsQCzNsMQOlNjhq5S26Qrwmjbdp6PjlKMq4SiXwNOAhrOadDeymoyAPP1zfEUGJJvTNdFOLxFzElLPQqNb0/8F+x39iDTYzR56ucws7pBePtnU/aKomrpbM5sM1f7pDdrTIIXMnb07AAAAAElFTkSuQmCC)}.Hk2yDb.KsR1A span{background-image:url(data:image/png;base64,iVBORw0KGgoAAAANSUhEUgAAACgAAAAoBAMAAAB+0KVeAAAAGFBMVEVMaXH0tAD0tAD0tAD0tAD0tAD0tAD0tAB7hoq7AAAACHRSTlMAP6Ib/oXVZJ3/vYgAAADHSURBVHgBnNE1A4JgGARgmtHW0dxtZ+OA0dbRdrX/v+RLmkc/9H3MH2HjEcgVIrA1iMCZEoF7NWwycA6hBKxDmAZ6IawA/aDx0FMLoGjgKIAdA3d0WM89SkfYOZaWl5SOdwSiGe0EMW4/jkIP5vdeU2t2k14sUGugKJ6GKGdfG0aoE/+l509I7y/4azfiL7/l4IDIU4rmHwv0zZUH94AaZ421f4DO1ofVCFmgbGwbQNwzahtrJ4sRoUQvva8JuRo9vcA8RyMAAIXWR1O6HNlyAAAAAElFTkSuQmCC)}.e1wPee{text-decoration:underline}.uEec3{font-size:12px;line-height:16px}.uEec3.HrGdeb{color:rgba(255,255,255,.7)}.uEec3.AP7Wnd{color:#70757A}.wITvVb{margin:0;padding:12px 16px 12px}.LKSyXe{height:1px;background-color:#dfe1e5;margin:0 16px}.NtmAdb{display:inline-block;margin-bottom:-12px;margin-top:-12px;margin-right:8px}.xpx .NtmAdb{display:none}.Lt3Tzc{display:inline-block;padding-right:26px}.M56Nqc{padding:0 16px 12px}.Z8j5ae>div>div{border-radius:8px;box-shadow:none;border:1px solid #dfe1e5;margin-bottom:0}.oTWEpb{padding-top:12px}.n1Qedd{overflow:hidden;text-align:center}.KMAGC{margin:0 auto;display:block}.ho0sdc{margin:0 -50%;display:inline-block}.PDHNXc{display:table;width:100%;padding-top:16px;padding-bottom:16px;margin-bottom:-12px}.iU269d{display:table-cell;vertical-align:top}.TeHtNe{vertical-align:middle}.kXUfPb{color:#3C4043;font-size:14px;text-align:center}.Vp9uZ{display:block;white-space:pre-line;word-wrap:break-word}.kXUfPb.Vp9uZ{line-height:20px}.RtoYlb{padding:18px}.lcJF1d{border-radius:8px;margin-left:16px;float:right;}.SXn0g{overflow:hidden}.GXKcHe{display:inline-block}.p1CInd{position:relative}.HMoqlc{background-color:rgba(0,0,0,.12)}.qW7zYd{bottom:0;left:0;margin:auto;position:absolute;right:0;top:0}.X8r0X{background-image:url(data:image/png;base64,iVBORw0KGgoAAAANSUhEUgAAADAAAAAwCAQAAAD9CzEMAAABl0lEQVR4Ae2XveraUBiHY4xD3URx8F+9gHZW9EKEOgi9Cz8uQFtXiwRsobvgIoLXIfYCKrqoaadCk+Xp4HiSc15PQkvB512FB37xvB/Ok/8BXDqMWXMgICIi4MCaEW1cHFOZftBgxpkkTnygbi+osiTCRIhPxUbQ5wdSAnqPCQp84VF8PKmgyA4bthQlggI7bNnimQWfSYNvEvRJyzudoMpP0nKjnCxYkgWLJEFD+6ze8wsZIS/xghk6HN7wDRnTOIHLGR33F/IVCUdyqqCDHudewqhaqmAsEwijGqqCtUwgjGqlCg4ygTCqvSoIZAJhVFdVEMkEwqjCvyiwj+gt8oiy/8j/4G86QosSjZ6BKmhn2iqaqsDllFmz+x7X7Bw+ouMejYxJ/DyoZzRwflNLGpk+WTBPnskVAtJyoaRbW3qkpWtavHzS8Mm82XlssWVDXrb82ik2vJKu7x6+RTj5xw6QHjekXOjanFBlFoSCZzWnZH8EvmbKUdNzJtQER6ChXFoMWbHnSkjIlT0rBjTJyc/Y7OspkNYf1H6eRU02jH0AAAAASUVORK5CYII=);background-repeat:no-repeat;background-position:center}.SiONwe{background:rgba(32, 33, 36, 0.5);position:absolute;border-radius:4px;padding:2px 6px}.ZTv9Bb{display:block}.nVTMpe{border-radius:8px}.X7NTVe{display:table;width:100%;padding-right:16px;box-sizing:border-box}.tHmfQe{display:table-cell;padding:12px 0 12px 16px}.UHtrk{width:72px}.HBTM6d{width:30px}.XS7yGd{display:table-cell;text-align:center;vertical-align:middle;padding:12px 0 12px 8px}.am3QBf{display:table;vertical-align:top}.Icx6Cd{margin:0 auto 8px}.mAdjQc{text-align:right}.rLshyf,.BmP5tf{padding-top:12px;padding-bottom:12px}.w1C3Le,.BmP5tf,.G5NbBd{padding-left:16px;padding-right:16px;}.G5NbBd{padding-bottom:12px}.nMymef{display:flex}.G5eFlf{flex:1;display:block}.nMymef span{text-align:center}</style><div><!--SW_C_X--></div><div><div class=\"ZINbbc xpd O9g5cc uUPGi\"><div class=\"kCrYT\"><div class=\"BNeawe deIvCb AP7Wnd\"><span class=\"FCUp0c rQMQod\">Top stories</span></div></div><div><div><div><div class=\"Xdlr0d\"><div class=\"idg8be\"><a class=\"BVG0Nb\" href=\"/url?q=https://www.espn.com/college-football/story/_/id/28503103/president-donald-trump-welcomes-cfp-champion-lsu-tigers-white-house&amp;sa=U&amp;ved=2ahUKEwi0wLP18ovnAhUBG6YKHfEWDbUQ0PADMAB6BAgBEAI&amp;usg=AOvVaw1w-9PcecK7fmvfPoOEYE6t\"><div><div style=\"width:232px\"><div class=\"S7Jdze\" style=\"background-color:;width:232px;height:128px\"><img class=\"EYOsld\" alt=\"\" src=\"data:image/gif;base64,R0lGODlhAQABAIAAAP///////yH5BAEKAAEALAAAAAABAAEAAAICTAEAOw==\" style=\"max-width:232px;max-height:128px\" id=\"dimg_1\" data-deferred=\"1\"></div><div class=\"RWuggc kCrYT\"><div><div class=\"BNeawe s3v9rd AP7Wnd\"><span class=\"rQMQod Xb5VRe\">President Donald Trump welcomes CFP champion LSU Tigers to White House</span></div></div><div><div class=\"BNeawe tAd8D AP7Wnd\">ESPN.com\n",
            "5 hours ago</div></div></div></div></div></a><a class=\"BVG0Nb\" href=\"/url?q=https://www.theadvocate.com/baton_rouge/sports/lsu/article_e9bcef70-396f-11ea-94ca-3ff523867e80.html&amp;sa=U&amp;ved=2ahUKEwi0wLP18ovnAhUBG6YKHfEWDbUQ0PADMAF6BAgBEAY&amp;usg=AOvVaw3u78I30JfuUOAHGUDSrKmT\"><div><div style=\"width:232px\"><div class=\"S7Jdze\" style=\"background-color:;width:232px;height:128px\"><img class=\"EYOsld\" alt=\"\" src=\"data:image/gif;base64,R0lGODlhAQABAIAAAP///////yH5BAEKAAEALAAAAAABAAEAAAICTAEAOw==\" style=\"max-width:232px;max-height:128px\" id=\"dimg_5\" data-deferred=\"1\"></div><div class=\"RWuggc kCrYT\"><div><div class=\"BNeawe s3v9rd AP7Wnd\"><span class=\"rQMQod Xb5VRe\">Watch: LSU players dance to trendy 'Get the Gat' at White House ahead of \n",
            "visit with Trump</span></div></div><div><div class=\"BNeawe tAd8D AP7Wnd\">The Advocate\n",
            "2 hours ago</div></div></div></div></div></a><a class=\"BVG0Nb\" href=\"/url?q=https://www.brproud.com/sports/geaux-nation/thaddeus-moss-declares-for-nfl-draft/&amp;sa=U&amp;ved=2ahUKEwi0wLP18ovnAhUBG6YKHfEWDbUQ0PADMAJ6BAgBEAo&amp;usg=AOvVaw3gAOWQ9Rm8XirVH0yES2Os\"><div><div style=\"width:232px\"><div class=\"S7Jdze\" style=\"background-color:;width:232px;height:128px\"><img class=\"EYOsld\" alt=\"\" src=\"data:image/gif;base64,R0lGODlhAQABAIAAAP///////yH5BAEKAAEALAAAAAABAAEAAAICTAEAOw==\" style=\"max-width:232px;max-height:128px\" id=\"dimg_7\" data-deferred=\"1\"></div><div class=\"RWuggc kCrYT\"><div><div class=\"BNeawe s3v9rd AP7Wnd\"><span class=\"rQMQod Xb5VRe\">Thaddeus Moss declares for NFL Draft</span></div></div><div><div class=\"BNeawe tAd8D AP7Wnd\">BRProud.com\n",
            "27 mins ago</div></div></div></div></div></a><a class=\"BVG0Nb\" href=\"/url?q=https://www.wafb.com/2020/01/17/matthew-naquin-serve-years-prison-after-lsu-hazing-death-conviction/&amp;sa=U&amp;ved=2ahUKEwi0wLP18ovnAhUBG6YKHfEWDbUQ0PADMAN6BAgBEA4&amp;usg=AOvVaw37-kdyvJBNn6iRFnwDXu8_\"><div><div style=\"width:232px\"><div class=\"S7Jdze\" style=\"background-color:;width:232px;height:128px\"><img class=\"EYOsld\" alt=\"\" src=\"data:image/gif;base64,R0lGODlhAQABAIAAAP///////yH5BAEKAAEALAAAAAABAAEAAAICTAEAOw==\" style=\"max-width:232px;max-height:128px\" id=\"dimg_9\" data-deferred=\"1\"></div><div class=\"RWuggc kCrYT\"><div><div class=\"BNeawe s3v9rd AP7Wnd\"><span class=\"rQMQod Xb5VRe\">Matthew Naquin withdraws appeal, will begin serving prison sentence for LSU \n",
            "hazing death</span></div></div><div><div class=\"BNeawe tAd8D AP7Wnd\">WAFB.com\n",
            "2 hours ago</div></div></div></div></div></a><a class=\"BVG0Nb\" href=\"/url?q=https://www.washingtonexaminer.com/news/trump-stokes-backlash-after-poking-fun-at-himself-during-visit-with-lsu-football-team&amp;sa=U&amp;ved=2ahUKEwi0wLP18ovnAhUBG6YKHfEWDbUQ0PADMAR6BAgBEBI&amp;usg=AOvVaw24W45qoJ6EYd-FY0wgudLF\"><div><div style=\"width:232px\"><div class=\"S7Jdze\" style=\"width:232px;height:128px\"><img class=\"EYOsld\" alt=\"\" src=\"data:image/gif;base64,R0lGODlhAQABAIAAAP///////yH5BAEKAAEALAAAAAABAAEAAAICTAEAOw==\" style=\"max-width:232px;max-height:128px\" id=\"dimg_11\" data-deferred=\"1\"></div><div class=\"RWuggc kCrYT\"><div><div class=\"BNeawe s3v9rd AP7Wnd\"><span class=\"rQMQod Xb5VRe\">Trump stokes backlash after poking fun at himself during visit with LSU \n",
            "football team</span></div></div><div><div class=\"BNeawe tAd8D AP7Wnd\">Washington Examiner\n",
            "3 hours ago</div></div></div></div></div></a><a class=\"BVG0Nb\" href=\"/url?q=https://www.espn.com/nfl/story/_/id/28503356/thaddeus-moss-klavon-chaisson-latest-leave-lsu&amp;sa=U&amp;ved=2ahUKEwi0wLP18ovnAhUBG6YKHfEWDbUQ0PADMAV6BAgBEBY&amp;usg=AOvVaw1821110jCDtxT1wEJqhDpN\"><div><div style=\"width:232px\"><div class=\"S7Jdze\" style=\"background-color:;width:232px;height:128px\"><img class=\"EYOsld\" alt=\"\" src=\"data:image/gif;base64,R0lGODlhAQABAIAAAP///////yH5BAEKAAEALAAAAAABAAEAAAICTAEAOw==\" style=\"max-width:232px;max-height:128px\" id=\"dimg_13\" data-deferred=\"1\"></div><div class=\"RWuggc kCrYT\"><div><div class=\"BNeawe s3v9rd AP7Wnd\"><span class=\"rQMQod Xb5VRe\">Thaddeus Moss, K'Lavon Chaisson latest to leave LSU</span></div></div><div><div class=\"BNeawe tAd8D AP7Wnd\">ESPN.com\n",
            "3 hours ago</div></div></div></div></div></a><a class=\"BVG0Nb\" href=\"/url?q=https://www.wbrz.com/news/watch-internet-goes-wild-over-white-house-video-featuring-members-of-lsu-football-team-dancing-wife-of-former-player/&amp;sa=U&amp;ved=2ahUKEwi0wLP18ovnAhUBG6YKHfEWDbUQ0PADMAZ6BAgBEBo&amp;usg=AOvVaw047XYozHi0HiD3p_JJ6mpN\"><div><div style=\"width:232px\"><div class=\"S7Jdze\" style=\"width:232px;height:128px\"><img class=\"EYOsld\" alt=\"\" src=\"data:image/gif;base64,R0lGODlhAQABAIAAAP///////yH5BAEKAAEALAAAAAABAAEAAAICTAEAOw==\" style=\"max-width:232px;max-height:128px\" id=\"dimg_15\" data-deferred=\"1\"></div><div class=\"RWuggc kCrYT\"><div><div class=\"BNeawe s3v9rd AP7Wnd\"><span class=\"rQMQod Xb5VRe\">WATCH: Internet goes wild over White House video featuring members of LSU \n",
            "football team, dancing wife of former ...</span></div></div><div><div class=\"BNeawe tAd8D AP7Wnd\">WBRZ.com\n",
            "4 hours ago</div></div></div></div></div></a><a class=\"BVG0Nb\" href=\"/url?q=https://www.usatoday.com/story/sports/ncaaf/sec/2020/01/17/donald-trump-talks-impeachment-lsu-football-team-white-house-visit/4500041002/&amp;sa=U&amp;ved=2ahUKEwi0wLP18ovnAhUBG6YKHfEWDbUQ0PADMAd6BAgBEB4&amp;usg=AOvVaw29GePxJCxPbLhYjUxjfpyM\"><div><div style=\"width:232px\"><div class=\"S7Jdze\" style=\"background-color:;width:232px;height:128px\"><img class=\"EYOsld\" alt=\"\" src=\"data:image/gif;base64,R0lGODlhAQABAIAAAP///////yH5BAEKAAEALAAAAAABAAEAAAICTAEAOw==\" style=\"max-width:232px;max-height:128px\" id=\"dimg_17\" data-deferred=\"1\"></div><div class=\"RWuggc kCrYT\"><div><div class=\"BNeawe s3v9rd AP7Wnd\"><span class=\"rQMQod Xb5VRe\">President Donald Trump shares his thoughts on impeachment, uses profanity \n",
            "during LSU football celebration at White House</span></div></div><div><div class=\"BNeawe tAd8D AP7Wnd\">USA Today\n",
            "5 hours ago</div></div></div></div></div></a><a class=\"BVG0Nb\" href=\"/url?q=https://abcnews.go.com/Politics/trump-makes-vulgar-comment-hitting-back-senate-impeachment/story%3Fid%3D68355123&amp;sa=U&amp;ved=2ahUKEwi0wLP18ovnAhUBG6YKHfEWDbUQ0PADMAh6BAgBECI&amp;usg=AOvVaw1Qq59YhQYJgLmoDPmqK2gY\"><div><div style=\"width:232px\"><div class=\"S7Jdze\" style=\"background-color:;width:232px;height:128px\"><img class=\"EYOsld\" alt=\"\" src=\"data:image/gif;base64,R0lGODlhAQABAIAAAP///////yH5BAEKAAEALAAAAAABAAEAAAICTAEAOw==\" style=\"max-width:232px;max-height:128px\" id=\"dimg_21\" data-deferred=\"1\"></div><div class=\"RWuggc kCrYT\"><div><div class=\"BNeawe s3v9rd AP7Wnd\"><span class=\"rQMQod Xb5VRe\">Trump hits back at Senate impeachment trial during WH ceremony honoring LSU \n",
            "champs</span></div></div><div><div class=\"BNeawe tAd8D AP7Wnd\">ABC News\n",
            "6 hours ago</div></div></div></div></div></a><a class=\"BVG0Nb\" href=\"/url?q=https://www.foxnews.com/sports/lsu-joe-burrow-happy-bengals-draft&amp;sa=U&amp;ved=2ahUKEwi0wLP18ovnAhUBG6YKHfEWDbUQ0PADMAl6BAgBECY&amp;usg=AOvVaw1JQ3HI7zSL2esxNKx0z9I3\"><div><div style=\"width:232px\"><div class=\"S7Jdze\" style=\"background-color:;width:232px;height:128px\"><img class=\"EYOsld\" alt=\"\" src=\"data:image/gif;base64,R0lGODlhAQABAIAAAP///////yH5BAEKAAEALAAAAAABAAEAAAICTAEAOw==\" style=\"max-width:232px;max-height:128px\" id=\"dimg_23\" data-deferred=\"1\"></div><div class=\"RWuggc kCrYT\"><div><div class=\"BNeawe s3v9rd AP7Wnd\"><span class=\"rQMQod Xb5VRe\">LSU star Joe Burrow will be happy if Bengals draft him No. 1, his father \n",
            "says</span></div></div><div><div class=\"BNeawe tAd8D AP7Wnd\">Fox News\n",
            "9 hours ago</div></div></div></div></div></a></div></div></div></div></div></div></div><div><div class=\"ZINbbc xpd O9g5cc uUPGi\"><div class=\"kCrYT\"><div class=\"BNeawe deIvCb AP7Wnd\">Popular on Twitter</div></div><div><div><div><div class=\"Xdlr0d\"><div class=\"idg8be\"><a class=\"BVG0Nb\" href=\"/url?q=https://twitter.com/LSU/status/1218281073601216513%3Fref_src%3Dtwsrc%255Egoogle%257Ctwcamp%255Eserp%257Ctwgr%255Etweet&amp;sa=U&amp;ved=2ahUKEwi0wLP18ovnAhUBG6YKHfEWDbUQglQwC3oECAMQAg&amp;usg=AOvVaw2xurbNnnnoj9VAl8Ll5cfZ\"><div><div style=\"width:232px\"><div class=\"kCrYT\"><div><div class=\"BNeawe vvjwJb AP7Wnd\">LSU &#10003;</div><div class=\"BNeawe UPmit AP7Wnd\">Twitter &#8250; LSU</div></div></div><div class=\"x54gtf\"></div><div class=\"RWuggc kCrYT\"><div><div class=\"BNeawe s3v9rd AP7Wnd\">Next week, celebrate Dr. Martin Luther King Jr. with the #LSU Community! Events include keynote speaker Yusef Salaam, a performing arts night and the unity celebration.  More info: lsu.edu/mlk pic.twitter.com/nE1LBQqoq&#8230;</div></div><div><div class=\"BNeawe tAd8D AP7Wnd\">3 hours ago</div></div></div></div></div></a><a class=\"BVG0Nb\" href=\"/url?q=https://twitter.com/Clydro_22/status/1217631254062891008%3Fref_src%3Dtwsrc%255Egoogle%257Ctwcamp%255Eserp%257Ctwgr%255Etweet&amp;sa=U&amp;ved=2ahUKEwi0wLP18ovnAhUBG6YKHfEWDbUQglQwDXoECAMQBA&amp;usg=AOvVaw0fzthcP53oXEU6QLNp574f\"><div><div style=\"width:232px\"><div class=\"kCrYT\"><div><div class=\"BNeawe vvjwJb AP7Wnd\">22 &#10003;</div><div class=\"BNeawe UPmit AP7Wnd\">Twitter &#8250; Clydro_22</div></div></div><div class=\"x54gtf\"></div><div class=\"RWuggc kCrYT\"><div><div class=\"BNeawe s3v9rd AP7Wnd\">Proverbs 1:7 &#128156;&#128155; pic.twitter.com/D2F7U1gSS&#8230;</div></div><div><div class=\"BNeawe tAd8D AP7Wnd\">2 days ago</div></div></div></div></div></a><a class=\"BVG0Nb\" href=\"/url?q=https://twitter.com/S4CKGURU/status/1218197760127787010%3Fref_src%3Dtwsrc%255Egoogle%257Ctwcamp%255Eserp%257Ctwgr%255Etweet&amp;sa=U&amp;ved=2ahUKEwi0wLP18ovnAhUBG6YKHfEWDbUQglQwD3oECAMQBg&amp;usg=AOvVaw1g9Kj1_XxFF5MDvKPDUJhM\"><div><div style=\"width:232px\"><div class=\"kCrYT\"><div><div class=\"BNeawe vvjwJb AP7Wnd\">K&#8217;Lavon Chaisson &#10003;</div><div class=\"BNeawe UPmit AP7Wnd\">Twitter &#8250; S4CKGURU</div></div></div><div class=\"x54gtf\"></div><div class=\"RWuggc kCrYT\"><div><div class=\"BNeawe s3v9rd AP7Wnd\">Jeremiah 29:11 pic.twitter.com/VER76ri70&#8230;</div></div><div><div class=\"BNeawe tAd8D AP7Wnd\">9 hours ago</div></div></div></div></div></a><a class=\"BVG0Nb\" href=\"/url?q=https://twitter.com/LSU/status/1218260299318345728%3Fref_src%3Dtwsrc%255Egoogle%257Ctwcamp%255Eserp%257Ctwgr%255Etweet&amp;sa=U&amp;ved=2ahUKEwi0wLP18ovnAhUBG6YKHfEWDbUQglQwEXoECAMQCA&amp;usg=AOvVaw1EvhHYcZls2Pt9hwPANyQg\"><div><div style=\"width:232px\"><div class=\"kCrYT\"><div><div class=\"BNeawe vvjwJb AP7Wnd\">LSU &#10003;</div><div class=\"BNeawe UPmit AP7Wnd\">Twitter &#8250; LSU</div></div></div><div class=\"x54gtf\"></div><div class=\"RWuggc kCrYT\"><div><div class=\"BNeawe s3v9rd AP7Wnd\">On Saturday, Jan. 18, LSU will celebrate the football team&#8217;s perfect season and National Championship, so some lots will be closed and others reserved for the parade and festivities. More info: lsul.su/30BRagP</div></div><div><div class=\"BNeawe tAd8D AP7Wnd\">5 hours ago</div></div></div></div></div></a><a class=\"BVG0Nb\" href=\"/url?q=https://twitter.com/LSU/status/1218184859455082497%3Fref_src%3Dtwsrc%255Egoogle%257Ctwcamp%255Eserp%257Ctwgr%255Etweet&amp;sa=U&amp;ved=2ahUKEwi0wLP18ovnAhUBG6YKHfEWDbUQglQwE3oECAMQCg&amp;usg=AOvVaw0r_qG8rqUL-aMmmehW7I54\"><div><div style=\"width:232px\"><div class=\"kCrYT\"><div><div class=\"BNeawe vvjwJb AP7Wnd\">LSU &#10003;</div><div class=\"BNeawe UPmit AP7Wnd\">Twitter &#8250; LSU</div></div></div><div class=\"x54gtf\"></div><div class=\"RWuggc kCrYT\"><div><div class=\"BNeawe s3v9rd AP7Wnd\">Since classes were canceled Jan. 13-14 for the national championship, #LSU will hold two make-up class days:  The make-up class day for Monday, Jan. 13, will be Saturday, Jan. 25.  The make-up class day for Tuesday, Jan. 14, will be Saturday, Feb. 8. More: lsul.su/2TyC2PZ</div></div><div><div class=\"BNeawe tAd8D AP7Wnd\">10 hours ago</div></div></div></div></div></a><a class=\"BVG0Nb\" href=\"/url?q=https://twitter.com/LSU/status/1217857990700593155%3Fref_src%3Dtwsrc%255Egoogle%257Ctwcamp%255Eserp%257Ctwgr%255Etweet&amp;sa=U&amp;ved=2ahUKEwi0wLP18ovnAhUBG6YKHfEWDbUQglQwFXoECAMQDA&amp;usg=AOvVaw2tApW9p4Q-qnVwZKqvO_LK\"><div><div style=\"width:232px\"><div class=\"kCrYT\"><div><div class=\"BNeawe vvjwJb AP7Wnd\">LSU &#10003;</div><div class=\"BNeawe UPmit AP7Wnd\">Twitter &#8250; LSU</div></div></div><div class=\"x54gtf\"></div><div class=\"RWuggc kCrYT\"><div><div class=\"BNeawe s3v9rd AP7Wnd\">In today&#8217;s episode of &#8220;LSU in NOLA,&#8221; there&#8217;s always a little purple &amp; gold wherever @JenHale504 travels. Whether she&#8217;s covering a game for @NFLonFOX or on the sidelines @PelicansNBA, Hale says the skills she learned at #LSU set her up for success. More: lsul.su/2u0Zuul pic.twitter.com/l6158Tctl&#8230;</div></div><div><div class=\"BNeawe tAd8D AP7Wnd\">1 day ago</div></div></div></div></div></a><a class=\"BVG0Nb\" href=\"/url?q=https://twitter.com/LSU/status/1217816830556852225%3Fref_src%3Dtwsrc%255Egoogle%257Ctwcamp%255Eserp%257Ctwgr%255Etweet&amp;sa=U&amp;ved=2ahUKEwi0wLP18ovnAhUBG6YKHfEWDbUQglQwF3oECAMQDg&amp;usg=AOvVaw38SlDRJ6KuUI6Zq06WUL8W\"><div><div style=\"width:232px\"><div class=\"kCrYT\"><div><div class=\"BNeawe vvjwJb AP7Wnd\">LSU &#10003;</div><div class=\"BNeawe UPmit AP7Wnd\">Twitter &#8250; LSU</div></div></div><div class=\"x54gtf\"></div><div class=\"RWuggc kCrYT\"><div><div class=\"BNeawe s3v9rd AP7Wnd\">#ForeverLSU pic.twitter.com/TN3AUNKo5&#8230;</div></div><div><div class=\"BNeawe tAd8D AP7Wnd\">1 day ago</div></div></div></div></div></a><div class=\"mHhylf\"><div class=\"WZ5GJf\"><a class=\"qN9Ked\" href=\"/url?q=https://twitter.com/search%3Fq%3Dlsu%26ref_src%3Dtwsrc%255Egoogle%257Ctwcamp%255Eserp%257Ctwgr%255Esearch&amp;sa=U&amp;ved=2ahUKEwi0wLP18ovnAhUBG6YKHfEWDbUQgFR6BAgDEA8&amp;usg=AOvVaw03fdt6780VCM2zgnPiIMvC\"><button class=\"DXk5Me Qi9Fd\"><img class=\"hWHuJ\" alt=\"Arrow\" src=\"data:image/gif;base64,R0lGODlhAQABAIAAAP///////yH5BAEKAAEALAAAAAABAAEAAAICTAEAOw==\" style=\"max-width:24px;max-height:24px\" id=\"dimg_19\" data-deferred=\"1\"></button><div class=\"BNeawe ji5jpf tAd8D AP7Wnd\">View on Twitter</div></a></div></div></div></div></div></div></div></div></div><div><div class=\"ZINbbc xpd O9g5cc uUPGi\"><div class=\"kCrYT\"><a href=\"/url?q=https://www.lsu.edu/&amp;sa=U&amp;ved=2ahUKEwi0wLP18ovnAhUBG6YKHfEWDbUQFjAYegQICRAB&amp;usg=AOvVaw0al4a61q5F52rz9uFAcMK6\"><div class=\"BNeawe vvjwJb AP7Wnd\">Louisiana State University</div><div class=\"BNeawe UPmit AP7Wnd\">https://www.lsu.edu</div></a></div><div class=\"x54gtf\"></div><div class=\"kCrYT\"><div><div class=\"BNeawe s3v9rd AP7Wnd\"><div><div><div class=\"BNeawe s3v9rd AP7Wnd\">Louisiana State University (LSU) LSU is the flagship university for Louisiana, supporting land, sea and space grant research.\n",
            "<span class=\"BNeawe\"><a href=\"/url?q=https://www.lsu.edu/about/index.php&amp;sa=U&amp;ved=2ahUKEwi0wLP18ovnAhUBG6YKHfEWDbUQ0gIwGHoECAkQAg&amp;usg=AOvVaw11u2-ipwhi4NZelKXOIDCZ\"><span class=\"XLloXe AP7Wnd\">About Us</span></a></span> · <span class=\"BNeawe\"><a href=\"/url?q=https://www.lsu.edu/admission/index.php&amp;sa=U&amp;ved=2ahUKEwi0wLP18ovnAhUBG6YKHfEWDbUQ0gIwGHoECAkQAw&amp;usg=AOvVaw2pv6Rvp1aIvxEfh51LjTn7\"><span class=\"XLloXe AP7Wnd\">Admissions &amp; Aid</span></a></span> · <span class=\"BNeawe\"><a href=\"/url?q=https://www.lsu.edu/academics/index.php&amp;sa=U&amp;ved=2ahUKEwi0wLP18ovnAhUBG6YKHfEWDbUQ0gIwGHoECAkQBA&amp;usg=AOvVaw3WBuYVEKXHW_bUereRNcqX\"><span class=\"XLloXe AP7Wnd\">Academics</span></a></span> · <span class=\"BNeawe\"><a href=\"/url?q=https://www.lsu.edu/students/howtodolsu.php&amp;sa=U&amp;ved=2ahUKEwi0wLP18ovnAhUBG6YKHfEWDbUQ0gIwGHoECAkQBQ&amp;usg=AOvVaw3YboMFFa0Id8EpMFkPtYy_\"><span class=\"XLloXe AP7Wnd\">How to Do LSU</span></a></span></div></div></div></div></div></div></div></div><div><div class=\"ZINbbc xpd O9g5cc uUPGi\"><div class=\"kCrYT\"><span><div class=\"BNeawe deIvCb AP7Wnd\">LSU Tigers football</div></span><span><div class=\"BNeawe tAd8D AP7Wnd\">Football team</div></span></div><div><div><div><div class=\"Xdlr0d\"><div class=\"idg8be\"><a class=\"BVG0Nb\" href=\"/imgres?imgurl=https://lh3.googleusercontent.com/H8nsJI8AmIU0JnrOfzp8_7ppdER-U2WxjgjFNcp92_QDuT-0x8MqmXMlNTkCdAL95a8Oe2P6VrOlokQB4VjJXCK4MQ&amp;imgrefurl=http://t2.gstatic.com/images?q%3Dtbn:ANd9GcTUzuHzLKs4jY6sipEl-cpjRsdO9l8x9vdN3HdR8cKlrHNZOopg&amp;h=200&amp;w=200&amp;tbnid=slwGoYdlRvx0ZM:&amp;q=lsu&amp;tbnh=186&amp;tbnw=186&amp;usg=AI4_-kScbk6W_SEndwSMxwQq1W5hfI1bMA&amp;vet=1&amp;docid=d79gRzitsEueHM&amp;itg=1&amp;sa=X&amp;ved=2ahUKEwi0wLP18ovnAhUBG6YKHfEWDbUQ9QF6BAgUEAQ\"><div><img class=\"WddBJd\" style=\"max-width:none;height:128px;max-height:128px\" alt=\"lh3.googleusercontent.com/H8nsJI8AmIU0JnrOfzp8_7pp...\" src=\"data:image/gif;base64,R0lGODlhAQABAIAAAP///////yH5BAEKAAEALAAAAAABAAEAAAICTAEAOw==\" id=\"dimg_29\" data-deferred=\"1\"></div></a><a class=\"BVG0Nb\" href=\"/imgres?imgurl=https://pbs.twimg.com/profile_images/382296603/lsu_logo2_400x400.jpg&amp;imgrefurl=https://twitter.com/lsu&amp;h=400&amp;w=400&amp;tbnid=M8u-yOMzisDl8M:&amp;q=lsu&amp;tbnh=124&amp;tbnw=124&amp;usg=AI4_-kTjbgyYx5jrR3aE2pEzvF7WiEhbmg&amp;vet=1&amp;docid=BuLNttgzbAV-YM&amp;sa=X&amp;ved=2ahUKEwi0wLP18ovnAhUBG6YKHfEWDbUQ9QF6BAgUEAY\"><div><img class=\"WddBJd\" style=\"max-width:none;height:128px;max-height:128px\" alt=\"pbs.twimg.com/profile_images/382296603/lsu_logo2_4...\" src=\"data:image/gif;base64,R0lGODlhAQABAIAAAP///////yH5BAEKAAEALAAAAAABAAEAAAICTAEAOw==\" id=\"dimg_31\" data-deferred=\"1\"></div></a><a class=\"BVG0Nb\" href=\"/imgres?imgurl=https://lookaside.fbsbx.com/lookaside/crawler/media/?media_id%3D104375146269828&amp;imgrefurl=https://www.facebook.com/geauxlsu/&amp;h=960&amp;w=960&amp;tbnid=6bJSOVHlRoet6M:&amp;q=lsu&amp;tbnh=111&amp;tbnw=111&amp;usg=AI4_-kQ1bOOrCdRiG0soPetPS6jUktfmyw&amp;vet=1&amp;docid=c3PMHnVVr51kpM&amp;sa=X&amp;ved=2ahUKEwi0wLP18ovnAhUBG6YKHfEWDbUQ9QF6BAgUEAg\"><div><img class=\"WddBJd\" style=\"max-width:none;height:128px;max-height:128px\" alt=\"lookaside.fbsbx.com/lookaside/crawler/media/?media...\" src=\"data:image/gif;base64,R0lGODlhAQABAIAAAP///////yH5BAEKAAEALAAAAAABAAEAAAICTAEAOw==\" id=\"dimg_33\" data-deferred=\"1\"></div></a><a class=\"BVG0Nb\" href=\"/imgres?imgurl=https://bloximages.newyork1.vip.townnews.com/theadvocate.com/content/tncms/assets/v3/editorial/8/0f/80f72694-3266-5da5-b891-c6499a934d77/5d98db6418da2.image.jpg?resize%3D1200%252C1078&amp;imgrefurl=https://www.theadvocate.com/baton_rouge/sports/lsu/article_dcc0b04a-e721-11e9-af0b-63c434f680db.html&amp;h=1078&amp;w=1200&amp;tbnid=J1kFK1Rk-TOOJM:&amp;q=lsu&amp;tbnh=102&amp;tbnw=114&amp;usg=AI4_-kRO0zxde5oGl2IGMWgd-I6TNVc94w&amp;vet=1&amp;docid=SfHvpcS555KEfM&amp;sa=X&amp;ved=2ahUKEwi0wLP18ovnAhUBG6YKHfEWDbUQ9QF6BAgUEAo\"><div><img class=\"WddBJd\" style=\"max-width:none;height:128px;max-height:128px\" alt=\"bloximages.newyork1.vip.townnews.com/theadvocate.c...\" src=\"data:image/gif;base64,R0lGODlhAQABAIAAAP///////yH5BAEKAAEALAAAAAABAAEAAAICTAEAOw==\" id=\"dimg_35\" data-deferred=\"1\"></div></a><div class=\"mHhylf\"><div class=\"WZ5GJf\"><a class=\"qN9Ked\" href=\"http://www.google.com/search?ie=UTF-8&amp;ei=7lEiXrSRHIG2mAXxrbSoCw&amp;q=lsu&amp;tbm=isch&amp;sa=X&amp;ved=2ahUKEwi0wLP18ovnAhUBG6YKHfEWDbUQ7Al6BAgUEAw\"><button class=\"DXk5Me Qi9Fd\"><img class=\"hWHuJ\" alt=\"Arrow\" src=\"data:image/gif;base64,R0lGODlhAQABAIAAAP///////yH5BAEKAAEALAAAAAABAAEAAAICTAEAOw==\" style=\"max-width:24px;max-height:24px\" id=\"dimg_37\" data-deferred=\"1\"></button><div class=\"BNeawe ji5jpf tAd8D AP7Wnd\">View all</div></a></div></div></div></div></div></div></div><div class=\"xpc\"><div class=\"Q0HXG\"></div><div class=\"kCrYT\"><div><div class=\"BNeawe s3v9rd AP7Wnd\"><div><div class=\"BNeawe s3v9rd AP7Wnd\">The LSU Tigers football program, also known as the Fighting Tigers, represents Louisiana State University in the sport of American football. The Tigers compete in the Football Bowl Subdivision of the National Collegiate Athletic Association and... <span class=\"BNeawe\"><a href=\"/url?q=https://en.wikipedia.org/wiki/LSU_Tigers_football&amp;sa=U&amp;ved=2ahUKEwi0wLP18ovnAhUBG6YKHfEWDbUQmhMwIXoECBQQDg&amp;usg=AOvVaw07CnT8ONSB1WmY_oYmUuZC\"><span class=\"XLloXe AP7Wnd\">Wikipedia</span></a></span></div></div></div></div></div><div class=\"vbShOe kCrYT\"><div class=\"AVsepf\"><div class=\"BNeawe s3v9rd AP7Wnd\"><span><span class=\"BNeawe s3v9rd AP7Wnd\">Unclaimed nat'l titles</span></span>: <span><span class=\"BNeawe tAd8D AP7Wnd\">5 (1908, 1935, 1936, 1962, 2011)</span></span></div></div><div class=\"AVsepf\"><div class=\"BNeawe s3v9rd AP7Wnd\"><span><span class=\"BNeawe s3v9rd AP7Wnd\">Claimed nat'l titles</span></span>: <span><span class=\"BNeawe tAd8D AP7Wnd\">3 (1958, 2003, 2007)</span></span></div></div><div class=\"AVsepf\"><div class=\"BNeawe s3v9rd AP7Wnd\"><span><span class=\"BNeawe s3v9rd AP7Wnd\">Bowl record</span></span>: <span><span class=\"BNeawe tAd8D AP7Wnd\">26&#8211;23&#8211;1 (.530)</span></span></div></div><div class=\"AVsepf\"><div class=\"BNeawe s3v9rd AP7Wnd\"><span><span class=\"BNeawe s3v9rd AP7Wnd\">Head coach</span></span>: <span><span class=\"BNeawe tAd8D AP7Wnd\"><span class=\"BNeawe\"><a href=\"/search?ie=UTF-8&amp;q=Ed+Orgeron&amp;stick=H4sIAAAAAAAAAOPgE-LUz9U3SMsosUxTAjPNDFLKi7T0spOt9BNzU4sykxPz4tPy80uSEnNy9GGM-JLUxFyrjNTEFIXk_MTkjEWsXK4pCv5F6alF-XkA0M3Nq1UAAAA&amp;sa=X&amp;ved=2ahUKEwi0wLP18ovnAhUBG6YKHfEWDbUQmxMwJnoECBQQEw\"><span class=\"XLloXe AP7Wnd\">Ed Orgeron</span></a></span></span></span></div></div><div class=\"AVsepf hwc\"><div class=\"BNeawe s3v9rd AP7Wnd\"><span><span class=\"BNeawe s3v9rd AP7Wnd\">Consensus All-Americans</span></span>: <span><span class=\"BNeawe tAd8D AP7Wnd\">38</span></span></div></div><div class=\"AVsepf u2x1Od hwc\"><div class=\"BNeawe s3v9rd AP7Wnd\"><span><span class=\"BNeawe s3v9rd AP7Wnd\">Past conferences</span></span>: <span><span class=\"BNeawe tAd8D AP7Wnd\"><span class=\"BNeawe\"><a href=\"/search?ie=UTF-8&amp;q=SIAA&amp;stick=H4sIAAAAAAAAAOPgE-LUz9U3SMsosUxTgjBzc0uStCSKi630y1OT0hKTS4qtChKLS-KT8_PSUosWsbIEezo6AgBt9qWyOQAAAA&amp;sa=X&amp;ved=2ahUKEwi0wLP18ovnAhUBG6YKHfEWDbUQmxMwKHoECBQQFg\"><span class=\"XLloXe AP7Wnd\">SIAA</span></a></span> (1893&#8211;1922); <span class=\"BNeawe\"><a href=\"/search?ie=UTF-8&amp;q=SoCon&amp;stick=H4sIAAAAAAAAAOPgE-LUz9U3SMsosUxT4gAxswtMkrQkiout9MtTk9ISk0uKrQoSi0vik_Pz0lKLFrGyBuc75-cBAPWNdfg5AAAA&amp;sa=X&amp;ved=2ahUKEwi0wLP18ovnAhUBG6YKHfEWDbUQmxMwKHoECBQQFw\"><span class=\"XLloXe AP7Wnd\">SoCon</span></a></span> (1923&#8211;1932)</span></span></div></div></div><div class=\"Q0HXG\"></div><div><div class=\"kCrYT\"><span class=\"punez\"><div class=\"BNeawe wyrwXc AP7Wnd\">People also search for</div></span></div><div><div><div class=\"Xdlr0d\"><div class=\"idg8be\"><a class=\"BVG0Nb\" href=\"/search?ie=UTF-8&amp;q=Alabama+Crimson+Tide+football&amp;stick=H4sIAAAAAAAAAONgFuLUz9U3SMsosUxT4gIxjcySSuIztISzk630k_Nzc_PzrIozU1LLEyuLF7HKOuYkJiXmJio4F2XmFufnKYQApRTS8vNLkhJzcgCfwJxlTgAAAA&amp;sa=X&amp;ved=2ahUKEwi0wLP18ovnAhUBG6YKHfEWDbUQ0I4BMCl6BAgUEBo\"><div><div style=\"width:112px\"><div class=\"S7Jdze\" style=\"width:112px;height:168px\"><img class=\"EYOsld\" alt=\"\" src=\"data:image/gif;base64,R0lGODlhAQABAIAAAP///////yH5BAEKAAEALAAAAAABAAEAAAICTAEAOw==\" style=\"max-width:112px;max-height:168px\" id=\"dimg_39\" data-deferred=\"1\"></div><div class=\"RWuggc kCrYT\"><div><div class=\"BNeawe s3v9rd AP7Wnd\">Alabama Crimson Tide football</div></div></div></div></div></a><a class=\"BVG0Nb\" href=\"/search?ie=UTF-8&amp;q=Ohio+State&amp;stick=H4sIAAAAAAAAAONgFuLUz9U3SMsosUxTgjCzqoortYSzk630k_Nzc_PzrIozU1LLEyuLF7Fy-Wdk5isElySWpAIAy8-DpDoAAAA&amp;sa=X&amp;ved=2ahUKEwi0wLP18ovnAhUBG6YKHfEWDbUQ0I4BMCl6BAgUEBw\"><div><div style=\"width:112px\"><div class=\"S7Jdze\" style=\"width:112px;height:168px\"><img class=\"EYOsld\" alt=\"\" src=\"data:image/gif;base64,R0lGODlhAQABAIAAAP///////yH5BAEKAAEALAAAAAABAAEAAAICTAEAOw==\" style=\"max-width:112px;max-height:168px\" id=\"dimg_41\" data-deferred=\"1\"></div><div class=\"RWuggc kCrYT\"><div><div class=\"BNeawe s3v9rd AP7Wnd\">Ohio State Buckeyes football</div></div></div></div></div></a><a class=\"BVG0Nb\" href=\"/search?ie=UTF-8&amp;q=Georgia+Bulldogs+football&amp;stick=H4sIAAAAAAAAAONgFuLUz9U3SMsosUxTAjPNs5MKTLWEs5Ot9JPzc3Pz86yKM1NSyxMrixexSrqn5helZyYqOJXm5KTkpxcrpOXnlyQl5uQAADBKZctJAAAA&amp;sa=X&amp;ved=2ahUKEwi0wLP18ovnAhUBG6YKHfEWDbUQ0I4BMCl6BAgUEB4\"><div><div style=\"width:112px\"><div class=\"S7Jdze\" style=\"width:112px;height:168px\"><img class=\"EYOsld\" alt=\"\" src=\"data:image/gif;base64,R0lGODlhAQABAIAAAP///////yH5BAEKAAEALAAAAAABAAEAAAICTAEAOw==\" style=\"max-width:112px;max-height:168px\" id=\"dimg_43\" data-deferred=\"1\"></div><div class=\"RWuggc kCrYT\"><div><div class=\"BNeawe s3v9rd AP7Wnd\">Georgia Bulldogs football</div></div></div></div></div></a><a class=\"BVG0Nb\" href=\"/search?ie=UTF-8&amp;q=Clemson+Tigers+football&amp;stick=H4sIAAAAAAAAAONgFuLUz9U3SMsosUxT4gIxjTPSKrLztISzk630k_Nzc_PzrIozU1LLEyuLF7GKO-ek5hbn5ymEZKanFhUrpOXnlyQl5uQAAN7HHWZIAAAA&amp;sa=X&amp;ved=2ahUKEwi0wLP18ovnAhUBG6YKHfEWDbUQ0I4BMCl6BAgUECA\"><div><div style=\"width:112px\"><div class=\"S7Jdze\" style=\"width:112px;height:168px\"><img class=\"EYOsld\" alt=\"\" src=\"data:image/gif;base64,R0lGODlhAQABAIAAAP///////yH5BAEKAAEALAAAAAABAAEAAAICTAEAOw==\" style=\"max-width:112px;max-height:168px\" id=\"dimg_45\" data-deferred=\"1\"></div><div class=\"RWuggc kCrYT\"><div><div class=\"BNeawe s3v9rd AP7Wnd\">Clemson Tigers football</div></div></div></div></div></a><a class=\"BVG0Nb\" href=\"/search?ie=UTF-8&amp;q=Auburn+Tigers+football&amp;stick=H4sIAAAAAAAAAONgFuLUz9U3SMsosUxTAjMtzDLSLbWEs5Ot9JPzc3Pz86yKM1NSyxMrixexijmWJpUW5SmEZKanFhUrpOXnlyQl5uQAAJScHCRGAAAA&amp;sa=X&amp;ved=2ahUKEwi0wLP18ovnAhUBG6YKHfEWDbUQ0I4BMCl6BAgUECI\"><div><div style=\"width:112px\"><div class=\"S7Jdze\" style=\"width:112px;height:168px\"><img class=\"EYOsld\" alt=\"\" src=\"data:image/gif;base64,R0lGODlhAQABAIAAAP///////yH5BAEKAAEALAAAAAABAAEAAAICTAEAOw==\" style=\"max-width:112px;max-height:168px\" id=\"dimg_47\" data-deferred=\"1\"></div><div class=\"RWuggc kCrYT\"><div><div class=\"BNeawe s3v9rd AP7Wnd\">Auburn Tigers football</div></div></div></div></div></a><a class=\"BVG0Nb\" href=\"/search?ie=UTF-8&amp;q=Oklahoma+Sooners+football&amp;stick=H4sIAAAAAAAAAONgFuLUz9U3SMsosUxTAjPTDapMLbSEs5Ot9JPzc3Pz86yKM1NSyxMrixexSvpn5yRm5OcmKgTn5-elFhUrpOXnlyQl5uQAAGyx6BFJAAAA&amp;sa=X&amp;ved=2ahUKEwi0wLP18ovnAhUBG6YKHfEWDbUQ0I4BMCl6BAgUECQ\"><div><div style=\"width:112px\"><div class=\"S7Jdze\" style=\"width:112px;height:168px\"><img class=\"EYOsld\" alt=\"\" src=\"data:image/gif;base64,R0lGODlhAQABAIAAAP///////yH5BAEKAAEALAAAAAABAAEAAAICTAEAOw==\" style=\"max-width:112px;max-height:168px\" id=\"dimg_49\" data-deferred=\"1\"></div><div class=\"RWuggc kCrYT\"><div><div class=\"BNeawe s3v9rd AP7Wnd\">Oklahoma Sooners football</div></div></div></div></div></a></div></div></div></div></div><hr><div class=\"duf-h\"><div class=\"fLtXsc iIWm4b\" aria-expanded=\"false\" id=\"tsuid51\" style=\"text-align:center\" role=\"button\"><div class=\"Lym8W\"><div class=\"AeQQub hwc\"></div><div class=\"YCU7eb hwc\"></div><div class=\"IyYaEd hwx\"></div><div class=\"ECUHQe hwx\"></div></div></div></div></div></div></div><div><div class=\"ZINbbc xpd O9g5cc uUPGi\"><div class=\"kCrYT\"><a href=\"/url?q=https://lsusports.net/&amp;sa=U&amp;ved=2ahUKEwi0wLP18ovnAhUBG6YKHfEWDbUQFjAqegQIBxAB&amp;usg=AOvVaw0MbDNaRCaQFSpLalYu43dU\"><div class=\"BNeawe vvjwJb AP7Wnd\">LSUsports.net - The Official Website of LSU Tigers Athletics</div><div class=\"BNeawe UPmit AP7Wnd\">https://lsusports.net</div></a></div><div class=\"x54gtf\"></div><div class=\"kCrYT\"><div><div class=\"BNeawe s3v9rd AP7Wnd\"><div><div><div class=\"BNeawe s3v9rd AP7Wnd\">Fans are invited to the 2019 LSU Football National Championship Celebration on Saturday. 2019 NATIONAL CHAMPIONSHIP. Relive the 2019 LSU Football team's national championship victory over Clemson, 42-25.</div></div></div></div></div></div></div></div><div><div class=\"ZINbbc xpd O9g5cc uUPGi\"><div class=\"kCrYT\"><div class=\"nGphre\"><img class=\"UykT9d\" alt=\"\" src=\"data:image/gif;base64,R0lGODlhAQABAIAAAP///////yH5BAEKAAEALAAAAAABAAEAAAICTAEAOw==\" style=\"max-width:72px;max-height:72px\" id=\"dimg_52\" data-deferred=\"1\"></div><span><div class=\"BNeawe deIvCb AP7Wnd\">Louisiana State University</div></span><span><div class=\"BNeawe tAd8D AP7Wnd\"><span class=\"r0bn4c rQMQod tP9Zud\"> <span aria-hidden=\"true\" class=\"oqSTJd\">4.6</span> <div class=\"Hk2yDb KsR1A\" aria-label=\"Rated 4.6 out of 5\" role=\"img\"><span style=\"width:63px\"></span></div> <span>(406)</span> </span>\n",
            "Public university in Baton Rouge, Louisiana</div></span><div class=\"nYT7Qb\"></div></div><div class=\"Q0HXG\"></div><div class=\"kCrYT\"><div class=\"skVgpb\"><a class=\"VGHMXd\" href=\"http://maps.google.com/maps?um=1&amp;ie=UTF-8&amp;fb=1&amp;gl=us&amp;sa=X&amp;geocode=KaMcDngjpyaGMVNUFGMuH7LN&amp;daddr=Louisiana+State+University,+Baton+Rouge,+LA+70803&amp;ved=2ahUKEwi0wLP18ovnAhUBG6YKHfEWDbUQlDt6BAgVEAM\"><div class=\"LpaDrb S7Jdze\" style=\"width:24px;height:24px\"><img class=\"EYOsld\" alt=\"\" src=\"data:image/gif;base64,R0lGODlhAQABAIAAAP///////yH5BAEKAAEALAAAAAABAAEAAAICTAEAOw==\" style=\"max-width:24px;max-height:24px\" id=\"dimg_54\" data-deferred=\"1\"></div><div class=\"BNeawe ji5jpf uEec3 AP7Wnd\">Directions</div></a><a class=\"VGHMXd\" href=\"/url?q=http://www.lsu.edu/&amp;sa=U&amp;ved=2ahUKEwi0wLP18ovnAhUBG6YKHfEWDbUQgU96BAgVEAQ&amp;usg=AOvVaw1MQXzSi3ceEshMO2SHTqAW\"><div class=\"LpaDrb S7Jdze\" style=\"width:24px;height:24px\"><img class=\"EYOsld\" alt=\"\" src=\"data:image/gif;base64,R0lGODlhAQABAIAAAP///////yH5BAEKAAEALAAAAAABAAEAAAICTAEAOw==\" style=\"max-width:24px;max-height:24px\" id=\"dimg_56\" data-deferred=\"1\"></div><div class=\"BNeawe ji5jpf uEec3 AP7Wnd\">Website</div></a></div></div><div class=\"Q0HXG\"></div><div class=\"kCrYT\"><div><div class=\"BNeawe s3v9rd AP7Wnd\"><div><div class=\"BNeawe s3v9rd AP7Wnd\">Louisiana State University is a public research university in Baton Rouge, Louisiana. The university was founded in 1853 in what is now known as Pineville, Louisiana, under the name Louisiana State Seminary of Learning &amp; Military Academy.</div></div></div></div></div><div class=\"vbShOe kCrYT\"><div class=\"AVsepf\"><div class=\"BNeawe s3v9rd AP7Wnd\"><span><span class=\"BNeawe s3v9rd AP7Wnd\">Address</span></span>: <span><span class=\"BNeawe tAd8D AP7Wnd\">Baton Rouge, LA 70803</span></span></div></div><div class=\"AVsepf u2x1Od\"><div class=\"BNeawe s3v9rd AP7Wnd\"><span><span class=\"BNeawe s3v9rd AP7Wnd\">Phone</span></span>: <span><span class=\"BNeawe tAd8D AP7Wnd\">(225) 578-3202</span></span></div></div></div></div></div><div class=\"ZINbbc xpd O9g5cc uUPGi\"><h2 class=\"wITvVb\"><span><div class=\"BNeawe deIvCb AP7Wnd\">People also ask</div></span></h2><div class=\"LKSyXe\"></div><div class=\"xpc\"><div class=\"duf-h\"><div class=\"fLtXsc iIWm4b\" aria-expanded=\"false\" id=\"tsuid25\" role=\"button\" data-ved=\"2ahUKEwi0wLP18ovnAhUBG6YKHfEWDbUQuk56BAgPEAI\"><div class=\"Lt3Tzc\">What is LSU?</div><div class=\"Lym8W xCgLUe\"><div class=\"AeQQub hwc\"></div><div class=\"YCU7eb hwc\"></div><div class=\"IyYaEd hwx\"></div><div class=\"ECUHQe hwx\"></div></div></div></div><div class=\"hwc M56Nqc\"><div class=\"Z8j5ae\"><div><div class=\"ZINbbc xpd O9g5cc uUPGi\"><div class=\"kCrYT\"><div><div class=\"BNeawe s3v9rd AP7Wnd\"><div><div class=\"BNeawe s3v9rd AP7Wnd\">Louisiana State University (officially Louisiana State University and Agricultural and Mechanical College, commonly referred to as <span class=\"FCUp0c rQMQod\">LSU</span>) is a public research university in Baton Rouge, Louisiana. ... Several of <span class=\"FCUp0c rQMQod\">LSU's</span> graduate schools, such as the E. J.</div></div></div></div></div><div class=\"x54gtf\"></div><div class=\"kCrYT\"><a href=\"/url?q=https://en.wikipedia.org/wiki/Louisiana_State_University&amp;sa=U&amp;ved=2ahUKEwi0wLP18ovnAhUBG6YKHfEWDbUQFnoECAQQAg&amp;usg=AOvVaw33YoATm1wnXDg3BVewCkTn\"><span><div class=\"BNeawe vvjwJb AP7Wnd\">Louisiana State University - Wikipedia</div></span><span><div class=\"BNeawe UPmit AP7Wnd\">https://en.wikipedia.org &gt; wiki &gt; Louisiana_State_University</div></span></a></div></div></div></div><div><div class=\"PDHNXc\"><div class=\"iU269d TeHtNe\"><span class=\"kXUfPb Vp9uZ\"><a class=\"RtoYlb\" href=\"http://www.google.com/search?ie=UTF-8&amp;ei=7lEiXrSRHIG2mAXxrbSoCw&amp;q=What+is+LSU?&amp;sa=X&amp;ved=2ahUKEwi0wLP18ovnAhUBG6YKHfEWDbUQzmd6BAgPEAM\">More results</a></span></div></div></div></div></div><div class=\"LKSyXe\"></div><div class=\"xpc\"><div class=\"duf-h\"><div class=\"fLtXsc iIWm4b\" aria-expanded=\"false\" id=\"tsuid26\" role=\"button\" data-ved=\"2ahUKEwi0wLP18ovnAhUBG6YKHfEWDbUQuk56BAgPEAU\"><div class=\"Lt3Tzc\">Is LSU the same as LSU A&amp;M?</div><div class=\"Lym8W xCgLUe\"><div class=\"AeQQub hwc\"></div><div class=\"YCU7eb hwc\"></div><div class=\"IyYaEd hwx\"></div><div class=\"ECUHQe hwx\"></div></div></div></div><div class=\"hwc M56Nqc\"><div class=\"Z8j5ae\"><div><div class=\"ZINbbc xpd O9g5cc uUPGi\"><div class=\"kCrYT\"><div><div class=\"BNeawe s3v9rd AP7Wnd\"><div><div class=\"BNeawe s3v9rd AP7Wnd\">Colloquially, most people call the university \"<span class=\"FCUp0c rQMQod\">Louisiana State University</span>\" or \"<span class=\"FCUp0c rQMQod\">LSU</span>\". In sports competitions, \"<span class=\"FCUp0c rQMQod\">LSU</span>\" is almost always associated with <span class=\"FCUp0c rQMQod\">Louisiana State University</span> and <span class=\"FCUp0c rQMQod\">A&amp;M</span> College or the <span class=\"FCUp0c rQMQod\">LSU</span> Athletics Department.</div></div></div></div></div><div class=\"x54gtf\"></div><div class=\"kCrYT\"><a href=\"/url?q=https://simple.wikipedia.org/wiki/Louisiana_State_University_and_A%2526M_College&amp;sa=U&amp;ved=2ahUKEwi0wLP18ovnAhUBG6YKHfEWDbUQFnoECAgQAg&amp;usg=AOvVaw1aKJREueMdIwdYf9XNhyjU\"><span><div class=\"BNeawe vvjwJb AP7Wnd\">Louisiana State University and A&amp;M College - Simple English ...</div></span><span><div class=\"BNeawe UPmit AP7Wnd\">https://simple.wikipedia.org &gt; wiki &gt; Louisiana_State_University_and_A&amp;...</div></span></a></div></div></div></div><div><div class=\"PDHNXc\"><div class=\"iU269d TeHtNe\"><span class=\"kXUfPb Vp9uZ\"><a class=\"RtoYlb\" href=\"http://www.google.com/search?ie=UTF-8&amp;ei=7lEiXrSRHIG2mAXxrbSoCw&amp;q=Is+LSU+the+same+as+LSU+A%26M?&amp;sa=X&amp;ved=2ahUKEwi0wLP18ovnAhUBG6YKHfEWDbUQzmd6BAgPEAY\">More results</a></span></div></div></div></div></div><div class=\"LKSyXe\"></div><div class=\"xpc\"><div class=\"duf-h\"><div class=\"fLtXsc iIWm4b\" aria-expanded=\"false\" id=\"tsuid27\" role=\"button\" data-ved=\"2ahUKEwi0wLP18ovnAhUBG6YKHfEWDbUQuk56BAgPEAg\"><div class=\"Lt3Tzc\">What GPA do you need to get into LSU?</div><div class=\"Lym8W xCgLUe\"><div class=\"AeQQub hwc\"></div><div class=\"YCU7eb hwc\"></div><div class=\"IyYaEd hwx\"></div><div class=\"ECUHQe hwx\"></div></div></div></div><div class=\"hwc M56Nqc\"><div class=\"Z8j5ae\"><div><div class=\"ZINbbc xpd O9g5cc uUPGi\"><div class=\"kCrYT\"><div><div class=\"BNeawe s3v9rd AP7Wnd\"><div><div class=\"BNeawe s3v9rd AP7Wnd\">There are minimum admission requirements: <span class=\"FCUp0c rQMQod\">you</span> must <span class=\"FCUp0c rQMQod\">have</span> a 3.0 unweighted academic <span class=\"FCUp0c rQMQod\">GPA</span> based on 19 core units. Additionally, students must meet either the ACT or SAT requirement: A 22 composite score on the ACT, with an 18 English subscore and a 19 math subscore, or.</div></div></div></div></div><div class=\"x54gtf\"></div><div class=\"kCrYT\"><a href=\"/url?q=http://www.prepscholar.com/sat/s/colleges/LSU-admission-requirements&amp;sa=U&amp;ved=2ahUKEwi0wLP18ovnAhUBG6YKHfEWDbUQFnoECAwQAg&amp;usg=AOvVaw161APgCredVsP-KVdZ-pHG\"><span><div class=\"BNeawe vvjwJb AP7Wnd\">This Year's LSU Admission Requirements - PrepScholar</div></span><span><div class=\"BNeawe UPmit AP7Wnd\">www.prepscholar.com &gt; sat &gt; colleges &gt; LSU-admission-requirements</div></span></a></div></div></div></div><div><div class=\"PDHNXc\"><div class=\"iU269d TeHtNe\"><span class=\"kXUfPb Vp9uZ\"><a class=\"RtoYlb\" href=\"http://www.google.com/search?ie=UTF-8&amp;ei=7lEiXrSRHIG2mAXxrbSoCw&amp;q=What+GPA+do+you+need+to+get+into+LSU?&amp;sa=X&amp;ved=2ahUKEwi0wLP18ovnAhUBG6YKHfEWDbUQzmd6BAgPEAk\">More results</a></span></div></div></div></div></div><div class=\"LKSyXe\"></div><div class=\"xpc\"><div class=\"duf-h\"><div class=\"fLtXsc iIWm4b\" aria-expanded=\"false\" id=\"tsuid28\" role=\"button\" data-ved=\"2ahUKEwi0wLP18ovnAhUBG6YKHfEWDbUQuk56BAgPEAs\"><div class=\"Lt3Tzc\">What is the LSU motto?</div><div class=\"Lym8W xCgLUe\"><div class=\"AeQQub hwc\"></div><div class=\"YCU7eb hwc\"></div><div class=\"IyYaEd hwx\"></div><div class=\"ECUHQe hwx\"></div></div></div></div><div class=\"hwc M56Nqc\"><div class=\"Z8j5ae\"><div><div class=\"ZINbbc xpd O9g5cc uUPGi\"><div class=\"kCrYT\"><div><div class=\"BNeawe s3v9rd AP7Wnd\"><div><div class=\"BNeawe s3v9rd AP7Wnd\">1. You Spell It \"Geaux\" Instead of \"Go\" Anyone who is a true <span class=\"FCUp0c rQMQod\">LSU</span> football fan knows for a fact that when it comes to saying \"Go Tigers,\" the proper spelling is \"Geaux Tigers.\"</div></div></div></div></div><div class=\"x54gtf\"></div><div class=\"kCrYT\"><a href=\"/url?q=https://bleacherreport.com/articles/1118954-lsu-football-10-ways-you-know-youre-a-tigers-fan&amp;sa=U&amp;ved=2ahUKEwi0wLP18ovnAhUBG6YKHfEWDbUQFnoECA4QAg&amp;usg=AOvVaw0kMG75oXV69arMuY__dnTx\"><span><div class=\"BNeawe vvjwJb AP7Wnd\">LSU Football: 10 Ways You Know You're a Tigers Fan | Bleacher ...</div></span><span><div class=\"BNeawe UPmit AP7Wnd\">https://bleacherreport.com &gt; articles &gt; 1118954-lsu-football-10-ways-you-k...</div></span></a></div></div></div></div><div><div class=\"PDHNXc\"><div class=\"iU269d TeHtNe\"><span class=\"kXUfPb Vp9uZ\"><a class=\"RtoYlb\" href=\"http://www.google.com/search?ie=UTF-8&amp;ei=7lEiXrSRHIG2mAXxrbSoCw&amp;q=What+is+the+LSU+motto?&amp;sa=X&amp;ved=2ahUKEwi0wLP18ovnAhUBG6YKHfEWDbUQzmd6BAgPEAw\">More results</a></span></div></div></div></div></div></div><div><div class=\"ZINbbc xpd O9g5cc uUPGi\"><div class=\"kCrYT\"><a href=\"/url?q=https://www.espn.com/college-football/story/_/id/28503103/president-donald-trump-welcomes-cfp-champion-lsu-tigers-white-house&amp;sa=U&amp;ved=2ahUKEwi0wLP18ovnAhUBG6YKHfEWDbUQFjBBegQIChAB&amp;usg=AOvVaw2jBoqwHX_IRjsi1szHLm21\"><div class=\"BNeawe vvjwJb AP7Wnd\">President Donald Trump welcomes CFP champion LSU Tigers to ...</div><div class=\"BNeawe UPmit AP7Wnd\">https://www.espn.com &#8250; college-football &#8250; story &#8250; president-donald-trump-...</div></a></div><div class=\"x54gtf\"></div><div class=\"kCrYT\"><div><div class=\"BNeawe s3v9rd AP7Wnd\"><div><div><div class=\"BNeawe s3v9rd AP7Wnd\">President Donald Trump paid tribute to the national champion LSU football team on Friday, saying it would long be remembered as one of the greatest in college history.  The undefeated Tigers visited the White House after stopping Clemson on Monday night in the College Football ...</div></div></div></div></div></div></div></div><div><div class=\"ZINbbc xpd O9g5cc uUPGi\"><div class=\"kCrYT\"><a href=\"/url?q=https://www.espn.com/college-football/team/_/id/99/lsu-tigers&amp;sa=U&amp;ved=2ahUKEwi0wLP18ovnAhUBG6YKHfEWDbUQFjBCegQIBRAB&amp;usg=AOvVaw093VjGp8VHlte6Uufd4B5D\"><div class=\"BNeawe vvjwJb AP7Wnd\">LSU Tigers College Football - LSU News, Scores, Stats, Rumors ...</div><div class=\"BNeawe UPmit AP7Wnd\">https://www.espn.com &#8250; college-football &#8250; team &#8250; lsu-tigers</div></a></div><div class=\"x54gtf\"></div><div class=\"kCrYT\"><div><div class=\"BNeawe s3v9rd AP7Wnd\"><div><div><div class=\"BNeawe s3v9rd AP7Wnd\">LSU's Thaddeus Moss, the son of Hall of Famer Randy Moss, has declared for the NFL draft. ESPN ranks him 10th among draft-eligible tight ends for this year's  ...</div></div></div></div></div></div></div></div><div><div class=\"ZINbbc xpd O9g5cc uUPGi\"><div class=\"kCrYT\"><a href=\"/url?q=https://en.wikipedia.org/wiki/Louisiana_State_University&amp;sa=U&amp;ved=2ahUKEwi0wLP18ovnAhUBG6YKHfEWDbUQFjBDegQIBhAB&amp;usg=AOvVaw3qmif0WUAN89SsvDFbnM6Z\"><div class=\"BNeawe vvjwJb AP7Wnd\">Louisiana State University - Wikipedia</div><div class=\"BNeawe UPmit AP7Wnd\">https://en.wikipedia.org &#8250; wiki &#8250; Louisiana_State_University</div></a></div><div class=\"x54gtf\"></div><div class=\"kCrYT\"><div><div class=\"BNeawe s3v9rd AP7Wnd\"><div><div><div class=\"BNeawe s3v9rd AP7Wnd\">Louisiana State University is a public research university in Baton Rouge, Louisiana. The university was founded in 1853 in what is now known as Pineville , ...\n",
            "\n",
            "Campus: <span class=\"r0bn4c rQMQod\">Urban 4,925 acres (19.93 km2)</span>\n",
            "Students: <span class=\"r0bn4c rQMQod\">31,761 (Fall 2019)</span>\n",
            "Established: <span class=\"r0bn4c rQMQod\">1860</span>\n",
            "President: <span class=\"BNeawe\"><a href=\"/url?q=https://en.wikipedia.org/wiki/Tom_Galligan_(college_president)&amp;sa=U&amp;ved=2ahUKEwi0wLP18ovnAhUBG6YKHfEWDbUQs2YwQ3oECAYQBw&amp;usg=AOvVaw10cvaGuyBIllU88y2bW_0O\"><span class=\"XLloXe AP7Wnd\">Tom Galligan</span></a></span><span class=\"r0bn4c rQMQod\"> (interim)</span></div></div></div></div></div></div></div></div><div><div class=\"ZINbbc xpd O9g5cc uUPGi\"><div class=\"kCrYT\"><a href=\"/url?q=https://en.wikipedia.org/wiki/LSU_Tigers_football&amp;sa=U&amp;ved=2ahUKEwi0wLP18ovnAhUBG6YKHfEWDbUQFjBEegQICxAB&amp;usg=AOvVaw030ubmb_ANkFSKX2Qep725\"><div class=\"BNeawe vvjwJb AP7Wnd\">LSU Tigers football - Wikipedia</div><div class=\"BNeawe UPmit AP7Wnd\">https://en.wikipedia.org &#8250; wiki &#8250; LSU_Tigers_football</div></a></div><div class=\"x54gtf\"></div><div class=\"kCrYT\"><div><div class=\"BNeawe s3v9rd AP7Wnd\"><div><div><div class=\"BNeawe s3v9rd AP7Wnd\">The LSU Tigers football program, also known as the Fighting Tigers, represents Louisiana State University in the sport of American football. The Tigers compete ...\n",
            "\n",
            "Conference titles: <span class=\"r0bn4c rQMQod\">16 (12 SEC, 3 SIAA, 1 SoCon)</span>\n",
            "Division titles: <span class=\"r0bn4c rQMQod\">9</span>\n",
            "First season: <span class=\"BNeawe\"><a href=\"/url?q=https://en.wikipedia.org/wiki/1893_LSU_football_team&amp;sa=U&amp;ved=2ahUKEwi0wLP18ovnAhUBG6YKHfEWDbUQs2YwRHoECAsQBg&amp;usg=AOvVaw3zwEn2vFfF_2qWUXuFdVzp\"><span class=\"XLloXe AP7Wnd\">1893</span></a></span>\n",
            "Conference: <span class=\"BNeawe\"><a href=\"/url?q=https://en.wikipedia.org/wiki/Southeastern_Conference&amp;sa=U&amp;ved=2ahUKEwi0wLP18ovnAhUBG6YKHfEWDbUQs2YwRHoECAsQCA&amp;usg=AOvVaw2yX-kWympWEtyvMsECc2Ba\"><span class=\"XLloXe AP7Wnd\">Southeastern Conference</span></a></span></div></div></div></div></div></div></div></div><div><div class=\"ZINbbc xpd O9g5cc uUPGi\"><div class=\"kCrYT\"><a href=\"/url?q=https://www.wafb.com/2020/01/16/watch-live-lsu-national-championship-team-leaves-white-house/&amp;sa=U&amp;ved=2ahUKEwi0wLP18ovnAhUBG6YKHfEWDbUQFjBFegQIDRAB&amp;usg=AOvVaw0_vNSvEoR4VZquzkRJVCAp\"><div class=\"BNeawe vvjwJb AP7Wnd\">President Trump congratulates LSU's football team on national title ...</div><div class=\"BNeawe UPmit AP7Wnd\">https://www.wafb.com &#8250; 2020/01/16 &#8250; watch-live-lsu-national-championshi...</div></a></div><div class=\"x54gtf\"></div><div class=\"kCrYT\"><div><div class=\"BNeawe s3v9rd AP7Wnd\"><div><div><div class=\"BNeawe s3v9rd AP7Wnd\"><span class=\"r0bn4c rQMQod\">1 day ago</span><span class=\"r0bn4c rQMQod\"> · </span>WASHINGTON (WAFB) - The LSU national championship-winning Tigers met with President Donald Trump as part of the team's victory ...</div></div></div></div></div></div></div></div><div><div class=\"ZINbbc xpd O9g5cc uUPGi\"><div class=\"kCrYT\"><a href=\"/url?q=https://www.youtube.com/watch%3Fv%3DyY6ez4A1bWc&amp;sa=U&amp;ved=2ahUKEwi0wLP18ovnAhUBG6YKHfEWDbUQtwIwRnoECAIQAQ&amp;usg=AOvVaw2wqUfnWIdikWZMO7h1zi1k\"><div class=\"BNeawe vvjwJb AP7Wnd\">Trump honors LSU football team, jokes about impeachment l ABC ...</div><div class=\"BNeawe UPmit AP7Wnd\">https://www.youtube.com &#8250; watch</div></a></div><div class=\"x54gtf\"></div><div class=\"kCrYT\"><a href=\"/url?q=https://www.youtube.com/watch%3Fv%3DyY6ez4A1bWc&amp;sa=U&amp;ved=2ahUKEwi0wLP18ovnAhUBG6YKHfEWDbUQuAIwRnoECAIQAg&amp;usg=AOvVaw0kWAeUkNHzUNLQ_-rPM3no\"><div class=\"lcJF1d SXn0g GXKcHe p1CInd\"><div style=\"width:120px;height:67px\"><img class=\"EYOsld\" alt=\"Video for lsu\" src=\"data:image/gif;base64,R0lGODlhAQABAIAAAP///////yH5BAEKAAEALAAAAAABAAEAAAICTAEAOw==\" style=\"width:120px;height:67px\" id=\"dimg_3\" data-deferred=\"1\"></div><div class=\"qW7zYd HMoqlc\"></div><div class=\"qW7zYd X8r0X\" style=\"background-size:36px\"></div></div></a><div><div class=\"BNeawe s3v9rd AP7Wnd\"><div><div><div class=\"BNeawe s3v9rd AP7Wnd\"><span class=\"r0bn4c rQMQod\">5 hours ago</span><span class=\"r0bn4c rQMQod\"> · </span>Players from Louisiana State University visited the White House after winning the 2020 college ...Duration: 6:54\n",
            "Posted: 5 hours ago</div></div></div></div></div><div class=\"rl7ilb\"></div></div></div></div><div><div class=\"ZINbbc xpd O9g5cc uUPGi\"><div class=\"kCrYT\"><div class=\"q4vBJc\"></div><span><div class=\"BNeawe deIvCb AP7Wnd\"><span class=\"FCUp0c rQMQod\">Related searches</span></div></span></div><div class=\"Q0HXG\"></div><div class=\"X7NTVe\"><a class=\"tHmfQe\" href=\"/search?ie=UTF-8&amp;q=lsu+school&amp;sa=X&amp;ved=2ahUKEwi0wLP18ovnAhUBG6YKHfEWDbUQ1QJ6BAgAEAE\"><div class=\"am3QBf\"><div><span><div class=\"BNeawe deIvCb AP7Wnd\">lsu school</div></span></div></div></a><div class=\"HBTM6d XS7yGd\"><a href=\"/search?ie=UTF-8&amp;q=lsu+school\"><div class=\"BNeawe mAdjQc uEec3 AP7Wnd\">&gt;</div></a></div></div><div class=\"Q0HXG\"></div><div class=\"X7NTVe\"><a class=\"tHmfQe\" href=\"/search?ie=UTF-8&amp;q=lsu+address&amp;sa=X&amp;ved=2ahUKEwi0wLP18ovnAhUBG6YKHfEWDbUQ1QJ6BAgAEAI\"><div class=\"am3QBf\"><div><span><div class=\"BNeawe deIvCb AP7Wnd\">lsu address</div></span></div></div></a><div class=\"HBTM6d XS7yGd\"><a href=\"/search?ie=UTF-8&amp;q=lsu+address\"><div class=\"BNeawe mAdjQc uEec3 AP7Wnd\">&gt;</div></a></div></div><div class=\"Q0HXG\"></div><div class=\"X7NTVe\"><a class=\"tHmfQe\" href=\"/search?ie=UTF-8&amp;q=lsu+football&amp;sa=X&amp;ved=2ahUKEwi0wLP18ovnAhUBG6YKHfEWDbUQ1QJ6BAgAEAM\"><div class=\"am3QBf\"><div><span><div class=\"BNeawe deIvCb AP7Wnd\">lsu football</div></span></div></div></a><div class=\"HBTM6d XS7yGd\"><a href=\"/search?ie=UTF-8&amp;q=lsu+football\"><div class=\"BNeawe mAdjQc uEec3 AP7Wnd\">&gt;</div></a></div></div><div class=\"Q0HXG\"></div><div class=\"X7NTVe\"><a class=\"tHmfQe\" href=\"/search?ie=UTF-8&amp;q=lsu+schedule&amp;sa=X&amp;ved=2ahUKEwi0wLP18ovnAhUBG6YKHfEWDbUQ1QJ6BAgAEAQ\"><div class=\"am3QBf\"><div><span><div class=\"BNeawe deIvCb AP7Wnd\">lsu schedule</div></span></div></div></a><div class=\"HBTM6d XS7yGd\"><a href=\"/search?ie=UTF-8&amp;q=lsu+schedule\"><div class=\"BNeawe mAdjQc uEec3 AP7Wnd\">&gt;</div></a></div></div><div class=\"Q0HXG\"></div><div class=\"X7NTVe\"><a class=\"tHmfQe\" href=\"/search?ie=UTF-8&amp;q=lsu+tigers+football&amp;sa=X&amp;ved=2ahUKEwi0wLP18ovnAhUBG6YKHfEWDbUQ1QJ6BAgAEAU\"><div class=\"am3QBf\"><div><span><div class=\"BNeawe deIvCb AP7Wnd\">lsu tigers football</div></span></div></div></a><div class=\"HBTM6d XS7yGd\"><a href=\"/search?ie=UTF-8&amp;q=lsu+tigers+football\"><div class=\"BNeawe mAdjQc uEec3 AP7Wnd\">&gt;</div></a></div></div><div class=\"Q0HXG\"></div><div class=\"X7NTVe\"><a class=\"tHmfQe\" href=\"/search?ie=UTF-8&amp;q=lsu+score&amp;sa=X&amp;ved=2ahUKEwi0wLP18ovnAhUBG6YKHfEWDbUQ1QJ6BAgAEAY\"><div class=\"am3QBf\"><div><span><div class=\"BNeawe deIvCb AP7Wnd\">lsu score</div></span></div></div></a><div class=\"HBTM6d XS7yGd\"><a href=\"/search?ie=UTF-8&amp;q=lsu+score\"><div class=\"BNeawe mAdjQc uEec3 AP7Wnd\">&gt;</div></a></div></div><div class=\"Q0HXG\"></div><div class=\"X7NTVe\"><a class=\"tHmfQe\" href=\"/search?ie=UTF-8&amp;q=lsu+basketball&amp;sa=X&amp;ved=2ahUKEwi0wLP18ovnAhUBG6YKHfEWDbUQ1QJ6BAgAEAc\"><div class=\"am3QBf\"><div><span><div class=\"BNeawe deIvCb AP7Wnd\">lsu basketball</div></span></div></div></a><div class=\"HBTM6d XS7yGd\"><a href=\"/search?ie=UTF-8&amp;q=lsu+basketball\"><div class=\"BNeawe mAdjQc uEec3 AP7Wnd\">&gt;</div></a></div></div><div class=\"Q0HXG\"></div><div class=\"X7NTVe\"><a class=\"tHmfQe\" href=\"/search?ie=UTF-8&amp;q=lsu+acceptance+rate&amp;sa=X&amp;ved=2ahUKEwi0wLP18ovnAhUBG6YKHfEWDbUQ1QJ6BAgAEAg\"><div class=\"am3QBf\"><div><span><div class=\"BNeawe deIvCb AP7Wnd\">lsu acceptance rate</div></span></div></div></a><div class=\"HBTM6d XS7yGd\"><a href=\"/search?ie=UTF-8&amp;q=lsu+acceptance+rate\"><div class=\"BNeawe mAdjQc uEec3 AP7Wnd\">&gt;</div></a></div></div></div></div><footer> <div>  <div class=\"ZINbbc xpd O9g5cc uUPGi BmP5tf\"><div class=\"nMymef MUxGbd lyLwlc\"><a class=\"nBDE1b G5eFlf\" href=\"/search?q=lsu&amp;ie=UTF-8&amp;ei=7lEiXrSRHIG2mAXxrbSoCw&amp;start=10&amp;sa=N\" aria-label=\"Next page\">Next &gt;</a></div></div> </div>   <div id=\"mCljob\"><div><a href=\"/url?q=https://accounts.google.com/ServiceLogin%3Fcontinue%3Dhttp://www.google.com/search%253Fq%253Dlsu%26hl%3Den&amp;sa=U&amp;ved=0ahUKEwi0wLP18ovnAhUBG6YKHfEWDbUQxs8CCMcB&amp;usg=AOvVaw2r0BhqjPbmhkYNsWYAN6uR\">Sign in</a></div><div><a class=\"ksTU4c\" href=\"http://www.google.com/preferences?hl=en&amp;fg=1&amp;sa=X&amp;ved=0ahUKEwi0wLP18ovnAhUBG6YKHfEWDbUQ5fUCCMgB\">Settings</a><a class=\"ksTU4c\" href=\"//policies.google.com/privacy?fg=1\">Privacy</a><a class=\"ksTU4c\" href=\"//policies.google.com/terms?fg=1\">Terms</a></div></div>  </footer><script nonce=\"Mhu4rSHkp+e3t3zff8mzhg==\">(function(){var hl='en';(function(){\n",
            "var b=this||self,d=/^[\\w+/_-]+[=]{0,2}$/,e=null;var f=document.querySelector(\".l\"),g=document.querySelector(\"#sf\"),k=g.querySelector(\".sbc\"),l=g.querySelector(\"[type=text]\"),m=g.querySelector(\"[type=submit]\"),n=g.querySelector(\".sc\"),p=g.querySelector(\".x\"),q=l.value,r=[],t=-1,u=q,w,x,y;q||(p&&(p.style.display=\"none\"),z(!1));function z(a){if(k.classList.contains(\"esbc\")){var c=k.classList.contains(\"chsbc\"),h=k.classList.contains(\"rtlsbc\");a&&(n.style.display=\"block\",c?(g.style.borderRadius=\"20px 20px 0 0\",n.style.borderBottom=\"1px solid #DFE1E5\",m.style.borderRadius=h?\"20px 0 0 0\":\"0 20px 0 0\"):k.style.borderRadius=h?\"0 8px 0 0\":\"8px 0 0 0\");a||(n.style.display=\"none\",c?(g.style.borderRadius=\"20px\",n.style.borderBottom=\"none\",m.style.borderRadius=h?\"20px 0 0 20px\":\"0 20px 20px 0\"):k.style.borderRadius=h?\"0 8px 8px 0\":\"8px 0 0 8px\")}}function A(){g.querySelector(\"[name=oq]\").value=u;g.querySelector(\"[name=aqs]\").value=\"heirloom-srp.\"+(0<=t?t:\"\")+\".\"+(0<r.length?\"0l\"+r.length:\"\")}\n",
            "function C(){w=null;if(x){var a=\"/complete/search?client=heirloom-srp&hl=\"+hl+\"&json=t&callback=hS&q=\"+encodeURIComponent(x);\"undefined\"!==typeof ds&&ds&&(a+=\"&ds=\"+ds);var c=document.createElement(\"script\");c.src=a;if(null===e)a:{a=b.document;if((a=a.querySelector&&a.querySelector(\"script[nonce]\"))&&(a=a.nonce||a.getAttribute(\"nonce\"))&&d.test(a)){e=a;break a}e=\"\"}(a=e)&&c.setAttribute(\"nonce\",a);document.body.appendChild(c);x=null;w=setTimeout(C,500)}}\n",
            "function D(){for(;n.firstChild;)n.removeChild(n.firstChild);r=[];t=-1;z(!1)}function E(){var a=n.querySelector(\".scs\");a&&(a.className=\"\");0<=t?(a=n.childNodes[t],a.className=\"scs\",q=a.textContent):q=u;l.value=q}l.addEventListener(\"focus\",function(){f&&(f.style.display=\"none\")},!1);l.addEventListener(\"blur\",function(){D();f&&(f.style.display=\"\")},!1);l.addEventListener(\"keyup\",function(a){q=l.value;y=!1;13==a.which?A():27==a.which?(D(),f&&(f.style.display=\"\"),q=u,l.value=q):40==a.which?(t++,t>=r.length&&(t=-1),E()):38==a.which?(t--,-1>t&&(t=r.length-1),E()):(a=q)?(p&&(p.style.display=\"\"),x=a,w||C(),u=a):(p&&(p.style.display=\"none\"),z(!1),D(),u=\"\",y=!0)},!1);m.addEventListener(\"click\",A,!1);p.addEventListener(\"click\",function(){l.value=\"\";p.style.display=\"none\";z(!1)},!1);k.addEventListener(\"click\",function(){l.focus()},!1);window.hS=function(a){if(!y){D();0==a[1].length&&z(!1);for(var c=0;c<a[1].length;c++){var h=a[1][c][0],v=document.createElement(\"div\");v.innerHTML=h;v.addEventListener(\"mousedown\",function(B){B.preventDefault();return!1},!1);h=h.replace(/<\\/?b>/g,\"\");v.addEventListener(\"click\",function(B){return function(){t=B;A();E();D();g.submit()}}(c),!1);n.appendChild(v);z(!0);r.push(h)}}};}).call(this);})();(function(){\n",
            "function b(a){for(a=a.target||a.srcElement;a&&\"A\"!=a.nodeName;)a=a.parentElement;a&&(a.href||\"\").match(/\\/search.*[?&]tbm=isch/)&&(a.href+=\"&biw=\"+document.documentElement.clientWidth,a.href+=\"&bih=\"+document.documentElement.clientHeight)}document.addEventListener(\"click\",b,!1);document.addEventListener(\"touchStart\",b,!1);}).call(this);</script></div><!-- cctlcm 5 cctlcm --><textarea class=\"csi\" name=\"csi\" style=\"display:none\"></textarea><script nonce=\"Mhu4rSHkp+e3t3zff8mzhg==\">(function(){var e='7lEiXrSRHIG2mAXxrbSoCw';var sn='web';(function(){\n",
            "function y(a){var c=window,d=document;if(!a||\"none\"==a.style.display)return 0;if(d.defaultView&&d.defaultView.getComputedStyle){var b=d.defaultView.getComputedStyle(a);if(b&&(\"hidden\"==b.visibility||\"0px\"==b.height&&\"0px\"==b.width))return 0}if(!a.getBoundingClientRect)return 1;var f=a.getBoundingClientRect();a=f.left+c.pageXOffset;b=f.top+c.pageYOffset;var q=f.width;f=f.height;var k=0;if(0>=f&&0>=q)return k;0>b+f?k=2:b>=(c.innerHeight||d.documentElement.clientHeight)&&(k=4);if(0>a+q||a>=(c.innerWidth||\n",
            "d.documentElement.clientWidth))k|=8;return k||1};var z=e,A=sn,G=[];function H(a,c,d){a=\"/gen_204?atyp=csi&s=\"+(A||\"web\")+\"&t=\"+a+(\"&lite=1&ei=\"+z+\"&conn=\"+(window.navigator&&window.navigator.connection?window.navigator.connection.type:-1)+c);c=\"&rt=\";for(var b in d)a+=c+b+\".\"+d[b],c=\",\";return a}function I(a){a={prt:a};window.wsrt&&(a.wsrt=window.wsrt);return a}function J(a){window.ping?window.ping(a):(new Image).src=a}\n",
            "(function(){for(var a=+new Date-window.start,c=I(a),d=0,b=0,f=0,q=document.getElementsByTagName(\"img\"),k=\"&imn=\"+q.length+\"&biw=\"+window.innerWidth+\"&bih=\"+window.innerHeight,K=function(h,r){h.onload=function(){b=+new Date-window.start;r&&++v==f&&(d=b,B());h.onload=null}},B=function(){k+=\"&ima=\"+f;c.aft=d;J(H(\"aft\",k,c))},v=0,L=0,g=void 0;g=q[L++];){var t=y(g),u=1==t;u&&++f;var m=g.hasAttribute(\"data-deferred\"),M=!m&&(g.getAttribute(\"data-src\")||g.getAttribute(\"data-lzysrc\"));G.push([g.id,t,m,M]);m=(t=g.complete&&!m)&&Number(g.getAttribute(\"data-iml\"))||0;t&&m?(u&&++v,m&&(g=m-window.start,u&&(d=Math.max(d,g)),b=Math.max(b,g))):K(g,u)}d||(d=a);b||(b=d);v==f&&B();google.rglh&&google.rglh();window.addEventListener(\"load\",function(){window.setTimeout(function(){c.ol=+new Date-window.start;c.iml=b;var h=window.performance&&window.performance.timing;h&&(c.rqst=h.responseEnd-h.requestStart,c.rspt=h.responseEnd-h.responseStart);for(var r=h=0,C=0,D=0,E=0,N=0,n;n=G[N++];){var p=n[0],l=n[1],w=n[2];n=\n",
            "n[3];var O=0==l,x=l&8,F=l&4;l=1==l||2==l||x&&!F;p=google.ldi&&p&&google.ldi[p];!l||x||w&&!p||++C;w&&(l&&p&&++h,F&&!p&&++r);O||x?n||++E:w||++D}k+=\"&ime=\"+C+(\"&imex=\"+D+\"&imeh=\"+E)+(\"&imea=\"+h+\"&imeb=\"+r);J(H(\"all\",k,c))},0)},!1)})();}).call(this);})();</script><script nonce=\"Mhu4rSHkp+e3t3zff8mzhg==\">function _setImagesSrc(e,c){function f(b){b.onerror=function(){b.style.display=\"none\"};b.src=c}for(var g=0,a=void 0;a=e[g++];){var d=document.getElementById(a)||document.querySelector('img[data-iid=\"'+a+'\"]');d?f(d):(window.google=window.google||{},google.iir=google.iir||{},google.iir[a]=c)}};</script><script nonce=\"Mhu4rSHkp+e3t3zff8mzhg==\">(function(){var s='data:image/jpeg;base64,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';var i=['dimg_1'];_setImagesSrc(i,s);})();</script><script nonce=\"Mhu4rSHkp+e3t3zff8mzhg==\">(function(){var s='data:image/jpeg;base64,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';var i=['dimg_5'];_setImagesSrc(i,s);})();</script><script nonce=\"Mhu4rSHkp+e3t3zff8mzhg==\">(function(){var s='data:image/jpeg;base64,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';var i=['dimg_7'];_setImagesSrc(i,s);})();</script><script nonce=\"Mhu4rSHkp+e3t3zff8mzhg==\">(function(){var s='data:image/jpeg;base64,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\\x3d\\x3d';var i=['dimg_9'];_setImagesSrc(i,s);})();</script><script nonce=\"Mhu4rSHkp+e3t3zff8mzhg==\">(function(){var s='data:image/jpeg;base64,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';var i=['dimg_11'];_setImagesSrc(i,s);})();</script><script nonce=\"Mhu4rSHkp+e3t3zff8mzhg==\">(function(){var s='data:image/jpeg;base64,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\\x3d';var i=['dimg_13'];_setImagesSrc(i,s);})();</script><script nonce=\"Mhu4rSHkp+e3t3zff8mzhg==\">(function(){var s='data:image/jpeg;base64,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\\x3d';var i=['dimg_15'];_setImagesSrc(i,s);})();</script><script nonce=\"Mhu4rSHkp+e3t3zff8mzhg==\">(function(){var s='data:image/jpeg;base64,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\\x3d\\x3d';var i=['dimg_17'];_setImagesSrc(i,s);})();</script><script nonce=\"Mhu4rSHkp+e3t3zff8mzhg==\">(function(){var s='data:image/jpeg;base64,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\\x3d\\x3d';var i=['dimg_21'];_setImagesSrc(i,s);})();</script><script nonce=\"Mhu4rSHkp+e3t3zff8mzhg==\">(function(){var s='data:image/jpeg;base64,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\\x3d\\x3d';var i=['dimg_23'];_setImagesSrc(i,s);})();</script><script nonce=\"Mhu4rSHkp+e3t3zff8mzhg==\">(function(){var s='data:image/png;base64,iVBORw0KGgoAAAANSUhEUgAAABgAAAAYAgMAAACdGdVrAAAADFBMVEVMaXFChfRChfRChfT0tCPZAAAAA3RSTlMAgFJEkGxNAAAAL0lEQVR4AWPADxgdwBT3BTDF9AUiuhdC6WNK/v///y+UggrClSA07EWVglmEFwAA5eYSExeCwigAAAAASUVORK5CYII\\x3d';var i=['dimg_19','dimg_37'];_setImagesSrc(i,s);})();</script><script nonce=\"Mhu4rSHkp+e3t3zff8mzhg==\">(function(){var s='data:image/png;base64,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';var i=['dimg_29'];_setImagesSrc(i,s);})();</script><script nonce=\"Mhu4rSHkp+e3t3zff8mzhg==\">(function(){var s='data:image/jpeg;base64,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';var i=['dimg_31'];_setImagesSrc(i,s);})();</script><script nonce=\"Mhu4rSHkp+e3t3zff8mzhg==\">(function(){var s='data:image/jpeg;base64,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\\x3d\\x3d';var i=['dimg_33'];_setImagesSrc(i,s);})();</script><script nonce=\"Mhu4rSHkp+e3t3zff8mzhg==\">(function(){var s='data:image/jpeg;base64,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\\x3d\\x3d';var i=['dimg_35'];_setImagesSrc(i,s);})();</script><script nonce=\"Mhu4rSHkp+e3t3zff8mzhg==\">(function(){var s='data:image/png;base64,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\\x3d\\x3d';var i=['dimg_39'];_setImagesSrc(i,s);})();</script><script nonce=\"Mhu4rSHkp+e3t3zff8mzhg==\">(function(){var s='data:image/png;base64,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\\x3d';var i=['dimg_41'];_setImagesSrc(i,s);})();</script><script nonce=\"Mhu4rSHkp+e3t3zff8mzhg==\">(function(){var s='data:image/png;base64,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';var i=['dimg_43'];_setImagesSrc(i,s);})();</script><script nonce=\"Mhu4rSHkp+e3t3zff8mzhg==\">(function(){var s='data:image/jpeg;base64,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';var i=['dimg_45'];_setImagesSrc(i,s);})();</script><script nonce=\"Mhu4rSHkp+e3t3zff8mzhg==\">(function(){var s='data:image/png;base64,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\\x3d\\x3d';var i=['dimg_47'];_setImagesSrc(i,s);})();</script><script nonce=\"Mhu4rSHkp+e3t3zff8mzhg==\">(function(){var s='data:image/png;base64,iVBORw0KGgoAAAANSUhEUgAAAKgAAACoCAMAAABDlVWGAAAAdVBMVEX///+IAACEAACBAAB+AAC9jIzFmpqgWVmlT0/t3d2TOzvky8vLpaXMoaHs39+7hoatZWXw5ubQrKz79/f27OzTsrL38fHAkpKtbW3Zvr6SNjaiVVWeSEjp19e5gYHl0dGSKiq3eXmRJCSGDAyMFxefQ0OPLy/6clnhAAAEkElEQVR4nO3da3uiOhAA4JCgHo0XEFSieEFt//9PPNSt3e2WTC5Mgvs8M58LvgXFmMxMGKMYMmRmG4fNkM5NKqwj3Q3nVDxxCD6YdO7CbEOMhnGuUkdokjbb+MxiJ1yd7d3PiujQldP78xkitrTInO/7p/SQx3SWlcd9H0C6rb3u+6/g9TSWs7x6X8+H9CLjOJd9rudDeo0inV56OlvpewSpTHo7WykPPkRR/a/nQyrWgZ0ozAd1EdK56fVx/x4hh327G56zlY5DfZ2OEK/nR4hTEGlxQna21zQLMexr0J2ttCrRnf7DECj4BHmIkh+CONv36QVXWsHDT54CAf+LokKF/gc+6EW1AOIEP9Qm8aB8DB+85tDR8aDpxvQ43FyBw6NBbQZCEhjKRILyu7I5/rjXSuNAubAcAp+10jjQy9n2DPl+SCif259Cah7FBCUoQQlKUIISlKAEJShBCUpQgrpCy9GqM5qvWUUzVJ06T3FyWZMyQqf77jyYdGkPHWtO4ZLhYYbOuhncBdr9Ik6pKAQlKEEJSlCCEpSgBCUoQQlKUIISlKAEJShBCRoHmjTP/EEzVFdRFgfKM0tosTOnvIWEJuIz8dsABVLOI0GfFV8wdNvoU49jQRNRb03QLZTCHw3aSlvMEoCWEygfOx404TOZK03WJZfLYw3mjeNC9+Br8Us906WGz+p3uLQIF6rA1+oT4nddEwaUqRtaydW3uP2RGo8CZRJMpvd2/rnOiQNlxxm6lN++pUgjQdtHJXJhC798T43HgrLpBVXK73+lxqNBWT5BvPv8+nfRFR6UlYZyIRfnz1prRCjbYknF/mcRGyaUFSuU9ymvO86NCmUMo5hRVF3li8hQhGuaNp0VUMjQj4qvfk6+6j4vOrSnlO80FWX40F7SVFuhFwDK5N2Tyu/6wvoQUKYMw2EtFKh8CwIFatMgZgpVvoWBstx92Gdo/BEIyqbwj7aOVzRU6IWCstxNKq6Gli/BoIxlDlJxMNXSB4QWjdH3/BltUUkfEMqK/DOkbgLi/PwLcxeFkNCvMM+PmoOgBA0AzeeL478AXWdKVuPXh6rTcbeQo/XLQ7NivpZVOXl1aHFg86aWrHp1KKvK+XGh2OHloedG5dtNo14eytTbePH2mIt9cSgrpLRauRsc+hU6qHBoPjTsV2ht3c5L10EuDjQRb5Y9J5VuQjMSNBEzK+lad3w0aMLfj+bjgUa20aAWPSeLHTCRHQ/aSg0tjEbQXEZEaJLcV1AzMPhXNy40N3RPFVB7NfhQ/TylVxyDrJUmAbpUL32m98whTrhMFqgJoG6+v1eUB7R1vWeIMK0/ywr57vNQDWqh/CaPuFp1kPOKAm9VN+HQfH9/qTYHz9l5C9zseYFzTfneutOdb/h09P/pvEdo8r7un3rUtZwfIJTvut6XM1bTfAX18TRHWkfbhOLsuQL5CF5F3NhB+g9RxCrqBhRn38QzTXpEuIDTW7UxwMYzW59hn5jH3yKlHfY5S9PA/fx14dr3+xZyGAJG4/KJ4slgzo8th+y3mhrSydjYevOuzGLmhyJg/A//inLfP0579wAAAABJRU5ErkJggg\\x3d\\x3d';var i=['dimg_49'];_setImagesSrc(i,s);})();</script><script nonce=\"Mhu4rSHkp+e3t3zff8mzhg==\">(function(){var s='data:image/jpeg;base64,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\\x3d';var i=['dimg_52'];_setImagesSrc(i,s);})();</script><script nonce=\"Mhu4rSHkp+e3t3zff8mzhg==\">(function(){var s='data:image/png;base64,iVBORw0KGgoAAAANSUhEUgAAADAAAAAwBAMAAAClLOS0AAAAMFBMVEVChfRChfRChfRChfRChfRChfRChfRChfRChfRChfRChfRChfRChfRChfRChfRChfTP4QxqAAAAD3RSTlMAV+zrVFv8gKwUU+fl+1Ddcms0AAAAtElEQVR4Xr3NoQ0CURBF0UEQLEHQBgYPihLwWMyWgMbRB72g0JSBATIk8//LTV5W77M3ZyYm3mo7HubDezkajpmncZAp4gBiAGIAYgBiAGIA4gDi4CLiYCFiIAMCqFAEQBABXBsWAdzkIet+hJDnCpseOJWfCrseKhfIb4UDIRvIV4XZQGjgtw99V2jgGSGiAOhEAQCpASAOIA4gACcAJwAnAAjACcAIwAnACMCJgO/+iGn3B1LoV1bI8vckAAAAAElFTkSuQmCC';var i=['dimg_54'];_setImagesSrc(i,s);})();</script><script nonce=\"Mhu4rSHkp+e3t3zff8mzhg==\">(function(){var s='data:image/png;base64,iVBORw0KGgoAAAANSUhEUgAAADAAAAAwCAMAAABg3Am1AAABVlBMVEVChfRChfRChfRChfRChfRChfRChfRChfRChfRChfRChfRChfRChfRChfRChfRChfRChfRChfRChfRChfRChfRChfRChfRChfRChfRChfRChfRChfRChfRChfRChfRChfRChfRChfRChfRChfRChfRChfRChfRChfRChfRChfRChfRChfRChfRChfRChfRChfRChfRChfRChfRChfRChfRChfRChfRChfRChfRChfRChfRChfRChfRChfRChfRChfRChfRChfRChfRChfRChfRChfRChfRChfRChfRChfRChfRChfRChfRChfRChfRChfRChfRChfRChfRChfRChfRChfRChfRChfRChfRChfRChfRChfRChfRChfRChfRChfRChfRChfRChfRChfRChfRChfRChfRChfRChfRChfRChfRChfRChfRChfRChfRChfRChfRChfTpT98bAAAAcXRSTlMAAjl6rtTt+nk4Horl5IgdFpv5mBRd7lkFnQQKuGHZtfNy9ZyvK9smzljv7BP2lnMb2odk4gHoCfI2Tad4yGarMYA10hEV6+pP6TRlZ6aqdwto4YkG34Z19LF7+Br3LbIkM5PeKPC7VS+UswMMrWo6HJh0w+MAAAHlSURBVHhe3dBrU9NAAIXhE2iTchNIaltTlYpQVCoqUAuKVtraekcqoFi8gYqCt/3/N890MjvZzSb9zvvtzOyT2SzOZNbQcCptO46dTmVGrIFgdGxchJo4N5kIpqYdoeV62XhwPicM2XmYK1wQMXm+CRQvimiXLvfHTNHwfdP5Evwrs33hQ++qMDQHYL4smBf5X2EotwCWvSbYde09bxjuM8fzfVHmWqwoYFqoQWn+JsVSGIw6iQC3CNzbITAmkoF/h2IZMmt8AMAKwWpVziGhdVcHtTWKdTmH9fP3oHefYEOuFNeDAMDcQ4K6XGmuR5uJoEHQlMvmamEzCTwmaMvlcFmgiAcFAlcBBYBCrfNEAl8BNlcFBvE05kpprmcwiZifTnE9hxQm8EJ51gzXS0hhAq84tuQa4VqrSWEAr0scDQmsCc4VBJnANke3Ctkb7nIhHuzscuxBhkmH4m0w3olws/sLwHuO3gFCeQQfPqLfJ6GW+/zF5ThEuKxNcTQFhq/fNPG9y9FpQSkvWDMQ+yUR6RhanmC7P4IVAT+h588I1svsGMHJKSIVKdjR9q8oOKnBkO8FD/n7z1/tPqcwl18UhjrHiK2y5Oqgd9hCUv+WV8Ogu3eAQVnrG/Vm23XbzfpWo4qz2H/PsWmExFfJAQAAAABJRU5ErkJggg\\x3d\\x3d';var i=['dimg_56'];_setImagesSrc(i,s);})();</script><script nonce=\"Mhu4rSHkp+e3t3zff8mzhg==\">(function(){var s='data:image/jpeg;base64,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';var i=['dimg_3'];_setImagesSrc(i,s);})();</script><script nonce=\"Mhu4rSHkp+e3t3zff8mzhg==\">(function(){var e='7lEiXrSRHIG2mAXxrbSoCw';(function(){\n",
            "var a=e,b=window.performance&&window.performance.navigation;b&&2==b.type&&window.ping(\"/gen_204?ct=backbutton&ei=\"+a);}).call(this);})();(function(){\n",
            "var b=[function(){google.tick&&google.tick(\"load\",\"dcl\")}];google.dclc=function(a){b.length?b.push(a):a()};function c(){for(var a;a=b.shift();)a()}window.addEventListener?(document.addEventListener(\"DOMContentLoaded\",c,!1),window.addEventListener(\"load\",c,!1)):window.attachEvent&&window.attachEvent(\"onload\",c);}).call(this);(function(){(function(){google.csct={};google.csct.ps='AOvVaw3s1Q0Jt30kemcvL8oxqT33\\x26ust\\x3d1579393902497054';})();})();(function(){(function(){google.csct.rd=true;})();})();(function(){window.xp=function(b){function f(k,g,h){return\"xp\"+(\"x\"==g?\"c\":\"x\")+h}for(var c=/\\bxp(x|c)(\\d?)\\b/,a=b;a;){var e=a.className,d=e.match(c);if(d){d=\"c\"==d[1];a.className=e.replace(c,f);b&&b.setAttribute(\"aria-expanded\",d);if(d)for(b=a.getElementsByTagName(\"img\"),c=0;c<b.length;++c)if(a=b[c],e=a.getAttribute(\"data-ll\"))a.src=e,a.removeAttribute(\"data-ll\");break}a=a.parentElement}};})();(function(){(function(){var id='tsuid51';var lve=false;(function(){\n",
            "document.getElementById(id).onclick=function(){window.xp(this);lve&&window.logVe(this)};}).call(this);})();})();(function(){(function(){window.logVe=function(a){a&&a.attributes[\"data-ved\"]&&window.ping(\"/gen_204?ved=\"+a.attributes[\"data-ved\"].value)};}).call(this);})();(function(){(function(){var id='tsuid25';var lve=true;(function(){\n",
            "document.getElementById(id).onclick=function(){window.xp(this);lve&&window.logVe(this)};}).call(this);})();})();(function(){(function(){var id='tsuid26';var lve=true;(function(){\n",
            "document.getElementById(id).onclick=function(){window.xp(this);lve&&window.logVe(this)};}).call(this);})();})();(function(){(function(){var id='tsuid27';var lve=true;(function(){\n",
            "document.getElementById(id).onclick=function(){window.xp(this);lve&&window.logVe(this)};}).call(this);})();})();(function(){(function(){var id='tsuid28';var lve=true;(function(){\n",
            "document.getElementById(id).onclick=function(){window.xp(this);lve&&window.logVe(this)};}).call(this);})();})();google.drty&&google.drty();</script></body></html>\n"
          ],
          "name": "stdout"
        }
      ]
    },
    {
      "cell_type": "markdown",
      "metadata": {
        "id": "8_wG_TQLDYA5",
        "colab_type": "text"
      },
      "source": [
        "## Beautiful Soup Library"
      ]
    },
    {
      "cell_type": "markdown",
      "metadata": {
        "id": "ela1XItgECfO",
        "colab_type": "text"
      },
      "source": [
        "*Print all the links (`a href=`) in a webpage*"
      ]
    },
    {
      "cell_type": "code",
      "metadata": {
        "id": "VRb3IvzJDZ0d",
        "colab_type": "code",
        "colab": {
          "base_uri": "https://localhost:8080/",
          "height": 555
        },
        "outputId": "71909b92-d982-4030-974d-689060686fb0"
      },
      "source": [
        "from bs4 import BeautifulSoup\n",
        "import requests\n",
        "\n",
        "response = requests.get(\"http://www.reddit.com\")\n",
        "\n",
        "soup = BeautifulSoup(response.text)\n",
        "for links in soup.find_all('a'):\n",
        "  print(links.get('href'))"
      ],
      "execution_count": 25,
      "outputs": [
        {
          "output_type": "stream",
          "text": [
            "/\n",
            "/\n",
            "/r/all/\n",
            "https://www.reddit.com/login/?dest=https%3A%2F%2Fwww.reddit.com%2F\n",
            "https://www.reddit.com/register/?dest=https%3A%2F%2Fwww.reddit.com%2F\n",
            "/hot/\n",
            "/new/\n",
            "/top/\n",
            "/rising/\n",
            "/subreddits/leaderboard/\n",
            "/subreddits/leaderboard/sports/\n",
            "/subreddits/leaderboard/news/\n",
            "/subreddits/leaderboard/gaming/\n",
            "/subreddits/leaderboard/aww/\n",
            "https://www.reddithelp.com\n",
            "https://www.reddit.com/mobile/download\n",
            "https://www.reddit.com/coins\n",
            "https://www.reddit.com/premium\n",
            "http://redditgifts.com/\n",
            "https://www.reddit.com/subreddits/a-1/\n",
            "https://www.reddit.com/posts/a-1/\n",
            "https://www.reddit.com/topics/a-1/\n",
            "https://about.reddit.com\n",
            "https://about.reddit.com/careers/\n",
            "https://about.reddit.com/press/\n",
            "https://www.redditinc.com/advertising\n",
            "http://www.redditblog.com/\n",
            "https://www.redditinc.com/policies/user-agreement\n",
            "https://www.redditinc.com/policies/content-policy\n",
            "https://www.reddit.com/help/privacypolicy\n",
            "https://www.reddit.com/help/healthycommunities/\n"
          ],
          "name": "stdout"
        }
      ]
    }
  ]
}