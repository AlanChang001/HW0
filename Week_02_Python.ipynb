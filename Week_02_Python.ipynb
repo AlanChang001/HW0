{
  "nbformat": 4,
  "nbformat_minor": 0,
  "metadata": {
    "colab": {
      "name": "Week-02-Python.ipynb",
      "provenance": [],
      "collapsed_sections": [],
      "toc_visible": true,
      "authorship_tag": "ABX9TyNfqzY4FIJ53VlQT+OasBDK",
      "include_colab_link": true
    },
    "kernelspec": {
      "name": "python3",
      "display_name": "Python 3"
    }
  },
  "cells": [
    {
      "cell_type": "markdown",
      "metadata": {
        "id": "view-in-github",
        "colab_type": "text"
      },
      "source": [
        "<a href=\"https://colab.research.google.com/github/cs432-websci-spr20/assignments/blob/master/Week_02_Python.ipynb\" target=\"_parent\"><img src=\"https://colab.research.google.com/assets/colab-badge.svg\" alt=\"Open In Colab\"/></a>"
      ]
    },
    {
      "cell_type": "markdown",
      "metadata": {
        "id": "tV4fe0DCfd1a",
        "colab_type": "text"
      },
      "source": [
        "# CS 432/532 - Week 02 - Python\n",
        "\n",
        "This notebook goes along with the [Week-02 Python slides](https://docs.google.com/presentation/d/1QvcImKQdCGBC9vcwSVg5C4cSmlxire90WBxrNmzmci8/edit?usp=sharing) from [CS 432/532 Spring 2020](https://www.cs.odu.edu/~mweigle/CS432-S20/Home)\n",
        "\n",
        "Google Colab tutorials and references:\n",
        "* [Overview of Colaboratory Features](https://colab.research.google.com/notebooks/basic_features_overview.ipynb)\n",
        "* https://github.com/savankoradiya/Google-Colab-Tutorial\n",
        "* [Colab and GitHub](https://colab.research.google.com/github/googlecolab/colabtools/blob/master/notebooks/colab-github-demo.ipynb)"
      ]
    },
    {
      "cell_type": "markdown",
      "metadata": {
        "id": "uiiZgDetiFpE",
        "colab_type": "text"
      },
      "source": [
        ""
      ]
    },
    {
      "cell_type": "markdown",
      "metadata": {
        "id": "uNLQepV3f9_8",
        "colab_type": "text"
      },
      "source": [
        "## Interactive Python Shell"
      ]
    },
    {
      "cell_type": "markdown",
      "metadata": {
        "id": "nHvxncu0ggRX",
        "colab_type": "text"
      },
      "source": [
        "Print Python version used in the notebook:"
      ]
    },
    {
      "cell_type": "code",
      "metadata": {
        "id": "P8w3OpwFgAm7",
        "colab_type": "code",
        "colab": {
          "base_uri": "https://localhost:8080/",
          "height": 34
        },
        "outputId": "cf3fd10e-24ec-4283-c1e3-c1375add403f"
      },
      "source": [
        "import platform; print(platform.python_version())"
      ],
      "execution_count": 18,
      "outputs": [
        {
          "output_type": "stream",
          "text": [
            "3.6.9\n"
          ],
          "name": "stdout"
        }
      ]
    },
    {
      "cell_type": "code",
      "metadata": {
        "id": "eUnHDzUkgpHt",
        "colab_type": "code",
        "colab": {
          "base_uri": "https://localhost:8080/",
          "height": 221
        },
        "outputId": "101a8f7c-d6ea-443b-f5d7-3eb76d2817f9"
      },
      "source": [
        "help(print)"
      ],
      "execution_count": 8,
      "outputs": [
        {
          "output_type": "stream",
          "text": [
            "Help on built-in function print in module builtins:\n",
            "\n",
            "print(...)\n",
            "    print(value, ..., sep=' ', end='\\n', file=sys.stdout, flush=False)\n",
            "    \n",
            "    Prints the values to a stream, or to sys.stdout by default.\n",
            "    Optional keyword arguments:\n",
            "    file:  a file-like object (stream); defaults to the current sys.stdout.\n",
            "    sep:   string inserted between values, default a space.\n",
            "    end:   string appended after the last value, default a newline.\n",
            "    flush: whether to forcibly flush the stream.\n",
            "\n"
          ],
          "name": "stdout"
        }
      ]
    },
    {
      "cell_type": "code",
      "metadata": {
        "id": "zzeTWQzogrKw",
        "colab_type": "code",
        "colab": {
          "base_uri": "https://localhost:8080/",
          "height": 34
        },
        "outputId": "c082a084-377a-480d-ebab-a4f6abf5cf68"
      },
      "source": [
        "print(\"Hello World!\")"
      ],
      "execution_count": 9,
      "outputs": [
        {
          "output_type": "stream",
          "text": [
            "Hello World!\n"
          ],
          "name": "stdout"
        }
      ]
    },
    {
      "cell_type": "code",
      "metadata": {
        "id": "x3fS5jHrgsvF",
        "colab_type": "code",
        "colab": {
          "base_uri": "https://localhost:8080/",
          "height": 34
        },
        "outputId": "e874faa6-361d-46e4-c75b-3efdac0f3a92"
      },
      "source": [
        "2 + 3 * 4 / 5"
      ],
      "execution_count": 10,
      "outputs": [
        {
          "output_type": "execute_result",
          "data": {
            "text/plain": [
              "4.4"
            ]
          },
          "metadata": {
            "tags": []
          },
          "execution_count": 10
        }
      ]
    },
    {
      "cell_type": "markdown",
      "metadata": {
        "id": "IoMgafEvjOAS",
        "colab_type": "text"
      },
      "source": [
        "## Data Types"
      ]
    },
    {
      "cell_type": "markdown",
      "metadata": {
        "id": "M7wUX9B8hDiB",
        "colab_type": "text"
      },
      "source": [
        "### String vs. Bytes"
      ]
    },
    {
      "cell_type": "code",
      "metadata": {
        "id": "NhADk6DBhG2K",
        "colab_type": "code",
        "colab": {
          "base_uri": "https://localhost:8080/",
          "height": 34
        },
        "outputId": "b0668ff7-ee43-4889-bb50-d201c3a510ee"
      },
      "source": [
        "type(\"Hello\")"
      ],
      "execution_count": 11,
      "outputs": [
        {
          "output_type": "execute_result",
          "data": {
            "text/plain": [
              "str"
            ]
          },
          "metadata": {
            "tags": []
          },
          "execution_count": 11
        }
      ]
    },
    {
      "cell_type": "code",
      "metadata": {
        "id": "i9MyF1yihHow",
        "colab_type": "code",
        "colab": {
          "base_uri": "https://localhost:8080/",
          "height": 34
        },
        "outputId": "317fbe7f-1a0d-45cb-b567-18a6941cbfbc"
      },
      "source": [
        "type(b\"Hello\")"
      ],
      "execution_count": 12,
      "outputs": [
        {
          "output_type": "execute_result",
          "data": {
            "text/plain": [
              "bytes"
            ]
          },
          "metadata": {
            "tags": []
          },
          "execution_count": 12
        }
      ]
    },
    {
      "cell_type": "code",
      "metadata": {
        "id": "ZL9huvCGhJKo",
        "colab_type": "code",
        "colab": {
          "base_uri": "https://localhost:8080/",
          "height": 34
        },
        "outputId": "df070e3c-9dcc-42cd-84e2-3412dea895ce"
      },
      "source": [
        "b\"Hello\".decode()"
      ],
      "execution_count": 13,
      "outputs": [
        {
          "output_type": "execute_result",
          "data": {
            "text/plain": [
              "'Hello'"
            ]
          },
          "metadata": {
            "tags": []
          },
          "execution_count": 13
        }
      ]
    },
    {
      "cell_type": "code",
      "metadata": {
        "id": "gcoqJCW8hKdA",
        "colab_type": "code",
        "colab": {
          "base_uri": "https://localhost:8080/",
          "height": 34
        },
        "outputId": "231e4b92-2ef6-4364-9210-1b36eb32ae62"
      },
      "source": [
        "\"Hello\".encode()"
      ],
      "execution_count": 14,
      "outputs": [
        {
          "output_type": "execute_result",
          "data": {
            "text/plain": [
              "b'Hello'"
            ]
          },
          "metadata": {
            "tags": []
          },
          "execution_count": 14
        }
      ]
    },
    {
      "cell_type": "markdown",
      "metadata": {
        "id": "M1NtxPrUh8mv",
        "colab_type": "text"
      },
      "source": [
        "### List"
      ]
    },
    {
      "cell_type": "code",
      "metadata": {
        "id": "-XNaG2R5h95X",
        "colab_type": "code",
        "colab": {}
      },
      "source": [
        "mylist = [0, 'a', \"hello\", 1, 2, ['b', 'c', 'd']]"
      ],
      "execution_count": 0,
      "outputs": []
    },
    {
      "cell_type": "code",
      "metadata": {
        "id": "Vj3W47_XixpA",
        "colab_type": "code",
        "colab": {
          "base_uri": "https://localhost:8080/",
          "height": 34
        },
        "outputId": "e9eaea3e-573a-465b-d472-c7ac440feec5"
      },
      "source": [
        "mylist [1]"
      ],
      "execution_count": 20,
      "outputs": [
        {
          "output_type": "execute_result",
          "data": {
            "text/plain": [
              "'a'"
            ]
          },
          "metadata": {
            "tags": []
          },
          "execution_count": 20
        }
      ]
    },
    {
      "cell_type": "code",
      "metadata": {
        "id": "gp_sA2pFiyOW",
        "colab_type": "code",
        "colab": {
          "base_uri": "https://localhost:8080/",
          "height": 34
        },
        "outputId": "d1379e03-30db-45a2-814d-c018798b9056"
      },
      "source": [
        "mylist [5][1]"
      ],
      "execution_count": 21,
      "outputs": [
        {
          "output_type": "execute_result",
          "data": {
            "text/plain": [
              "'c'"
            ]
          },
          "metadata": {
            "tags": []
          },
          "execution_count": 21
        }
      ]
    },
    {
      "cell_type": "code",
      "metadata": {
        "id": "1HiqElADizYv",
        "colab_type": "code",
        "colab": {
          "base_uri": "https://localhost:8080/",
          "height": 34
        },
        "outputId": "e6dc53ef-13aa-4918-dd40-b2502482548d"
      },
      "source": [
        "mylist[1:3]"
      ],
      "execution_count": 22,
      "outputs": [
        {
          "output_type": "execute_result",
          "data": {
            "text/plain": [
              "['a', 'hello']"
            ]
          },
          "metadata": {
            "tags": []
          },
          "execution_count": 22
        }
      ]
    },
    {
      "cell_type": "code",
      "metadata": {
        "id": "gPW8jbx5i0jI",
        "colab_type": "code",
        "colab": {
          "base_uri": "https://localhost:8080/",
          "height": 34
        },
        "outputId": "01212cf8-57db-41d5-df2f-7f2693d886cf"
      },
      "source": [
        "mylist[:2]"
      ],
      "execution_count": 23,
      "outputs": [
        {
          "output_type": "execute_result",
          "data": {
            "text/plain": [
              "[0, 'a']"
            ]
          },
          "metadata": {
            "tags": []
          },
          "execution_count": 23
        }
      ]
    },
    {
      "cell_type": "code",
      "metadata": {
        "id": "ZmwsmgNxi16m",
        "colab_type": "code",
        "colab": {
          "base_uri": "https://localhost:8080/",
          "height": 34
        },
        "outputId": "b6ea7847-48d0-4a7c-a1ea-f96d0fe3489b"
      },
      "source": [
        "mylist[3:]"
      ],
      "execution_count": 24,
      "outputs": [
        {
          "output_type": "execute_result",
          "data": {
            "text/plain": [
              "[1, 2, ['b', 'c', 'd']]"
            ]
          },
          "metadata": {
            "tags": []
          },
          "execution_count": 24
        }
      ]
    },
    {
      "cell_type": "code",
      "metadata": {
        "id": "kT85-teZi5mF",
        "colab_type": "code",
        "colab": {
          "base_uri": "https://localhost:8080/",
          "height": 34
        },
        "outputId": "c3743a28-2d86-4a99-86b0-f0f533cf5edf"
      },
      "source": [
        "mylist.remove('a')\n",
        "mylist"
      ],
      "execution_count": 25,
      "outputs": [
        {
          "output_type": "execute_result",
          "data": {
            "text/plain": [
              "[0, 'hello', 1, 2, ['b', 'c', 'd']]"
            ]
          },
          "metadata": {
            "tags": []
          },
          "execution_count": 25
        }
      ]
    },
    {
      "cell_type": "markdown",
      "metadata": {
        "id": "j8qhpJwrjDQU",
        "colab_type": "text"
      },
      "source": [
        "### Tuple"
      ]
    },
    {
      "cell_type": "code",
      "metadata": {
        "id": "6DCmir_NjEuE",
        "colab_type": "code",
        "colab": {
          "base_uri": "https://localhost:8080/",
          "height": 34
        },
        "outputId": "8159e941-5a7b-42e6-fe47-eac01a618d1b"
      },
      "source": [
        "X = (0, 1, 2, 3, 4)\n",
        "print (X[3])"
      ],
      "execution_count": 26,
      "outputs": [
        {
          "output_type": "stream",
          "text": [
            "3\n"
          ],
          "name": "stdout"
        }
      ]
    },
    {
      "cell_type": "markdown",
      "metadata": {
        "id": "5eSzWzhHjKNr",
        "colab_type": "text"
      },
      "source": [
        "### Dictionary"
      ]
    },
    {
      "cell_type": "code",
      "metadata": {
        "id": "d87Z9hTzjVY6",
        "colab_type": "code",
        "colab": {}
      },
      "source": [
        "marks = {\"science\": 90, \"art\": 25}\n",
        "print(marks[\"art\"])"
      ],
      "execution_count": 0,
      "outputs": []
    },
    {
      "cell_type": "code",
      "metadata": {
        "id": "U4QpYaEajX-5",
        "colab_type": "code",
        "colab": {}
      },
      "source": [
        "marks[\"chemistry\"] = 75"
      ],
      "execution_count": 0,
      "outputs": []
    },
    {
      "cell_type": "code",
      "metadata": {
        "id": "9Fv4xOh5jZaa",
        "colab_type": "code",
        "colab": {}
      },
      "source": [
        "print(marks.keys())"
      ],
      "execution_count": 0,
      "outputs": []
    },
    {
      "cell_type": "code",
      "metadata": {
        "id": "Na0AazoOjanZ",
        "colab_type": "code",
        "colab": {
          "base_uri": "https://localhost:8080/",
          "height": 34
        },
        "outputId": "018df20d-2e25-4a5e-c8f4-415026c46968"
      },
      "source": [
        "dict = { \"fish\": 12, \"cat\": 7}\n",
        "'dog' in dict"
      ],
      "execution_count": 27,
      "outputs": [
        {
          "output_type": "execute_result",
          "data": {
            "text/plain": [
              "False"
            ]
          },
          "metadata": {
            "tags": []
          },
          "execution_count": 27
        }
      ]
    },
    {
      "cell_type": "code",
      "metadata": {
        "id": "1_fTtk35jmMA",
        "colab_type": "code",
        "colab": {}
      },
      "source": [
        "dict.keys()"
      ],
      "execution_count": 0,
      "outputs": []
    },
    {
      "cell_type": "code",
      "metadata": {
        "id": "qexlAgcqjiX3",
        "colab_type": "code",
        "colab": {
          "base_uri": "https://localhost:8080/",
          "height": 34
        },
        "outputId": "4a24f9f8-8c07-49d2-a39e-3cd73b1a5da5"
      },
      "source": [
        "dict.values()"
      ],
      "execution_count": 28,
      "outputs": [
        {
          "output_type": "execute_result",
          "data": {
            "text/plain": [
              "dict_values([12, 7])"
            ]
          },
          "metadata": {
            "tags": []
          },
          "execution_count": 28
        }
      ]
    },
    {
      "cell_type": "code",
      "metadata": {
        "id": "kb7TSQ_Xjnlv",
        "colab_type": "code",
        "colab": {}
      },
      "source": [
        "dict.items()"
      ],
      "execution_count": 0,
      "outputs": []
    },
    {
      "cell_type": "code",
      "metadata": {
        "id": "K837kgunjovX",
        "colab_type": "code",
        "colab": {
          "base_uri": "https://localhost:8080/",
          "height": 34
        },
        "outputId": "4172391c-3724-4379-8b50-46cdaf3fb070"
      },
      "source": [
        "dict[\"fish\"] = 14\n",
        "dict.items()"
      ],
      "execution_count": 29,
      "outputs": [
        {
          "output_type": "execute_result",
          "data": {
            "text/plain": [
              "dict_items([('fish', 14), ('cat', 7)])"
            ]
          },
          "metadata": {
            "tags": []
          },
          "execution_count": 29
        }
      ]
    },
    {
      "cell_type": "markdown",
      "metadata": {
        "id": "JLsPl9MSjzc-",
        "colab_type": "text"
      },
      "source": [
        "### Variables"
      ]
    },
    {
      "cell_type": "code",
      "metadata": {
        "id": "bzisbt3Jj0dk",
        "colab_type": "code",
        "colab": {
          "base_uri": "https://localhost:8080/",
          "height": 34
        },
        "outputId": "aac716bb-a0df-4185-c77a-059a827eba9d"
      },
      "source": [
        "X = ['a', 'b', 'c']\n",
        "Y = X\n",
        "Y.append('d')\n",
        "print(X)"
      ],
      "execution_count": 30,
      "outputs": [
        {
          "output_type": "stream",
          "text": [
            "['a', 'b', 'c', 'd']\n"
          ],
          "name": "stdout"
        }
      ]
    },
    {
      "cell_type": "markdown",
      "metadata": {
        "id": "QcGngIrMj85c",
        "colab_type": "text"
      },
      "source": [
        "## User Input"
      ]
    },
    {
      "cell_type": "code",
      "metadata": {
        "id": "wmI0ZcZ2j-Ic",
        "colab_type": "code",
        "colab": {
          "base_uri": "https://localhost:8080/",
          "height": 51
        },
        "outputId": "27fe8560-6f54-4896-87c8-cc5d1de51e89"
      },
      "source": [
        "x = input()\n",
        "x"
      ],
      "execution_count": 31,
      "outputs": [
        {
          "output_type": "stream",
          "text": [
            "3\n"
          ],
          "name": "stdout"
        },
        {
          "output_type": "execute_result",
          "data": {
            "text/plain": [
              "'3'"
            ]
          },
          "metadata": {
            "tags": []
          },
          "execution_count": 31
        }
      ]
    },
    {
      "cell_type": "code",
      "metadata": {
        "id": "MP7atIqwkB3k",
        "colab_type": "code",
        "colab": {
          "base_uri": "https://localhost:8080/",
          "height": 51
        },
        "outputId": "ccc192fd-c2a2-4ddf-9a34-8c4746c75cf4"
      },
      "source": [
        "x = input('Enter the number: ')\n",
        "x"
      ],
      "execution_count": 32,
      "outputs": [
        {
          "output_type": "stream",
          "text": [
            "Enter the number: 3\n"
          ],
          "name": "stdout"
        },
        {
          "output_type": "execute_result",
          "data": {
            "text/plain": [
              "'3'"
            ]
          },
          "metadata": {
            "tags": []
          },
          "execution_count": 32
        }
      ]
    },
    {
      "cell_type": "markdown",
      "metadata": {
        "id": "RtJ44zr1kH-S",
        "colab_type": "text"
      },
      "source": [
        "Evaluate User Input"
      ]
    },
    {
      "cell_type": "code",
      "metadata": {
        "id": "qpt3qq9pkJvi",
        "colab_type": "code",
        "colab": {
          "base_uri": "https://localhost:8080/",
          "height": 34
        },
        "outputId": "52d7b4a3-4113-4176-e668-61152cb77238"
      },
      "source": [
        "x = input()"
      ],
      "execution_count": 33,
      "outputs": [
        {
          "output_type": "stream",
          "text": [
            "3+4\n"
          ],
          "name": "stdout"
        }
      ]
    },
    {
      "cell_type": "code",
      "metadata": {
        "id": "33SOiTMvkNpi",
        "colab_type": "code",
        "colab": {
          "base_uri": "https://localhost:8080/",
          "height": 34
        },
        "outputId": "81d9fe00-ebbd-4393-891a-f7d0ac8addc3"
      },
      "source": [
        "x"
      ],
      "execution_count": 34,
      "outputs": [
        {
          "output_type": "execute_result",
          "data": {
            "text/plain": [
              "'3+4'"
            ]
          },
          "metadata": {
            "tags": []
          },
          "execution_count": 34
        }
      ]
    },
    {
      "cell_type": "code",
      "metadata": {
        "id": "xFxC06rzkO5x",
        "colab_type": "code",
        "colab": {
          "base_uri": "https://localhost:8080/",
          "height": 34
        },
        "outputId": "0bcf754b-202a-43ea-c26c-6a39b1b89ce6"
      },
      "source": [
        "eval(x)"
      ],
      "execution_count": 35,
      "outputs": [
        {
          "output_type": "execute_result",
          "data": {
            "text/plain": [
              "7"
            ]
          },
          "metadata": {
            "tags": []
          },
          "execution_count": 35
        }
      ]
    },
    {
      "cell_type": "markdown",
      "metadata": {
        "id": "q5Q_HhkukUKg",
        "colab_type": "text"
      },
      "source": [
        "File Read -- *look at how to do this w/Google Drive*"
      ]
    },
    {
      "cell_type": "markdown",
      "metadata": {
        "id": "AC7SeBMBk4yC",
        "colab_type": "text"
      },
      "source": [
        "## Control Flow"
      ]
    },
    {
      "cell_type": "code",
      "metadata": {
        "id": "6z7aezvflF_H",
        "colab_type": "code",
        "colab": {
          "base_uri": "https://localhost:8080/",
          "height": 34
        },
        "outputId": "b5640951-9455-4307-d703-eae4575d202a"
      },
      "source": [
        "score = input ('Enter the score: ')"
      ],
      "execution_count": 42,
      "outputs": [
        {
          "output_type": "stream",
          "text": [
            "Enter the score: 100\n"
          ],
          "name": "stdout"
        }
      ]
    },
    {
      "cell_type": "markdown",
      "metadata": {
        "id": "k_tf6VGElb1l",
        "colab_type": "text"
      },
      "source": [
        "Need to convert user input `score` to integer before entering conditional"
      ]
    },
    {
      "cell_type": "code",
      "metadata": {
        "id": "tVHast0jlX5E",
        "colab_type": "code",
        "colab": {}
      },
      "source": [
        "score = int(score)"
      ],
      "execution_count": 0,
      "outputs": []
    },
    {
      "cell_type": "code",
      "metadata": {
        "id": "g_ZK5FNxk8CZ",
        "colab_type": "code",
        "colab": {
          "base_uri": "https://localhost:8080/",
          "height": 34
        },
        "outputId": "11897efb-0060-447d-9a89-5487770deee0"
      },
      "source": [
        "if score == 100:\n",
        "      print(\"You scored a hundred!\")\n",
        "elif score > 80:\n",
        "      print(\"You are an awesome student!\")\n",
        "else:\n",
        "      print(\"Go and study!\")"
      ],
      "execution_count": 46,
      "outputs": [
        {
          "output_type": "stream",
          "text": [
            "You scored a hundred!\n"
          ],
          "name": "stdout"
        }
      ]
    }
  ]
}